{
 "cells": [
  {
   "cell_type": "code",
   "execution_count": 8,
   "metadata": {},
   "outputs": [
    {
     "name": "stdout",
     "output_type": "stream",
     "text": [
      "Found 24 dictionaries\n",
      "Common files in the 49th-51st percentile across all dictionaries: ['file_brain_AXT2_202_2020356.h5', 'file_brain_AXT1POST_209_6001161.h5', 'file_brain_AXT2_207_2070508.h5', 'file_brain_AXT2_209_2090396.h5', 'file_brain_AXT2_202_2020361.h5', 'file_brain_AXT1POST_207_2070757.h5', 'file_brain_AXT1POST_208_2080017.h5', 'file_brain_AXT2_202_2020128.h5', 'file_brain_AXT1POST_202_6000293.h5', 'file_brain_AXT1PRE_201_6002726.h5', 'file_brain_AXT2_203_2030098.h5', 'file_brain_AXT2_200_6002031.h5', 'file_brain_AXT2_200_6001964.h5', 'file_brain_AXT2_200_6002400.h5', 'file_brain_AXT1POST_200_6002042.h5', 'file_brain_AXT1POST_207_2070125.h5', 'file_brain_AXT1POST_201_6002728.h5', 'file_brain_AXT2_207_2070018.h5', 'file_brain_AXT1POST_207_2070433.h5', 'file_brain_AXT2_209_6001043.h5', 'file_brain_AXT2_202_2020383.h5', 'file_brain_AXT2_202_2020417.h5', 'file_brain_AXT2_201_2010040.h5', 'file_brain_AXFLAIR_200_6002527.h5', 'file_brain_AXT1PRE_210_6001641.h5', 'file_brain_AXT1_201_6002775.h5', 'file_brain_AXT2_202_2020115.h5', 'file_brain_AXT1PRE_210_6001713.h5', 'file_brain_AXT1POST_202_6000516.h5', 'file_brain_AXT2_200_2000498.h5', 'file_brain_AXT2_200_2000110.h5']\n"
     ]
    }
   ],
   "source": [
    "import os\n",
    "import numpy as np\n",
    "\n",
    "def find_npy_files(start_path):\n",
    "    npy_files = []\n",
    "    for root, dirs, files in os.walk(start_path):\n",
    "        for file in files:\n",
    "            if file.startswith('ordered_file_') and file.endswith('.npy'):\n",
    "                npy_files.append(os.path.join(root, file))\n",
    "    print(f'Found {len(npy_files)} dictionaries')\n",
    "    return npy_files\n",
    "\n",
    "def load_npy_file(file_path):\n",
    "    return np.load(file_path, allow_pickle=True).item()\n",
    "\n",
    "def extract_percentile_files(dicts):\n",
    "    percentile_files = []\n",
    "    for d in dicts:\n",
    "        values = list(d.values())\n",
    "        lower_bound = np.percentile(values, 49.9)\n",
    "        upper_bound = np.percentile(values, 50.1)\n",
    "        percentile_files.extend([key for key, value in d.items() if lower_bound <= value <= upper_bound])\n",
    "    return percentile_files\n",
    "\n",
    "start_path = '/usr/local/micapollo01/MIC/DATA/STUDENTS/mvhave7/Results/StatisticalAnalyses/MetricHistograms'\n",
    "npy_files = find_npy_files(start_path)\n",
    "dicts = [load_npy_file(file) for file in npy_files]\n",
    "percentile_files = extract_percentile_files(dicts)\n",
    "common_files = list(set(percentile_files))\n",
    "\n",
    "print(\"Common files in the 49th-51st percentile across all dictionaries:\", common_files)\n"
   ]
  }
 ],
 "metadata": {
  "kernelspec": {
   "display_name": "DL_MRI_reconstruction",
   "language": "python",
   "name": "python3"
  },
  "language_info": {
   "codemirror_mode": {
    "name": "ipython",
    "version": 3
   },
   "file_extension": ".py",
   "mimetype": "text/x-python",
   "name": "python",
   "nbconvert_exporter": "python",
   "pygments_lexer": "ipython3",
   "version": "3.6.15"
  }
 },
 "nbformat": 4,
 "nbformat_minor": 2
}
