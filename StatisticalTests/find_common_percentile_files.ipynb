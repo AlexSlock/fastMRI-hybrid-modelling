{
 "cells": [
  {
   "cell_type": "code",
   "execution_count": 13,
   "metadata": {},
   "outputs": [
    {
     "name": "stdout",
     "output_type": "stream",
     "text": [
      "Found 6 dictionaries\n",
      "Common files in the 49th-51st percentile across all dictionaries: ['file_brain_AXT2_205_6000092.h5', 'file_brain_AXT2_207_2070312.h5', 'file_brain_AXT2_200_2000234.h5', 'file_brain_AXT2_200_6002514.h5', 'file_brain_AXT2_200_6002647.h5', 'file_brain_AXT2_203_2030041.h5', 'file_brain_AXT1POST_203_6000625.h5', 'file_brain_AXT2_210_6001948.h5', 'file_brain_AXT2_207_2070797.h5', 'file_brain_AXT1POST_207_2070433.h5', 'file_brain_AXT2_209_6001143.h5', 'file_brain_AXFLAIR_202_6000444.h5', 'file_brain_AXT2_207_2070814.h5', 'file_brain_AXT1_202_2020553.h5', 'file_brain_AXT2_209_6001475.h5', 'file_brain_AXT2_200_6002643.h5', 'file_brain_AXFLAIR_209_6001379.h5', 'file_brain_AXFLAIR_202_6000578.h5', 'file_brain_AXT2_207_2070710.h5', 'file_brain_AXT2_206_6000239.h5', 'file_brain_AXT2_210_2100405.h5', 'file_brain_AXT2_210_6001573.h5', 'file_brain_AXT2_210_6001902.h5', 'file_brain_AXT2_202_2020425.h5', 'file_brain_AXT2_208_2080121.h5', 'file_brain_AXT2_209_6000980.h5', 'file_brain_AXT1POST_205_2050248.h5', 'file_brain_AXT2_207_2070385.h5', 'file_brain_AXT2_205_2050152.h5', 'file_brain_AXT2_208_2080428.h5', 'file_brain_AXT1POST_200_6002042.h5', 'file_brain_AXT1POST_208_2080293.h5', 'file_brain_AXT2_207_2070783.h5', 'file_brain_AXT2_208_2080149.h5', 'file_brain_AXT1POST_207_2070334.h5', 'file_brain_AXT2_207_2070264.h5', 'file_brain_AXT1POST_203_6000604.h5', 'file_brain_AXT1POST_207_2070112.h5', 'file_brain_AXFLAIR_200_6002564.h5', 'file_brain_AXT2_209_6001390.h5', 'file_brain_AXT1PRE_203_6000681.h5', 'file_brain_AXT1POST_201_6002764.h5', 'file_brain_AXT2_207_2070475.h5', 'file_brain_AXT1PRE_210_6001713.h5', 'file_brain_AXT2_204_2040093.h5', 'file_brain_AXT2_208_2080515.h5']\n"
     ]
    }
   ],
   "source": [
    "import os\n",
    "import numpy as np\n",
    "\n",
    "def find_npy_files(start_path):\n",
    "    npy_files = []\n",
    "    for root, dirs, files in os.walk(start_path):\n",
    "        if os.path.basename(root) == 'SVD':\n",
    "            for file in files:\n",
    "                if file.startswith('ordered_file_') and file.endswith('.npy'):\n",
    "                    npy_files.append(os.path.join(root, file))\n",
    "    print(f'Found {len(npy_files)} dictionaries')\n",
    "    return npy_files\n",
    "\n",
    "def load_npy_file(file_path):\n",
    "    return np.load(file_path, allow_pickle=True).item()\n",
    "\n",
    "def extract_percentile_files(dicts):\n",
    "    percentile_files = []\n",
    "    for d in dicts:\n",
    "        values = list(d.values())\n",
    "        lower_bound = np.percentile(values, 49)\n",
    "        upper_bound = np.percentile(values, 51)\n",
    "        percentile_files.extend([key for key, value in d.items() if lower_bound <= value <= upper_bound])\n",
    "    return percentile_files\n",
    "\n",
    "start_path = '/usr/local/micapollo01/MIC/DATA/STUDENTS/mvhave7/Results/StatisticalAnalyses/MetricHistograms'\n",
    "npy_files = find_npy_files(start_path)\n",
    "dicts = [load_npy_file(file) for file in npy_files]\n",
    "percentile_files = extract_percentile_files(dicts)\n",
    "common_files = list(set(percentile_files))\n",
    "\n",
    "print(\"Common files in the 49th-51st percentile across all dictionaries:\", common_files)\n"
   ]
  },
  {
   "cell_type": "code",
   "execution_count": 11,
   "metadata": {},
   "outputs": [
    {
     "name": "stdout",
     "output_type": "stream",
     "text": [
      "Found 6 dictionaries\n",
      "Common files in the 24th-26th percentile across all dictionaries: ['file_brain_AXT2_203_2030055.h5', 'file_brain_AXT2_202_2020533.h5', 'file_brain_AXT1POST_203_6000718.h5', 'file_brain_AXT1POST_210_6001676.h5', 'file_brain_AXT2_200_6002400.h5', 'file_brain_AXT2_200_2000158.h5', 'file_brain_AXT2_209_6001021.h5', 'file_brain_AXT1POST_209_6001239.h5', 'file_brain_AXT2_207_2070215.h5', 'file_brain_AXT1POST_208_2080410.h5', 'file_brain_AXT1PRE_210_6001641.h5', 'file_brain_AXT2_207_2070727.h5', 'file_brain_AXT2_210_6001812.h5', 'file_brain_AXT1_202_2020433.h5', 'file_brain_AXFLAIR_210_6001516.h5', 'file_brain_AXT2_205_2050105.h5', 'file_brain_AXT2_200_2000534.h5', 'file_brain_AXT2_200_6002333.h5', 'file_brain_AXT1POST_207_2070125.h5', 'file_brain_AXT2_203_2030379.h5', 'file_brain_AXT2_201_2010405.h5', 'file_brain_AXT2_208_2080517.h5', 'file_brain_AXT2_210_6001718.h5', 'file_brain_AXT2_208_2080121.h5', 'file_brain_AXT2_200_2000304.h5', 'file_brain_AXT1POST_201_6002754.h5', 'file_brain_AXT2_206_6000244.h5', 'file_brain_AXT1POST_203_6000766.h5', 'file_brain_AXT2_201_2010450.h5', 'file_brain_AXT2_210_6001560.h5', 'file_brain_AXT1POST_207_2070647.h5', 'file_brain_AXT1POST_208_2080480.h5', 'file_brain_AXT2_208_2080177.h5', 'file_brain_AXT2_209_6001155.h5', 'file_brain_AXFLAIR_200_6002480.h5', 'file_brain_AXT2_207_2070469.h5', 'file_brain_AXT1POST_208_2080183.h5', 'file_brain_AXT2_200_6002049.h5', 'file_brain_AXT2_208_2080515.h5', 'file_brain_AXT2_208_2080588.h5', 'file_brain_AXT2_200_6002161.h5', 'file_brain_AXT1POST_207_2070705.h5', 'file_brain_AXT2_210_6001601.h5', 'file_brain_AXFLAIR_210_6001507.h5']\n"
     ]
    }
   ],
   "source": [
    "import os\n",
    "import numpy as np\n",
    "\n",
    "def find_npy_files(start_path):\n",
    "    npy_files = []\n",
    "    for root, dirs, files in os.walk(start_path):\n",
    "        if os.path.basename(root) == 'SVD':\n",
    "            for file in files:\n",
    "                if file.startswith('ordered_file_') and file.endswith('.npy'):\n",
    "                    npy_files.append(os.path.join(root, file))\n",
    "    print(f'Found {len(npy_files)} dictionaries')\n",
    "    return npy_files\n",
    "\n",
    "def load_npy_file(file_path):\n",
    "    return np.load(file_path, allow_pickle=True).item()\n",
    "\n",
    "def extract_percentile_files(dicts):\n",
    "    percentile_files = []\n",
    "    for d in dicts:\n",
    "        values = list(d.values())\n",
    "        lower_bound = np.percentile(values, 24)\n",
    "        upper_bound = np.percentile(values, 26)\n",
    "        percentile_files.extend([key for key, value in d.items() if lower_bound <= value <= upper_bound])\n",
    "    return percentile_files\n",
    "\n",
    "start_path = '/usr/local/micapollo01/MIC/DATA/STUDENTS/mvhave7/Results/StatisticalAnalyses/MetricHistograms'\n",
    "npy_files = find_npy_files(start_path)\n",
    "dicts = [load_npy_file(file) for file in npy_files]\n",
    "percentile_files = extract_percentile_files(dicts)\n",
    "common_files = list(set(percentile_files))\n",
    "\n",
    "print(\"Common files in the 24th-26th percentile across all dictionaries:\", common_files)\n"
   ]
  },
  {
   "cell_type": "code",
   "execution_count": 12,
   "metadata": {},
   "outputs": [
    {
     "name": "stdout",
     "output_type": "stream",
     "text": [
      "Found 6 dictionaries\n",
      "Common files in the 74th-76th percentile across all dictionaries: ['file_brain_AXT2_209_2090201.h5', 'file_brain_AXT2_209_2090050.h5', 'file_brain_AXT2_200_2000234.h5', 'file_brain_AXT2_209_2090100.h5', 'file_brain_AXT2_209_2090241.h5', 'file_brain_AXFLAIR_210_6001949.h5', 'file_brain_AXT2_209_6001426.h5', 'file_brain_AXT2_209_6001073.h5', 'file_brain_AXT1_201_6002775.h5', 'file_brain_AXT2_203_2030041.h5', 'file_brain_AXT2_209_6001043.h5', 'file_brain_AXT2_200_6002339.h5', 'file_brain_AXT2_209_2090343.h5', 'file_brain_AXT2_200_6002602.h5', 'file_brain_AXT2_201_2010096.h5', 'file_brain_AXT2_200_2000227.h5', 'file_brain_AXT2_200_2000271.h5', 'file_brain_AXT2_207_2070376.h5', 'file_brain_AXT2_209_2090032.h5', 'file_brain_AXT2_209_6001056.h5', 'file_brain_AXT2_209_6001295.h5', 'file_brain_AXT2_208_2080360.h5', 'file_brain_AXT2_208_2080517.h5', 'file_brain_AXT1PRE_203_6000742.h5', 'file_brain_AXT2_209_6001083.h5', 'file_brain_AXFLAIR_201_6002986.h5', 'file_brain_AXT2_200_2000498.h5', 'file_brain_AXT2_200_6002623.h5', 'file_brain_AXT1POST_207_2070334.h5', 'file_brain_AXT1POST_207_2070787.h5', 'file_brain_AXT2_209_6001154.h5', 'file_brain_AXT2_200_2000046.h5', 'file_brain_AXT2_210_2100061.h5', 'file_brain_AXT2_209_6001390.h5', 'file_brain_AXT2_209_6001287.h5', 'file_brain_AXT2_200_6002283.h5', 'file_brain_AXT2_200_2000087.h5', 'file_brain_AXT1POST_203_6000630.h5', 'file_brain_AXT2_201_2010135.h5', 'file_brain_AXFLAIR_201_6002990.h5', 'file_brain_AXT2_200_6002431.h5', 'file_brain_AXT2_204_2040093.h5', 'file_brain_AXT2_201_2010597.h5', 'file_brain_AXT2_208_2080096.h5']\n"
     ]
    }
   ],
   "source": [
    "import os\n",
    "import numpy as np\n",
    "\n",
    "def find_npy_files(start_path):\n",
    "    npy_files = []\n",
    "    for root, dirs, files in os.walk(start_path):\n",
    "        if os.path.basename(root) == 'SVD':\n",
    "            for file in files:\n",
    "                if file.startswith('ordered_file_') and file.endswith('.npy'):\n",
    "                    npy_files.append(os.path.join(root, file))\n",
    "    print(f'Found {len(npy_files)} dictionaries')\n",
    "    return npy_files\n",
    "\n",
    "def load_npy_file(file_path):\n",
    "    return np.load(file_path, allow_pickle=True).item()\n",
    "\n",
    "def extract_percentile_files(dicts):\n",
    "    percentile_files = []\n",
    "    for d in dicts:\n",
    "        values = list(d.values())\n",
    "        lower_bound = np.percentile(values, 74)\n",
    "        upper_bound = np.percentile(values, 76)\n",
    "        percentile_files.extend([key for key, value in d.items() if lower_bound <= value <= upper_bound])\n",
    "    return percentile_files\n",
    "\n",
    "start_path = '/usr/local/micapollo01/MIC/DATA/STUDENTS/mvhave7/Results/StatisticalAnalyses/MetricHistograms'\n",
    "npy_files = find_npy_files(start_path)\n",
    "dicts = [load_npy_file(file) for file in npy_files]\n",
    "percentile_files = extract_percentile_files(dicts)\n",
    "common_files = list(set(percentile_files))\n",
    "\n",
    "print(\"Common files in the 74th-76th percentile across all dictionaries:\", common_files)\n"
   ]
  }
 ],
 "metadata": {
  "kernelspec": {
   "display_name": "DL_MRI_reconstruction",
   "language": "python",
   "name": "python3"
  },
  "language_info": {
   "codemirror_mode": {
    "name": "ipython",
    "version": 3
   },
   "file_extension": ".py",
   "mimetype": "text/x-python",
   "name": "python",
   "nbconvert_exporter": "python",
   "pygments_lexer": "ipython3",
   "version": "3.6.15"
  }
 },
 "nbformat": 4,
 "nbformat_minor": 2
}
