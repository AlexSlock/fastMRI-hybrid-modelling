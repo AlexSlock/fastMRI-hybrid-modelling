{
 "cells": [
  {
   "cell_type": "markdown",
   "id": "e8d0dff0",
   "metadata": {},
   "source": [
    "# TESTING OF DATA/BART PATHS IN DATA LOADING PIPELINE"
   ]
  },
  {
   "cell_type": "markdown",
   "id": "046936d7",
   "metadata": {},
   "source": [
    "Use baselines not baselines_2"
   ]
  },
  {
   "cell_type": "code",
   "execution_count": 1,
   "id": "da688222",
   "metadata": {},
   "outputs": [
    {
     "name": "stdout",
     "output_type": "stream",
     "text": [
      "Using data path: /DATASERVER/MIC/SHARED/NYU_FastMRI\n",
      "Using bart path: /DATASERVER/MIC/GENERAL/STUDENTS/aslock2/Preprocessed_CS\n",
      "Using log path: /DATASERVER/MIC/GENERAL/STUDENTS/aslock2/logs/CSUNet\n"
     ]
    }
   ],
   "source": [
    "import pathlib\n",
    "from pathlib import Path\n",
    "import os\n",
    "from typing import Union\n",
    "import yaml\n",
    "from warnings import warn\n",
    "\n",
    "def fetch_dir(\n",
    "    key: str, data_config_file: Union[str, Path, os.PathLike] = \"fastmri_dirs.yaml\"\n",
    ") -> Path:\n",
    "    \"\"\"\n",
    "    Data directory fetcher.\n",
    "\n",
    "    This is a brute-force simple way to configure data directories for a\n",
    "    project. Simply overwrite the variables for `knee_path` and `brain_path`\n",
    "    and this function will retrieve the requested subsplit of the data for use.\n",
    "\n",
    "    Args:\n",
    "        key: key to retrieve path from data_config_file. Expected to be in\n",
    "            (\"knee_path\", \"brain_path\", \"log_path\").\n",
    "        data_config_file: Optional; Default path config file to fetch path\n",
    "            from.\n",
    "\n",
    "    Returns:\n",
    "        The path to the specified directory.\n",
    "    \"\"\"\n",
    "    data_config_file = Path(data_config_file)\n",
    "    if not data_config_file.is_file():\n",
    "        default_config = {  \n",
    "            \"bart_path\": \"/path/to/bart\", # ADDED (but should always be defined...)\n",
    "            \"data_path\": \"/path/to/NYU_FastMRI\", # ADDED\n",
    "            \"log_path\": \".\",\n",
    "        }\n",
    "        with open(data_config_file, \"w\") as f:\n",
    "            yaml.dump(default_config, f)\n",
    "\n",
    "        data_dir = default_config[key]\n",
    "\n",
    "        warn(\n",
    "            f\"Path config at {data_config_file.resolve()} does not exist. \"\n",
    "            \"A template has been created for you. \"\n",
    "            \"Please enter the directory paths for your system to have defaults.\"\n",
    "        )\n",
    "    else:\n",
    "        with open(data_config_file, \"r\") as f:\n",
    "            data_dir = yaml.safe_load(f)[key]\n",
    "\n",
    "    return Path(data_dir)\n",
    "\n",
    "path_config = pathlib.Path(\"fastmri_dirs.yaml\")\n",
    "# set defaults based on optional directory config  \n",
    "data_path = fetch_dir(\"data_path\", path_config) # /path/to/NYU_fastMRI\n",
    "bart_path = fetch_dir(\"bart_path\", path_config) # ADDED\n",
    "default_root_dir = fetch_dir(\"log_path\", path_config)\n",
    "print(f\"Using data path: {data_path}\")\n",
    "print(f\"Using bart path: {bart_path}\")\n",
    "print(f\"Using log path: {default_root_dir}\")\n",
    "\n"
   ]
  },
  {
   "cell_type": "markdown",
   "id": "d4a234a7",
   "metadata": {},
   "source": [
    "PreprocessedUnet.py"
   ]
  },
  {
   "cell_type": "code",
   "execution_count": 2,
   "id": "be51e9b1",
   "metadata": {},
   "outputs": [
    {
     "name": "stderr",
     "output_type": "stream",
     "text": [
      "/DATASERVER/MIC/GENERAL/STUDENTS/aslock2/conda/envs/DL_MRI_reconstruction_baselines/lib/python3.8/site-packages/tqdm/auto.py:21: TqdmWarning: IProgress not found. Please update jupyter and ipywidgets. See https://ipywidgets.readthedocs.io/en/stable/user_install.html\n",
      "  from .autonotebook import tqdm as notebook_tqdm\n"
     ]
    }
   ],
   "source": [
    "import pytorch_lightning as pl\n",
    "from fastmri.data.mri_data import fetch_dir\n",
    "from preprocessed_transforms import UnetDataTransform\n",
    "from modified_unet_module import UnetModule\n",
    "from preprocessed_data_module import FastMriDataModule\n",
    "\n",
    "train_transform = UnetDataTransform(\"multicoil\")\n",
    "val_transform = UnetDataTransform(\"multicoil\")\n",
    "test_transform = UnetDataTransform(\"multicoil\")\n",
    "# ptl data module - this handles data loaders\n",
    "data_module = FastMriDataModule(\n",
    "    data_path=data_path,\n",
    "    bart_path=bart_path, # added\n",
    "    challenge=\"multicoil\",\n",
    "    train_transform=train_transform,\n",
    "    val_transform=val_transform,\n",
    "    test_transform=test_transform,\n",
    "    batch_size=1,\n",
    "    num_workers=4,\n",
    "    distributed_sampler=\"ddp_cpu\",\n",
    "    )\n",
    "\n"
   ]
  },
  {
   "cell_type": "markdown",
   "id": "9fd82b86",
   "metadata": {},
   "source": [
    "data_module.py"
   ]
  },
  {
   "cell_type": "code",
   "execution_count": 6,
   "id": "f0e62d53",
   "metadata": {},
   "outputs": [
    {
     "name": "stdout",
     "output_type": "stream",
     "text": [
      "Found original file: /DATASERVER/MIC/SHARED/NYU_FastMRI/Knee/multicoil_train/file1000001.h5\n",
      "Found original file: /DATASERVER/MIC/SHARED/NYU_FastMRI/Knee/multicoil_train/file1000002.h5\n",
      "Found original file: /DATASERVER/MIC/SHARED/NYU_FastMRI/Knee/multicoil_train/file1000003.h5\n",
      "Found original file: /DATASERVER/MIC/SHARED/NYU_FastMRI/Knee/multicoil_train/file1000005.h5\n",
      "Found original file: /DATASERVER/MIC/SHARED/NYU_FastMRI/Knee/multicoil_train/file1000010.h5\n",
      "Found original file: /DATASERVER/MIC/SHARED/NYU_FastMRI/Knee/multicoil_train/file1000012.h5\n",
      "Found original file: /DATASERVER/MIC/SHARED/NYU_FastMRI/Knee/multicoil_train/file1000015.h5\n",
      "Found original file: /DATASERVER/MIC/SHARED/NYU_FastMRI/Knee/multicoil_train/file1000021.h5\n",
      "Found original file: /DATASERVER/MIC/SHARED/NYU_FastMRI/Knee/multicoil_train/file1000023.h5\n",
      "Found original file: /DATASERVER/MIC/SHARED/NYU_FastMRI/Knee/multicoil_train/file1000027.h5\n",
      "Found original file: /DATASERVER/MIC/SHARED/NYU_FastMRI/Knee/multicoil_train/file1000029.h5\n",
      "Found original file: /DATASERVER/MIC/SHARED/NYU_FastMRI/Knee/multicoil_train/file1000032.h5\n",
      "Found original file: /DATASERVER/MIC/SHARED/NYU_FastMRI/Knee/multicoil_train/file1000039.h5\n",
      "Found original file: /DATASERVER/MIC/SHARED/NYU_FastMRI/Knee/multicoil_train/file1000040.h5\n",
      "Found original file: /DATASERVER/MIC/SHARED/NYU_FastMRI/Knee/multicoil_train/file1000043.h5\n",
      "Found original file: /DATASERVER/MIC/SHARED/NYU_FastMRI/Knee/multicoil_train/file1000045.h5\n",
      "Found original file: /DATASERVER/MIC/SHARED/NYU_FastMRI/Knee/multicoil_train/file1000048.h5\n",
      "Found original file: /DATASERVER/MIC/SHARED/NYU_FastMRI/Knee/multicoil_train/file1000053.h5\n",
      "Found original file: /DATASERVER/MIC/SHARED/NYU_FastMRI/Knee/multicoil_train/file1000057.h5\n",
      "Found original file: /DATASERVER/MIC/SHARED/NYU_FastMRI/Knee/multicoil_train/file1000058.h5\n",
      "Found original file: /DATASERVER/MIC/SHARED/NYU_FastMRI/Knee/multicoil_train/file1000059.h5\n",
      "Found original file: /DATASERVER/MIC/SHARED/NYU_FastMRI/Knee/multicoil_train/file1000060.h5\n",
      "Found original file: /DATASERVER/MIC/SHARED/NYU_FastMRI/Knee/multicoil_train/file1000061.h5\n",
      "Found original file: /DATASERVER/MIC/SHARED/NYU_FastMRI/Knee/multicoil_train/file1000064.h5\n",
      "Found original file: /DATASERVER/MIC/SHARED/NYU_FastMRI/Knee/multicoil_train/file1000065.h5\n",
      "Found original file: /DATASERVER/MIC/SHARED/NYU_FastMRI/Knee/multicoil_train/file1000066.h5\n",
      "Found original file: /DATASERVER/MIC/SHARED/NYU_FastMRI/Knee/multicoil_train/file1000069.h5\n",
      "Found original file: /DATASERVER/MIC/SHARED/NYU_FastMRI/Knee/multicoil_train/file1000070.h5\n",
      "Found original file: /DATASERVER/MIC/SHARED/NYU_FastMRI/Knee/multicoil_train/file1000075.h5\n",
      "Found original file: /DATASERVER/MIC/SHARED/NYU_FastMRI/Knee/multicoil_train/file1000081.h5\n",
      "Found original file: /DATASERVER/MIC/SHARED/NYU_FastMRI/Knee/multicoil_train/file1000084.h5\n",
      "Found original file: /DATASERVER/MIC/SHARED/NYU_FastMRI/Knee/multicoil_train/file1000085.h5\n",
      "Found original file: /DATASERVER/MIC/SHARED/NYU_FastMRI/Knee/multicoil_train/file1000086.h5\n",
      "Found original file: /DATASERVER/MIC/SHARED/NYU_FastMRI/Knee/multicoil_train/file1000088.h5\n",
      "Found original file: /DATASERVER/MIC/SHARED/NYU_FastMRI/Knee/multicoil_train/file1000089.h5\n",
      "Found original file: /DATASERVER/MIC/SHARED/NYU_FastMRI/Knee/multicoil_train/file1000090.h5\n",
      "Found original file: /DATASERVER/MIC/SHARED/NYU_FastMRI/Knee/multicoil_train/file1000094.h5\n",
      "Found original file: /DATASERVER/MIC/SHARED/NYU_FastMRI/Knee/multicoil_train/file1000097.h5\n",
      "Found original file: /DATASERVER/MIC/SHARED/NYU_FastMRI/Knee/multicoil_train/file1000098.h5\n",
      "Found original file: /DATASERVER/MIC/SHARED/NYU_FastMRI/Knee/multicoil_train/file1000100.h5\n",
      "Found original file: /DATASERVER/MIC/SHARED/NYU_FastMRI/Knee/multicoil_train/file1000101.h5\n",
      "Found original file: /DATASERVER/MIC/SHARED/NYU_FastMRI/Knee/multicoil_train/file1000109.h5\n",
      "Found original file: /DATASERVER/MIC/SHARED/NYU_FastMRI/Knee/multicoil_train/file1000111.h5\n",
      "Found original file: /DATASERVER/MIC/SHARED/NYU_FastMRI/Knee/multicoil_train/file1000115.h5\n",
      "Found original file: /DATASERVER/MIC/SHARED/NYU_FastMRI/Knee/multicoil_train/file1000116.h5\n",
      "Found original file: /DATASERVER/MIC/SHARED/NYU_FastMRI/Knee/multicoil_train/file1000117.h5\n",
      "Found original file: /DATASERVER/MIC/SHARED/NYU_FastMRI/Knee/multicoil_train/file1000120.h5\n",
      "Found original file: /DATASERVER/MIC/SHARED/NYU_FastMRI/Knee/multicoil_train/file1000123.h5\n",
      "Found original file: /DATASERVER/MIC/SHARED/NYU_FastMRI/Knee/multicoil_train/file1000125.h5\n",
      "Found original file: /DATASERVER/MIC/SHARED/NYU_FastMRI/Knee/multicoil_train/file1000127.h5\n",
      "Found original file: /DATASERVER/MIC/SHARED/NYU_FastMRI/Knee/multicoil_train/file1000129.h5\n",
      "Found original file: /DATASERVER/MIC/SHARED/NYU_FastMRI/Knee/multicoil_train/file1000131.h5\n",
      "Found original file: /DATASERVER/MIC/SHARED/NYU_FastMRI/Knee/multicoil_train/file1000138.h5\n",
      "Found original file: /DATASERVER/MIC/SHARED/NYU_FastMRI/Knee/multicoil_train/file1000141.h5\n",
      "Found original file: /DATASERVER/MIC/SHARED/NYU_FastMRI/Knee/multicoil_train/file1000142.h5\n",
      "Found original file: /DATASERVER/MIC/SHARED/NYU_FastMRI/Knee/multicoil_train/file1000143.h5\n",
      "Found original file: /DATASERVER/MIC/SHARED/NYU_FastMRI/Knee/multicoil_train/file1000148.h5\n",
      "Found original file: /DATASERVER/MIC/SHARED/NYU_FastMRI/Knee/multicoil_train/file1000149.h5\n",
      "Found original file: /DATASERVER/MIC/SHARED/NYU_FastMRI/Knee/multicoil_train/file1000154.h5\n",
      "Found original file: /DATASERVER/MIC/SHARED/NYU_FastMRI/Knee/multicoil_train/file1000159.h5\n",
      "Found original file: /DATASERVER/MIC/SHARED/NYU_FastMRI/Knee/multicoil_train/file1000161.h5\n",
      "Found original file: /DATASERVER/MIC/SHARED/NYU_FastMRI/Knee/multicoil_train/file1000167.h5\n",
      "Found original file: /DATASERVER/MIC/SHARED/NYU_FastMRI/Knee/multicoil_train/file1000170.h5\n",
      "Found original file: /DATASERVER/MIC/SHARED/NYU_FastMRI/Knee/multicoil_train/file1000172.h5\n",
      "Found original file: /DATASERVER/MIC/SHARED/NYU_FastMRI/Knee/multicoil_train/file1000173.h5\n",
      "Found original file: /DATASERVER/MIC/SHARED/NYU_FastMRI/Knee/multicoil_train/file1000176.h5\n",
      "Found original file: /DATASERVER/MIC/SHARED/NYU_FastMRI/Knee/multicoil_train/file1000177.h5\n",
      "Found original file: /DATASERVER/MIC/SHARED/NYU_FastMRI/Knee/multicoil_train/file1000179.h5\n",
      "Found original file: /DATASERVER/MIC/SHARED/NYU_FastMRI/Knee/multicoil_train/file1000180.h5\n",
      "Found original file: /DATASERVER/MIC/SHARED/NYU_FastMRI/Knee/multicoil_train/file1000181.h5\n",
      "Found original file: /DATASERVER/MIC/SHARED/NYU_FastMRI/Knee/multicoil_train/file1000185.h5\n",
      "Found original file: /DATASERVER/MIC/SHARED/NYU_FastMRI/Knee/multicoil_train/file1000188.h5\n",
      "Found original file: /DATASERVER/MIC/SHARED/NYU_FastMRI/Knee/multicoil_train/file1000191.h5\n",
      "Found original file: /DATASERVER/MIC/SHARED/NYU_FastMRI/Knee/multicoil_train/file1000193.h5\n",
      "Found original file: /DATASERVER/MIC/SHARED/NYU_FastMRI/Knee/multicoil_train/file1000195.h5\n",
      "Found original file: /DATASERVER/MIC/SHARED/NYU_FastMRI/Knee/multicoil_train/file1000198.h5\n",
      "Found original file: /DATASERVER/MIC/SHARED/NYU_FastMRI/Knee/multicoil_train/file1000199.h5\n",
      "Found original file: /DATASERVER/MIC/SHARED/NYU_FastMRI/Knee/multicoil_train/file1000200.h5\n",
      "Found original file: /DATASERVER/MIC/SHARED/NYU_FastMRI/Knee/multicoil_train/file1000204.h5\n",
      "Found original file: /DATASERVER/MIC/SHARED/NYU_FastMRI/Knee/multicoil_train/file1000205.h5\n",
      "Found original file: /DATASERVER/MIC/SHARED/NYU_FastMRI/Knee/multicoil_train/file1000207.h5\n",
      "Found original file: /DATASERVER/MIC/SHARED/NYU_FastMRI/Knee/multicoil_train/file1000208.h5\n",
      "Found original file: /DATASERVER/MIC/SHARED/NYU_FastMRI/Knee/multicoil_train/file1000210.h5\n",
      "Found original file: /DATASERVER/MIC/SHARED/NYU_FastMRI/Knee/multicoil_train/file1000211.h5\n",
      "Found original file: /DATASERVER/MIC/SHARED/NYU_FastMRI/Knee/multicoil_train/file1000213.h5\n",
      "Found original file: /DATASERVER/MIC/SHARED/NYU_FastMRI/Knee/multicoil_train/file1000216.h5\n",
      "Found original file: /DATASERVER/MIC/SHARED/NYU_FastMRI/Knee/multicoil_train/file1000220.h5\n",
      "Found original file: /DATASERVER/MIC/SHARED/NYU_FastMRI/Knee/multicoil_train/file1000221.h5\n",
      "Found original file: /DATASERVER/MIC/SHARED/NYU_FastMRI/Knee/multicoil_train/file1000222.h5\n",
      "Found original file: /DATASERVER/MIC/SHARED/NYU_FastMRI/Knee/multicoil_train/file1000223.h5\n",
      "Found original file: /DATASERVER/MIC/SHARED/NYU_FastMRI/Knee/multicoil_train/file1000224.h5\n",
      "Found original file: /DATASERVER/MIC/SHARED/NYU_FastMRI/Knee/multicoil_train/file1000225.h5\n",
      "Found original file: /DATASERVER/MIC/SHARED/NYU_FastMRI/Knee/multicoil_train/file1000231.h5\n",
      "Found original file: /DATASERVER/MIC/SHARED/NYU_FastMRI/Knee/multicoil_train/file1000233.h5\n",
      "Found original file: /DATASERVER/MIC/SHARED/NYU_FastMRI/Knee/multicoil_train/file1001008.h5\n",
      "Found original file: /DATASERVER/MIC/SHARED/NYU_FastMRI/Knee/multicoil_train/file1001285.h5\n",
      "Found original file: /DATASERVER/MIC/SHARED/NYU_FastMRI/Knee/multicoil_train/file1001295.h5\n",
      "Found original file: /DATASERVER/MIC/SHARED/NYU_FastMRI/Knee/multicoil_train/file1001931.h5\n",
      "Found original file: /DATASERVER/MIC/SHARED/NYU_FastMRI/Knee/multicoil_train/file1001949.h5\n",
      "Found original file: /DATASERVER/MIC/SHARED/NYU_FastMRI/Preprocessed/multicoil_train/file_brain_AXT1POST_207_2070457.h5\n",
      "Found original file: /DATASERVER/MIC/SHARED/NYU_FastMRI/Preprocessed/multicoil_train/file_brain_AXT1POST_207_2070619.h5\n",
      "Found original file: /DATASERVER/MIC/SHARED/NYU_FastMRI/Preprocessed/multicoil_train/file_brain_AXT1POST_207_2070631.h5\n",
      "Found original file: /DATASERVER/MIC/SHARED/NYU_FastMRI/Preprocessed/multicoil_train/file_brain_AXT1PRE_200_6002164.h5\n",
      "Found original file: /DATASERVER/MIC/SHARED/NYU_FastMRI/Preprocessed/multicoil_train/file_brain_AXT1PRE_200_6002399.h5\n"
     ]
    }
   ],
   "source": [
    "root = data_path / \"multicoil_val\" \n",
    "bart_path_train = bart_path / \"multicoil_val\"\n",
    "files = list(Path(bart_path_train).iterdir()) \n",
    "for fname_cs in sorted(files): # now you iterate over BART output sets (train/val/test)\n",
    "    ## get original root/fname.h5 back so you can still load all data!\n",
    "    # first get fname\n",
    "    fname_stem = fname_cs.stem \n",
    "    fname_stem = fname_stem.replace(\"_cs\", \"\") \n",
    "    # get brain or knee folder\n",
    "    if \"brain\" in str(fname_stem):\n",
    "        # root now looks like /path/to/NYU_FastMRI/multicoil_...\n",
    "        folder = Path(root).parent / \"Preprocessed/\" \n",
    "    else:\n",
    "        folder = Path(root).parent/ \"Knee/\" \n",
    "    # since BART train/val/test set is different from original fastmri one \n",
    "    # need to check all folders of fastmri!!\n",
    "    for subset in [\"multicoil_train\", \"multicoil_val\", \"multicoil_test\"]:\n",
    "        folder_sub = folder / subset\n",
    "        fname = folder_sub / (fname_stem + \".h5\")\n",
    "        if fname.exists():\n",
    "            print(f\"Found original file: {fname}\")\n",
    "            break                       \n",
    "    assert fname.exists(), f\"Original file not found: {fname}\" # for debugging\n",
    "    ## \n"
   ]
  },
  {
   "cell_type": "code",
   "execution_count": 12,
   "id": "9f8787fd",
   "metadata": {},
   "outputs": [
    {
     "name": "stdout",
     "output_type": "stream",
     "text": [
      " BART file: file_brain_AXT1PRE_200_6002399_cs.npy\n"
     ]
    }
   ],
   "source": [
    "\n",
    "bart_fname = Path(fname).name.replace('.h5', '_cs.npy')\n",
    "print(f\" BART file: {bart_fname}\")\n"
   ]
  },
  {
   "cell_type": "markdown",
   "id": "91625c81",
   "metadata": {},
   "source": [
    "mri_data.py"
   ]
  },
  {
   "cell_type": "code",
   "execution_count": 13,
   "id": "3b87a9ad",
   "metadata": {},
   "outputs": [],
   "source": [
    "from preprocessed_mri_data import SliceDataset, CombinedSliceDataset\n",
    "data_path_train = data_path / \"multicoil_train\"\n",
    "bart_path_train = bart_path / \"multicoil_train\"\n",
    "dataset = SliceDataset(\n",
    "    root=data_path_train,\n",
    "    bart_path= bart_path_train, # ADDED\n",
    "    transform=val_transform,\n",
    "    challenge=\"multicoil\",\n",
    ")\n",
    "\n",
    "challenge=\"multicoil\"\n",
    "data_paths = [\n",
    "    data_path / f\"{challenge}_train\",  # multicoil_train\n",
    "    data_path / f\"{challenge}_val\",    # multicoil_val\n",
    "]\n",
    "# POINT TO BART RECONSTRUCTIONS where train/val/test division should be done\n",
    "bart_paths = [\n",
    "    bart_path / \"multicoil_train\",  \n",
    "    bart_path / \"multicoil_val\",    \n",
    "]\n",
    "data_transforms = [train_transform, val_transform]\n",
    "challenges = [challenge, challenge]\n",
    "\n",
    "dataset = CombinedSliceDataset(\n",
    "    roots=data_paths,\n",
    "    bart_paths= bart_paths, # ADDED\n",
    "    transforms=data_transforms,\n",
    "    challenges=challenges,\n",
    ")"
   ]
  }
 ],
 "metadata": {
  "kernelspec": {
   "display_name": "DL_MRI_reconstruction_baselines",
   "language": "python",
   "name": "python3"
  },
  "language_info": {
   "codemirror_mode": {
    "name": "ipython",
    "version": 3
   },
   "file_extension": ".py",
   "mimetype": "text/x-python",
   "name": "python",
   "nbconvert_exporter": "python",
   "pygments_lexer": "ipython3",
   "version": "3.8.13"
  }
 },
 "nbformat": 4,
 "nbformat_minor": 5
}
