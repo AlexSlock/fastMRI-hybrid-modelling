{
 "cells": [
  {
   "cell_type": "code",
   "execution_count": 29,
   "metadata": {},
   "outputs": [],
   "source": [
    "%matplotlib inline\n",
    "\n",
    "import os\n",
    "import h5py\n",
    "import numpy as np\n",
    "from matplotlib import pyplot as plt\n"
   ]
  },
  {
   "cell_type": "markdown",
   "metadata": {},
   "source": [
    "The fastMRI dataset is distributed as a set of HDF5 files and can be read with the h5py package. Here, we show how to open a file from the multi-coil dataset. Each file corresponds to one MRI scan and contains the k-space data, ground truth and some meta data related to the scan."
   ]
  },
  {
   "cell_type": "code",
   "execution_count": 31,
   "metadata": {},
   "outputs": [],
   "source": [
    "download_path = '/DATASERVER/MIC/SHARED/NYU_FastMRI/Preprocessed/'\n",
    "train_path = os.path.join(download_path,'multicoil_train')\n",
    "validation_path = os.path.join(download_path,'multicoil_val')\n",
    "test_path = os.path.join(download_path,'multicoil_test')\n",
    "fully_sampled_test_path = os.path.join(download_path,'multicoil_test_full')\n"
   ]
  },
  {
   "cell_type": "code",
   "execution_count": 33,
   "metadata": {},
   "outputs": [],
   "source": [
    "file_name = 'file_brain_AXFLAIR_200_6002425.h5'\n",
    "hf = h5py.File(os.path.join(train_path, file_name), 'r')\n"
   ]
  },
  {
   "cell_type": "code",
   "execution_count": null,
   "metadata": {
    "tags": []
   },
   "outputs": [
    {
     "name": "stdout",
     "output_type": "stream",
     "text": [
      "Keys: ['cs_data', 'grappa_data', 'ismrmrd_header', 'kspace', 'reconstruction_rss', 'sense_data']\n",
      "Attrs: {'acquisition': 'AXFLAIR', 'max': 0.0004274357358916608, 'norm': 0.09131797120370877, 'patient_id': 'dcfc3e70496246a709dab23831262b60589f4383d6e05bf5559731ea8d80bb1f'}\n"
     ]
    },
    {
     "ename": "",
     "evalue": "",
     "output_type": "error",
     "traceback": [
      "\u001b[1;31mnotebook controller is DISPOSED. \n",
      "\u001b[1;31mView Jupyter <a href='command:jupyter.viewOutput'>log</a> for further details."
     ]
    },
    {
     "ename": "",
     "evalue": "",
     "output_type": "error",
     "traceback": [
      "\u001b[1;31mnotebook controller is DISPOSED. \n",
      "\u001b[1;31mView Jupyter <a href='command:jupyter.viewOutput'>log</a> for further details."
     ]
    },
    {
     "ename": "",
     "evalue": "",
     "output_type": "error",
     "traceback": [
      "\u001b[1;31mnotebook controller is DISPOSED. \n",
      "\u001b[1;31mView Jupyter <a href='command:jupyter.viewOutput'>log</a> for further details."
     ]
    }
   ],
   "source": [
    "print('Keys:', list(hf.keys()))\n",
    "print('Attrs:', dict(hf.attrs))\n"
   ]
  },
  {
   "cell_type": "code",
   "execution_count": null,
   "metadata": {},
   "outputs": [
    {
     "ename": "",
     "evalue": "",
     "output_type": "error",
     "traceback": [
      "\u001b[1;31mnotebook controller is DISPOSED. \n",
      "\u001b[1;31mView Jupyter <a href='command:jupyter.viewOutput'>log</a> for further details."
     ]
    },
    {
     "ename": "",
     "evalue": "",
     "output_type": "error",
     "traceback": [
      "\u001b[1;31mnotebook controller is DISPOSED. \n",
      "\u001b[1;31mView Jupyter <a href='command:jupyter.viewOutput'>log</a> for further details."
     ]
    },
    {
     "ename": "",
     "evalue": "",
     "output_type": "error",
     "traceback": [
      "\u001b[1;31mnotebook controller is DISPOSED. \n",
      "\u001b[1;31mView Jupyter <a href='command:jupyter.viewOutput'>log</a> for further details."
     ]
    }
   ],
   "source": [
    "file_name = 'file_brain_AXFLAIR_200_6002447.h5'\n",
    "hf = h5py.File(os.path.join(validation_path, file_name), 'r')\n"
   ]
  },
  {
   "cell_type": "code",
   "execution_count": null,
   "metadata": {},
   "outputs": [
    {
     "name": "stdout",
     "output_type": "stream",
     "text": [
      "Keys: ['cs_data', 'grappa_data', 'ismrmrd_header', 'kspace', 'reconstruction_rss', 'sense_data']\n",
      "Attrs: {'acquisition': 'AXFLAIR', 'max': 0.00041413615952341293, 'norm': 0.08723472457184536, 'patient_id': '30c14259008242f60e5214a793bad574fbf48a7140f76ec3152eef31e090486d'}\n"
     ]
    },
    {
     "ename": "",
     "evalue": "",
     "output_type": "error",
     "traceback": [
      "\u001b[1;31mnotebook controller is DISPOSED. \n",
      "\u001b[1;31mView Jupyter <a href='command:jupyter.viewOutput'>log</a> for further details."
     ]
    },
    {
     "ename": "",
     "evalue": "",
     "output_type": "error",
     "traceback": [
      "\u001b[1;31mnotebook controller is DISPOSED. \n",
      "\u001b[1;31mView Jupyter <a href='command:jupyter.viewOutput'>log</a> for further details."
     ]
    },
    {
     "ename": "",
     "evalue": "",
     "output_type": "error",
     "traceback": [
      "\u001b[1;31mnotebook controller is DISPOSED. \n",
      "\u001b[1;31mView Jupyter <a href='command:jupyter.viewOutput'>log</a> for further details."
     ]
    }
   ],
   "source": [
    "print('Keys:', list(hf.keys()))\n",
    "print('Attrs:', dict(hf.attrs))\n"
   ]
  },
  {
   "cell_type": "code",
   "execution_count": null,
   "metadata": {},
   "outputs": [
    {
     "ename": "",
     "evalue": "",
     "output_type": "error",
     "traceback": [
      "\u001b[1;31mnotebook controller is DISPOSED. \n",
      "\u001b[1;31mView Jupyter <a href='command:jupyter.viewOutput'>log</a> for further details."
     ]
    },
    {
     "ename": "",
     "evalue": "",
     "output_type": "error",
     "traceback": [
      "\u001b[1;31mnotebook controller is DISPOSED. \n",
      "\u001b[1;31mView Jupyter <a href='command:jupyter.viewOutput'>log</a> for further details."
     ]
    },
    {
     "ename": "",
     "evalue": "",
     "output_type": "error",
     "traceback": [
      "\u001b[1;31mnotebook controller is DISPOSED. \n",
      "\u001b[1;31mView Jupyter <a href='command:jupyter.viewOutput'>log</a> for further details."
     ]
    }
   ],
   "source": [
    "file_name = 'file_brain_AXFLAIR_200_6002441.h5'\n",
    "hf = h5py.File(os.path.join(test_path, file_name), 'r')\n"
   ]
  },
  {
   "cell_type": "code",
   "execution_count": null,
   "metadata": {},
   "outputs": [
    {
     "name": "stdout",
     "output_type": "stream",
     "text": [
      "Keys: ['cs_data', 'grappa_data', 'ismrmrd_header', 'kspace', 'mask', 'sense_data']\n",
      "Attrs: {'acceleration': 8, 'acquisition': 'AXFLAIR', 'num_low_frequency': 13, 'patient_id': 'ca18fce12f2549e69a2db3c660a4d27b116cd79c6ee2437a15db40db7379c723'}\n"
     ]
    },
    {
     "ename": "",
     "evalue": "",
     "output_type": "error",
     "traceback": [
      "\u001b[1;31mnotebook controller is DISPOSED. \n",
      "\u001b[1;31mView Jupyter <a href='command:jupyter.viewOutput'>log</a> for further details."
     ]
    },
    {
     "ename": "",
     "evalue": "",
     "output_type": "error",
     "traceback": [
      "\u001b[1;31mnotebook controller is DISPOSED. \n",
      "\u001b[1;31mView Jupyter <a href='command:jupyter.viewOutput'>log</a> for further details."
     ]
    },
    {
     "ename": "",
     "evalue": "",
     "output_type": "error",
     "traceback": [
      "\u001b[1;31mnotebook controller is DISPOSED. \n",
      "\u001b[1;31mView Jupyter <a href='command:jupyter.viewOutput'>log</a> for further details."
     ]
    }
   ],
   "source": [
    "print('Keys:', list(hf.keys()))\n",
    "print('Attrs:', dict(hf.attrs))\n"
   ]
  },
  {
   "cell_type": "code",
   "execution_count": null,
   "metadata": {},
   "outputs": [
    {
     "ename": "",
     "evalue": "",
     "output_type": "error",
     "traceback": [
      "\u001b[1;31mnotebook controller is DISPOSED. \n",
      "\u001b[1;31mView Jupyter <a href='command:jupyter.viewOutput'>log</a> for further details."
     ]
    },
    {
     "ename": "",
     "evalue": "",
     "output_type": "error",
     "traceback": [
      "\u001b[1;31mnotebook controller is DISPOSED. \n",
      "\u001b[1;31mView Jupyter <a href='command:jupyter.viewOutput'>log</a> for further details."
     ]
    },
    {
     "ename": "",
     "evalue": "",
     "output_type": "error",
     "traceback": [
      "\u001b[1;31mnotebook controller is DISPOSED. \n",
      "\u001b[1;31mView Jupyter <a href='command:jupyter.viewOutput'>log</a> for further details."
     ]
    }
   ],
   "source": [
    "file_name = 'file_brain_AXFLAIR_200_6002441.h5'\n",
    "hf = h5py.File(os.path.join(fully_sampled_test_path, file_name), 'r')\n"
   ]
  },
  {
   "cell_type": "code",
   "execution_count": null,
   "metadata": {},
   "outputs": [
    {
     "name": "stdout",
     "output_type": "stream",
     "text": [
      "Keys: ['ismrmrd_header', 'kspace', 'reconstruction_rss']\n",
      "Attrs: {'acquisition': 'AXFLAIR', 'max': 0.0003919748921278401, 'norm': 0.08606309877132198, 'patient_id': '6002441'}\n"
     ]
    },
    {
     "ename": "",
     "evalue": "",
     "output_type": "error",
     "traceback": [
      "\u001b[1;31mnotebook controller is DISPOSED. \n",
      "\u001b[1;31mView Jupyter <a href='command:jupyter.viewOutput'>log</a> for further details."
     ]
    },
    {
     "ename": "",
     "evalue": "",
     "output_type": "error",
     "traceback": [
      "\u001b[1;31mnotebook controller is DISPOSED. \n",
      "\u001b[1;31mView Jupyter <a href='command:jupyter.viewOutput'>log</a> for further details."
     ]
    },
    {
     "ename": "",
     "evalue": "",
     "output_type": "error",
     "traceback": [
      "\u001b[1;31mnotebook controller is DISPOSED. \n",
      "\u001b[1;31mView Jupyter <a href='command:jupyter.viewOutput'>log</a> for further details."
     ]
    }
   ],
   "source": [
    "print('Keys:', list(hf.keys()))\n",
    "print('Attrs:', dict(hf.attrs))\n"
   ]
  },
  {
   "cell_type": "code",
   "execution_count": null,
   "metadata": {},
   "outputs": [
    {
     "data": {
      "text/plain": [
       "dict_keys(['__header__', '__version__', '__globals__', 'm256_CS1_mask', 'm256_CS2_mask', 'm256_CS4_mask', 'm256_CS6_mask', 'm256_CS8_mask', 'm256_full_mask', 'm320_CS1_mask', 'm320_CS2_mask', 'm320_CS4_mask', 'm320_CS6_mask', 'm320_CS8_mask', 'm320_full_mask'])"
      ]
     },
     "execution_count": 11,
     "metadata": {},
     "output_type": "execute_result"
    },
    {
     "ename": "",
     "evalue": "",
     "output_type": "error",
     "traceback": [
      "\u001b[1;31mnotebook controller is DISPOSED. \n",
      "\u001b[1;31mView Jupyter <a href='command:jupyter.viewOutput'>log</a> for further details."
     ]
    },
    {
     "ename": "",
     "evalue": "",
     "output_type": "error",
     "traceback": [
      "\u001b[1;31mnotebook controller is DISPOSED. \n",
      "\u001b[1;31mView Jupyter <a href='command:jupyter.viewOutput'>log</a> for further details."
     ]
    },
    {
     "ename": "",
     "evalue": "",
     "output_type": "error",
     "traceback": [
      "\u001b[1;31mnotebook controller is DISPOSED. \n",
      "\u001b[1;31mView Jupyter <a href='command:jupyter.viewOutput'>log</a> for further details."
     ]
    }
   ],
   "source": [
    "# Real-life CS mask data\n",
    "import scipy.io as sio\n",
    "mat_file = sio.loadmat('/DATASERVER/MIC/GENERAL/STUDENTS/aslock2/fastMRI-hybrid-modelling/fastMRI/sampling_profiles_CS.mat')\n",
    "mat_file.keys()\n"
   ]
  },
  {
   "cell_type": "code",
   "execution_count": null,
   "metadata": {},
   "outputs": [
    {
     "ename": "",
     "evalue": "",
     "output_type": "error",
     "traceback": [
      "\u001b[1;31mnotebook controller is DISPOSED. \n",
      "\u001b[1;31mView Jupyter <a href='command:jupyter.viewOutput'>log</a> for further details."
     ]
    },
    {
     "ename": "",
     "evalue": "",
     "output_type": "error",
     "traceback": [
      "\u001b[1;31mnotebook controller is DISPOSED. \n",
      "\u001b[1;31mView Jupyter <a href='command:jupyter.viewOutput'>log</a> for further details."
     ]
    },
    {
     "ename": "",
     "evalue": "",
     "output_type": "error",
     "traceback": [
      "\u001b[1;31mnotebook controller is DISPOSED. \n",
      "\u001b[1;31mView Jupyter <a href='command:jupyter.viewOutput'>log</a> for further details."
     ]
    }
   ],
   "source": []
  },
  {
   "cell_type": "markdown",
   "metadata": {},
   "source": [
    "Here, we can test our preprocessing approach for training and validation data"
   ]
  },
  {
   "cell_type": "code",
   "execution_count": null,
   "metadata": {},
   "outputs": [
    {
     "ename": "",
     "evalue": "",
     "output_type": "error",
     "traceback": [
      "\u001b[1;31mnotebook controller is DISPOSED. \n",
      "\u001b[1;31mView Jupyter <a href='command:jupyter.viewOutput'>log</a> for further details."
     ]
    },
    {
     "ename": "",
     "evalue": "",
     "output_type": "error",
     "traceback": [
      "\u001b[1;31mnotebook controller is DISPOSED. \n",
      "\u001b[1;31mView Jupyter <a href='command:jupyter.viewOutput'>log</a> for further details."
     ]
    },
    {
     "ename": "",
     "evalue": "",
     "output_type": "error",
     "traceback": [
      "\u001b[1;31mnotebook controller is DISPOSED. \n",
      "\u001b[1;31mView Jupyter <a href='command:jupyter.viewOutput'>log</a> for further details."
     ]
    }
   ],
   "source": [
    "file_name = 'file_brain_AXFLAIR_200_6002425.h5'\n",
    "preprocessed_train_path = '/DATASERVER/MIC/SHARED/NYU_FastMRI/Preprocessed/multicoil_train'\n",
    "hf = h5py.File(os.path.join(preprocessed_train_path, file_name), 'r') # Open in append mode!\n",
    "# CANT WRITE TO FILES OF NYU DATASET, HAVE TO STORE RESULTS YOURSELF\n"
   ]
  },
  {
   "cell_type": "markdown",
   "metadata": {},
   "source": []
  },
  {
   "cell_type": "code",
   "execution_count": null,
   "metadata": {},
   "outputs": [
    {
     "name": "stdout",
     "output_type": "stream",
     "text": [
      "Shape of the raw kspace:  (16, 20, 640, 320)\n",
      "Datatype of the raw kspace:  <class 'numpy.ndarray'>\n"
     ]
    },
    {
     "ename": "",
     "evalue": "",
     "output_type": "error",
     "traceback": [
      "\u001b[1;31mnotebook controller is DISPOSED. \n",
      "\u001b[1;31mView Jupyter <a href='command:jupyter.viewOutput'>log</a> for further details."
     ]
    },
    {
     "ename": "",
     "evalue": "",
     "output_type": "error",
     "traceback": [
      "\u001b[1;31mnotebook controller is DISPOSED. \n",
      "\u001b[1;31mView Jupyter <a href='command:jupyter.viewOutput'>log</a> for further details."
     ]
    },
    {
     "ename": "",
     "evalue": "",
     "output_type": "error",
     "traceback": [
      "\u001b[1;31mnotebook controller is DISPOSED. \n",
      "\u001b[1;31mView Jupyter <a href='command:jupyter.viewOutput'>log</a> for further details."
     ]
    }
   ],
   "source": [
    "from fastmri.data import transforms as T\n",
    "\n",
    "kspace = hf['kspace'][()]\n",
    "print(\"Shape of the raw kspace: \", str(np.shape(kspace)))\n",
    "print(\"Datatype of the raw kspace: \", str(type(kspace)))\n"
   ]
  },
  {
   "cell_type": "code",
   "execution_count": null,
   "metadata": {},
   "outputs": [
    {
     "ename": "",
     "evalue": "",
     "output_type": "error",
     "traceback": [
      "\u001b[1;31mnotebook controller is DISPOSED. \n",
      "\u001b[1;31mView Jupyter <a href='command:jupyter.viewOutput'>log</a> for further details."
     ]
    },
    {
     "ename": "",
     "evalue": "",
     "output_type": "error",
     "traceback": [
      "\u001b[1;31mnotebook controller is DISPOSED. \n",
      "\u001b[1;31mView Jupyter <a href='command:jupyter.viewOutput'>log</a> for further details."
     ]
    },
    {
     "ename": "",
     "evalue": "",
     "output_type": "error",
     "traceback": [
      "\u001b[1;31mnotebook controller is DISPOSED. \n",
      "\u001b[1;31mView Jupyter <a href='command:jupyter.viewOutput'>log</a> for further details."
     ]
    }
   ],
   "source": [
    "# First, we need to create 2 masked versions of k-space:\n",
    "#   - We need to estimate our sensitivity maps as if we have undersampled data with an ACS region (using ESPIRiT)\n",
    "#   - We need an actual CS undersampling pattern for the actual reconstruction pipeline itself\n",
    "\n",
    "from fastmri.data.subsample import EquispacedMaskFunc\n",
    "\n",
    "def apply_mask(slice_kspace, mask_func):\n",
    "    ''' \n",
    "    Args:\n",
    "        slice_kspace (numpy.array)\n",
    "        mask_func (class)\n",
    "    Returns:\n",
    "        masked_kspace (numpy.array)\n",
    "        mask (torch.tensor)\n",
    "    '''\n",
    "    slice_kspace_T = T.to_tensor(slice_kspace)\n",
    "    masked_kspace_T, mask = T.apply_mask(slice_kspace_T, mask_func)\n",
    "    masked_kspace = T.tensor_to_complex_np(masked_kspace_T)\n",
    "    return masked_kspace, mask\n",
    "\n",
    "mask_func = EquispacedMaskFunc(center_fractions=[0.08], accelerations=[4])\n",
    "masked_kspace_ACS, mask_ACS = apply_mask(kspace, mask_func) # For validation data we should pass a seed though!\n"
   ]
  },
  {
   "cell_type": "code",
   "execution_count": null,
   "metadata": {},
   "outputs": [
    {
     "name": "stdout",
     "output_type": "stream",
     "text": [
      "Shape of the generated mask:  torch.Size([1, 1, 1, 320, 1])\n",
      "Datatype of the generated mask:  <class 'torch.Tensor'>\n"
     ]
    },
    {
     "ename": "",
     "evalue": "",
     "output_type": "error",
     "traceback": [
      "\u001b[1;31mnotebook controller is DISPOSED. \n",
      "\u001b[1;31mView Jupyter <a href='command:jupyter.viewOutput'>log</a> for further details."
     ]
    },
    {
     "ename": "",
     "evalue": "",
     "output_type": "error",
     "traceback": [
      "\u001b[1;31mnotebook controller is DISPOSED. \n",
      "\u001b[1;31mView Jupyter <a href='command:jupyter.viewOutput'>log</a> for further details."
     ]
    },
    {
     "ename": "",
     "evalue": "",
     "output_type": "error",
     "traceback": [
      "\u001b[1;31mnotebook controller is DISPOSED. \n",
      "\u001b[1;31mView Jupyter <a href='command:jupyter.viewOutput'>log</a> for further details."
     ]
    }
   ],
   "source": [
    "print(\"Shape of the generated mask: \", str(mask_ACS.shape))\n",
    "print(\"Datatype of the generated mask: \", str(type(mask_ACS)))\n"
   ]
  },
  {
   "cell_type": "code",
   "execution_count": null,
   "metadata": {},
   "outputs": [
    {
     "ename": "",
     "evalue": "",
     "output_type": "error",
     "traceback": [
      "\u001b[1;31mnotebook controller is DISPOSED. \n",
      "\u001b[1;31mView Jupyter <a href='command:jupyter.viewOutput'>log</a> for further details."
     ]
    },
    {
     "ename": "",
     "evalue": "",
     "output_type": "error",
     "traceback": [
      "\u001b[1;31mnotebook controller is DISPOSED. \n",
      "\u001b[1;31mView Jupyter <a href='command:jupyter.viewOutput'>log</a> for further details."
     ]
    },
    {
     "ename": "",
     "evalue": "",
     "output_type": "error",
     "traceback": [
      "\u001b[1;31mnotebook controller is DISPOSED. \n",
      "\u001b[1;31mView Jupyter <a href='command:jupyter.viewOutput'>log</a> for further details."
     ]
    }
   ],
   "source": [
    "# Now, we can start looking at CS undersampling as used in the real world\n",
    "\n",
    "def closer_to_4_or_8(float):\n",
    "    diff_4 = np.abs(float - 4)\n",
    "    diff_8 = np.abs(float - 8)\n",
    "\n",
    "    if diff_4 < diff_8:\n",
    "        return int(4)\n",
    "    elif diff_8 < diff_4:\n",
    "        return int(8)\n",
    "\n",
    "def generate_array(shape, R, mat_file, tensor_out):\n",
    "    if R == 4:\n",
    "        array = mat_file['m320_CS4_mask'].squeeze()\n",
    "    elif R == 8:\n",
    "        array = mat_file['m320_CS8_mask'].squeeze()\n",
    "    else:\n",
    "        raise ValueError('Unrecognized acceleration factor specified. Must be 4 or 8.')\n",
    "    # Calculate padding needed to reach the desired length\n",
    "    desired_length = shape[-1]\n",
    "    padding_needed = desired_length - len(array)\n",
    "    if padding_needed > 0:\n",
    "        # Calculate padding width for symmetric padding\n",
    "        padding_width = (padding_needed // 2, padding_needed - padding_needed // 2)\n",
    "        # Pad the array symmetrically\n",
    "        array = np.pad(array, padding_width, mode='symmetric')\n",
    "    elif padding_needed < 0:\n",
    "        # Calculate trimming indices for symmetric trimming\n",
    "        trim_start = -padding_needed // 2\n",
    "        trim_end = len(array) + padding_needed // 2\n",
    "        # Trim the array symmetrically\n",
    "        array = array[trim_start:trim_end]\n",
    "    # Make array compatible with fastmri mask function class\n",
    "    for i in range(len(shape)-1):\n",
    "        array = np.expand_dims(array, 0)\n",
    "    if tensor_out:\n",
    "        array = T.to_tensor(array)\n",
    "    return array\n",
    "\n",
    "mask = generate_array(kspace.shape, 4, mat_file, tensor_out=False)\n",
    "masked_kspace = kspace * mask + 0.0\n"
   ]
  },
  {
   "cell_type": "code",
   "execution_count": null,
   "metadata": {},
   "outputs": [
    {
     "name": "stdout",
     "output_type": "stream",
     "text": [
      "Shape of the generated mask:  (1, 1, 1, 320)\n",
      "Datatype of the generated mask:  <class 'numpy.ndarray'>\n"
     ]
    },
    {
     "ename": "",
     "evalue": "",
     "output_type": "error",
     "traceback": [
      "\u001b[1;31mnotebook controller is DISPOSED. \n",
      "\u001b[1;31mView Jupyter <a href='command:jupyter.viewOutput'>log</a> for further details."
     ]
    },
    {
     "ename": "",
     "evalue": "",
     "output_type": "error",
     "traceback": [
      "\u001b[1;31mnotebook controller is DISPOSED. \n",
      "\u001b[1;31mView Jupyter <a href='command:jupyter.viewOutput'>log</a> for further details."
     ]
    },
    {
     "ename": "",
     "evalue": "",
     "output_type": "error",
     "traceback": [
      "\u001b[1;31mnotebook controller is DISPOSED. \n",
      "\u001b[1;31mView Jupyter <a href='command:jupyter.viewOutput'>log</a> for further details."
     ]
    }
   ],
   "source": [
    "print(\"Shape of the generated mask: \", str(mask.shape))\n",
    "print(\"Datatype of the generated mask: \", str(type(mask)))\n"
   ]
  },
  {
   "cell_type": "code",
   "execution_count": null,
   "metadata": {},
   "outputs": [
    {
     "name": "stdout",
     "output_type": "stream",
     "text": [
      "Shape of the numpy-converted CS data:  (16, 640, 320)\n",
      "Type of the numpy-converted CS data:  <class 'numpy.ndarray'>\n"
     ]
    },
    {
     "ename": "",
     "evalue": "",
     "output_type": "error",
     "traceback": [
      "\u001b[1;31mnotebook controller is DISPOSED. \n",
      "\u001b[1;31mView Jupyter <a href='command:jupyter.viewOutput'>log</a> for further details."
     ]
    },
    {
     "ename": "",
     "evalue": "",
     "output_type": "error",
     "traceback": [
      "\u001b[1;31mnotebook controller is DISPOSED. \n",
      "\u001b[1;31mView Jupyter <a href='command:jupyter.viewOutput'>log</a> for further details."
     ]
    },
    {
     "ename": "",
     "evalue": "",
     "output_type": "error",
     "traceback": [
      "\u001b[1;31mnotebook controller is DISPOSED. \n",
      "\u001b[1;31mView Jupyter <a href='command:jupyter.viewOutput'>log</a> for further details."
     ]
    }
   ],
   "source": [
    "# Now, let's preform a slice-wise ESPIRiT and CS estimation\n",
    "\n",
    "import bart\n",
    "\n",
    "def estimate_sensitivity_maps(kspace):\n",
    "    ''' \n",
    "    Args:\n",
    "        kspace (numpy.array): slice kspace of shape (num_coils, rows, cols)\n",
    "    Returns:\n",
    "        S (numpy.array): Estimated sensitivity maps given by ESPIRiT of shape (num_coils, rows, cols)\n",
    "    '''\n",
    "    # Move coil axis to the back as expected by BART\n",
    "    kspace_perm = np.moveaxis(kspace, 0, 2)\n",
    "    # Add extra dimension, because the ESPIRiT method expects a 4D input array where the third dimension represents the batch size.\n",
    "    kspace_perm = np.expand_dims(kspace_perm, axis=2)\n",
    "    # Estimate sensitivity maps with ESPIRiT method\n",
    "    S = bart.bart(1, \"ecalib -d0 -m1\", kspace_perm)\n",
    "    # Undo the previous operations to get the original data structure back\n",
    "    S = np.moveaxis(S.squeeze(), 2, 0)\n",
    "    return S\n",
    "\n",
    "def CS(kspace, S, lamda=0.005, num_iter=50):\n",
    "    ''' \n",
    "    Performs CS reconstruction\n",
    "    https://mrirecon.github.io/bart/\n",
    "\n",
    "    Args:\n",
    "        kspace (numpy.array): Slice kspace of shape (num_coils, rows, cols)\n",
    "        S (numpy.array): Estimated sensitivity maps given by ESPIRiT of shape (num_coils, rows, cols)\n",
    "        lamda: Value of the hyperparameter / regularizer of the l1 norm term\n",
    "        num_iter: The amount of iterations the algorithm can run\n",
    "    Returns:\n",
    "        reconstruction (numpy.array): Estimated CS reconstruction of shape (rows, cols))\n",
    "    '''\n",
    "    # Move coil axis to the back as expected by BART\n",
    "    kspace_perm = np.moveaxis(kspace, 0, 2)\n",
    "    S_perm = np.moveaxis(S, 0, 2)\n",
    "    # Add extra dimension, because BART expects a 4D input array where the third dimension represents the batch size.\n",
    "    kspace_perm = np.expand_dims(kspace_perm, axis=2)\n",
    "    S_perm = np.expand_dims(S_perm, axis=2)\n",
    "    # Perform CS\n",
    "    reconstruction = bart.bart(1, 'pics -S -l1 -r {} -i {}'.format(lamda, num_iter), kspace_perm, S_perm)\n",
    "    return reconstruction\n",
    "\n",
    "cs_data = np.zeros((kspace.shape[0], kspace.shape[2], kspace.shape[3]), dtype=np.complex64)\n",
    "\n",
    "for slice in range(kspace.shape[0]):\n",
    "    S = estimate_sensitivity_maps(masked_kspace_ACS[slice,:,:,:])\n",
    "    cs_data[slice,:,:] = CS(masked_kspace[slice,:,:,:], S)\n",
    "\n",
    "print(\"Shape of the numpy-converted CS data: \", str(cs_data.shape))\n",
    "print(\"Type of the numpy-converted CS data: \", str(type(cs_data)))\n"
   ]
  },
  {
   "cell_type": "code",
   "execution_count": null,
   "metadata": {},
   "outputs": [
    {
     "data": {
      "text/plain": [
       "<matplotlib.image.AxesImage at 0x7f5931964898>"
      ]
     },
     "execution_count": 19,
     "metadata": {},
     "output_type": "execute_result"
    },
    {
     "data": {
      "image/png": "[encoded data removed]",
      "text/plain": [
       "<Figure size 432x288 with 1 Axes>"
      ]
     },
     "metadata": {
      "needs_background": "light"
     },
     "output_type": "display_data"
    },
    {
     "ename": "",
     "evalue": "",
     "output_type": "error",
     "traceback": [
      "\u001b[1;31mnotebook controller is DISPOSED. \n",
      "\u001b[1;31mView Jupyter <a href='command:jupyter.viewOutput'>log</a> for further details."
     ]
    },
    {
     "ename": "",
     "evalue": "",
     "output_type": "error",
     "traceback": [
      "\u001b[1;31mnotebook controller is DISPOSED. \n",
      "\u001b[1;31mView Jupyter <a href='command:jupyter.viewOutput'>log</a> for further details."
     ]
    },
    {
     "ename": "",
     "evalue": "",
     "output_type": "error",
     "traceback": [
      "\u001b[1;31mnotebook controller is DISPOSED. \n",
      "\u001b[1;31mView Jupyter <a href='command:jupyter.viewOutput'>log</a> for further details."
     ]
    }
   ],
   "source": [
    "plt.imshow(np.abs(cs_data[10,:,:]), cmap='gray')\n"
   ]
  },
  {
   "cell_type": "markdown",
   "metadata": {},
   "source": [
    "Here, we can test our preprocessing approach for test data"
   ]
  },
  {
   "cell_type": "code",
   "execution_count": null,
   "metadata": {},
   "outputs": [
    {
     "ename": "",
     "evalue": "",
     "output_type": "error",
     "traceback": [
      "\u001b[1;31mnotebook controller is DISPOSED. \n",
      "\u001b[1;31mView Jupyter <a href='command:jupyter.viewOutput'>log</a> for further details."
     ]
    },
    {
     "ename": "",
     "evalue": "",
     "output_type": "error",
     "traceback": [
      "\u001b[1;31mnotebook controller is DISPOSED. \n",
      "\u001b[1;31mView Jupyter <a href='command:jupyter.viewOutput'>log</a> for further details."
     ]
    },
    {
     "ename": "",
     "evalue": "",
     "output_type": "error",
     "traceback": [
      "\u001b[1;31mnotebook controller is DISPOSED. \n",
      "\u001b[1;31mView Jupyter <a href='command:jupyter.viewOutput'>log</a> for further details."
     ]
    }
   ],
   "source": [
    "# R = 8\n",
    "file_name = 'file_brain_AXFLAIR_200_6002441.h5'\n",
    "preprocessed_train_path = '/DATASERVER/MIC/SHARED/NYU_FastMRI/Preprocessed/multicoil_test'\n",
    "preprocessed_train_path_full = '/DATASERVER/MIC/SHARED/NYU_FastMRI/Preprocessed/multicoil_test_full'\n"
   ]
  },
  {
   "cell_type": "code",
   "execution_count": null,
   "metadata": {},
   "outputs": [
    {
     "name": "stdout",
     "output_type": "stream",
     "text": [
      "8.0\n"
     ]
    },
    {
     "ename": "",
     "evalue": "",
     "output_type": "error",
     "traceback": [
      "\u001b[1;31mnotebook controller is DISPOSED. \n",
      "\u001b[1;31mView Jupyter <a href='command:jupyter.viewOutput'>log</a> for further details."
     ]
    },
    {
     "ename": "",
     "evalue": "",
     "output_type": "error",
     "traceback": [
      "\u001b[1;31mnotebook controller is DISPOSED. \n",
      "\u001b[1;31mView Jupyter <a href='command:jupyter.viewOutput'>log</a> for further details."
     ]
    },
    {
     "ename": "",
     "evalue": "",
     "output_type": "error",
     "traceback": [
      "\u001b[1;31mnotebook controller is DISPOSED. \n",
      "\u001b[1;31mView Jupyter <a href='command:jupyter.viewOutput'>log</a> for further details."
     ]
    }
   ],
   "source": [
    "# First, find out what the value of R is\n",
    "hf = h5py.File(os.path.join(preprocessed_train_path, file_name), 'r') # Open in read mode!\n",
    "nPE_mask = hf['mask'][()]\n",
    "sampled_columns = np.sum(nPE_mask)\n",
    "R = len(nPE_mask)/sampled_columns\n",
    "R = float(R)\n",
    "print(R)\n"
   ]
  },
  {
   "cell_type": "code",
   "execution_count": null,
   "metadata": {},
   "outputs": [
    {
     "name": "stdout",
     "output_type": "stream",
     "text": [
      "Shape of the raw kspace:  (16, 20, 640, 320)\n",
      "Datatype of the raw kspace:  <class 'numpy.ndarray'>\n"
     ]
    },
    {
     "ename": "",
     "evalue": "",
     "output_type": "error",
     "traceback": [
      "\u001b[1;31mnotebook controller is DISPOSED. \n",
      "\u001b[1;31mView Jupyter <a href='command:jupyter.viewOutput'>log</a> for further details."
     ]
    },
    {
     "ename": "",
     "evalue": "",
     "output_type": "error",
     "traceback": [
      "\u001b[1;31mnotebook controller is DISPOSED. \n",
      "\u001b[1;31mView Jupyter <a href='command:jupyter.viewOutput'>log</a> for further details."
     ]
    },
    {
     "ename": "",
     "evalue": "",
     "output_type": "error",
     "traceback": [
      "\u001b[1;31mnotebook controller is DISPOSED. \n",
      "\u001b[1;31mView Jupyter <a href='command:jupyter.viewOutput'>log</a> for further details."
     ]
    }
   ],
   "source": [
    "# Also, use the official test scan ACS region for the sensitivity map estimation\n",
    "masked_kspace_ACS = hf['kspace'][()]\n",
    "print(\"Shape of the raw kspace: \", str(np.shape(masked_kspace_ACS)))\n",
    "print(\"Datatype of the raw kspace: \", str(type(masked_kspace_ACS)))\n"
   ]
  },
  {
   "cell_type": "code",
   "execution_count": null,
   "metadata": {},
   "outputs": [
    {
     "ename": "",
     "evalue": "",
     "output_type": "error",
     "traceback": [
      "\u001b[1;31mnotebook controller is DISPOSED. \n",
      "\u001b[1;31mView Jupyter <a href='command:jupyter.viewOutput'>log</a> for further details."
     ]
    },
    {
     "ename": "",
     "evalue": "",
     "output_type": "error",
     "traceback": [
      "\u001b[1;31mnotebook controller is DISPOSED. \n",
      "\u001b[1;31mView Jupyter <a href='command:jupyter.viewOutput'>log</a> for further details."
     ]
    },
    {
     "ename": "",
     "evalue": "",
     "output_type": "error",
     "traceback": [
      "\u001b[1;31mnotebook controller is DISPOSED. \n",
      "\u001b[1;31mView Jupyter <a href='command:jupyter.viewOutput'>log</a> for further details."
     ]
    }
   ],
   "source": [
    "# Now, knowing R, create a CS kspace version from the scan's multicoil_test_full file\n",
    "def closer_to_4_or_8(float):\n",
    "    diff_4 = np.abs(float - 4)\n",
    "    diff_8 = np.abs(float - 8)\n",
    "\n",
    "    if diff_4 < diff_8:\n",
    "        return int(4)\n",
    "    elif diff_8 < diff_4:\n",
    "        return int(8)\n",
    "\n",
    "hf = h5py.File(os.path.join(preprocessed_train_path_full, file_name), 'r') # Open in read mode!\n",
    "kspace = hf['kspace'][()]\n",
    "mask = generate_array(kspace.shape, closer_to_4_or_8(R), mat_file, tensor_out=False)\n",
    "masked_kspace = kspace * mask + 0.0\n"
   ]
  },
  {
   "cell_type": "code",
   "execution_count": null,
   "metadata": {},
   "outputs": [
    {
     "name": "stdout",
     "output_type": "stream",
     "text": [
      "Shape of the numpy-converted CS data:  (16, 640, 320)\n",
      "Type of the numpy-converted CS data:  <class 'numpy.ndarray'>\n"
     ]
    },
    {
     "ename": "",
     "evalue": "",
     "output_type": "error",
     "traceback": [
      "\u001b[1;31mnotebook controller is DISPOSED. \n",
      "\u001b[1;31mView Jupyter <a href='command:jupyter.viewOutput'>log</a> for further details."
     ]
    },
    {
     "ename": "",
     "evalue": "",
     "output_type": "error",
     "traceback": [
      "\u001b[1;31mnotebook controller is DISPOSED. \n",
      "\u001b[1;31mView Jupyter <a href='command:jupyter.viewOutput'>log</a> for further details."
     ]
    },
    {
     "ename": "",
     "evalue": "",
     "output_type": "error",
     "traceback": [
      "\u001b[1;31mnotebook controller is DISPOSED. \n",
      "\u001b[1;31mView Jupyter <a href='command:jupyter.viewOutput'>log</a> for further details."
     ]
    }
   ],
   "source": [
    "# Now, let's preform a slice-wise ESPIRiT and CS estimation\n",
    "cs_data = np.zeros((masked_kspace.shape[0], masked_kspace.shape[2], masked_kspace.shape[3]), dtype=np.complex64)\n",
    "\n",
    "for slice in range(masked_kspace.shape[0]):\n",
    "    S = estimate_sensitivity_maps(masked_kspace_ACS[slice,:,:,:])\n",
    "    cs_data[slice,:,:] = CS(masked_kspace[slice,:,:,:], S)\n",
    "\n",
    "print(\"Shape of the numpy-converted CS data: \", str(cs_data.shape))\n",
    "print(\"Type of the numpy-converted CS data: \", str(type(cs_data)))\n"
   ]
  },
  {
   "cell_type": "code",
   "execution_count": null,
   "metadata": {},
   "outputs": [
    {
     "data": {
      "text/plain": [
       "<matplotlib.image.AxesImage at 0x7f593151b5c0>"
      ]
     },
     "execution_count": 25,
     "metadata": {},
     "output_type": "execute_result"
    },
    {
     "data": {
      "image/png": "[encoded data removed]",
      "text/plain": [
       "<Figure size 432x288 with 1 Axes>"
      ]
     },
     "metadata": {
      "needs_background": "light"
     },
     "output_type": "display_data"
    },
    {
     "ename": "",
     "evalue": "",
     "output_type": "error",
     "traceback": [
      "\u001b[1;31mnotebook controller is DISPOSED. \n",
      "\u001b[1;31mView Jupyter <a href='command:jupyter.viewOutput'>log</a> for further details."
     ]
    },
    {
     "ename": "",
     "evalue": "",
     "output_type": "error",
     "traceback": [
      "\u001b[1;31mnotebook controller is DISPOSED. \n",
      "\u001b[1;31mView Jupyter <a href='command:jupyter.viewOutput'>log</a> for further details."
     ]
    },
    {
     "ename": "",
     "evalue": "",
     "output_type": "error",
     "traceback": [
      "\u001b[1;31mnotebook controller is DISPOSED. \n",
      "\u001b[1;31mView Jupyter <a href='command:jupyter.viewOutput'>log</a> for further details."
     ]
    }
   ],
   "source": [
    "plt.imshow(np.abs(cs_data[10,:,:]), cmap='gray')\n"
   ]
  },
  {
   "cell_type": "code",
   "execution_count": null,
   "metadata": {},
   "outputs": [
    {
     "ename": "OSError",
     "evalue": "Unable to create file (unable to open file: name = '/DATASERVER/MIC/SHARED/NYU_FastMRI/Preprocessed/multicoil_test/file_brain_AXFLAIR_200_6002441.h5', errno = 17, error message = 'File exists', flags = 15, o_flags = c2)",
     "output_type": "error",
     "traceback": [
      "\u001b[0;31m---------------------------------------------------------------------------\u001b[0m",
      "\u001b[0;31mOSError\u001b[0m                                   Traceback (most recent call last)",
      "\u001b[0;32m/DATASERVER/MIC/GENERAL/STUDENTS/aslock2/conda/envs/DL_MRI_reconstruction_baselines_2/lib/python3.6/site-packages/h5py/_hl/files.py\u001b[0m in \u001b[0;36mmake_fid\u001b[0;34m(name, mode, userblock_size, fapl, fcpl, swmr)\u001b[0m\n\u001b[1;32m    201\u001b[0m         \u001b[0;32mtry\u001b[0m\u001b[0;34m:\u001b[0m\u001b[0;34m\u001b[0m\u001b[0;34m\u001b[0m\u001b[0m\n\u001b[0;32m--> 202\u001b[0;31m             \u001b[0mfid\u001b[0m \u001b[0;34m=\u001b[0m \u001b[0mh5f\u001b[0m\u001b[0;34m.\u001b[0m\u001b[0mopen\u001b[0m\u001b[0;34m(\u001b[0m\u001b[0mname\u001b[0m\u001b[0;34m,\u001b[0m \u001b[0mh5f\u001b[0m\u001b[0;34m.\u001b[0m\u001b[0mACC_RDWR\u001b[0m\u001b[0;34m,\u001b[0m \u001b[0mfapl\u001b[0m\u001b[0;34m=\u001b[0m\u001b[0mfapl\u001b[0m\u001b[0;34m)\u001b[0m\u001b[0;34m\u001b[0m\u001b[0;34m\u001b[0m\u001b[0m\n\u001b[0m\u001b[1;32m    203\u001b[0m         \u001b[0;32mexcept\u001b[0m \u001b[0mIOError\u001b[0m\u001b[0;34m:\u001b[0m\u001b[0;34m\u001b[0m\u001b[0;34m\u001b[0m\u001b[0m\n",
      "\u001b[0;32mh5py/_objects.pyx\u001b[0m in \u001b[0;36mh5py._objects.with_phil.wrapper\u001b[0;34m()\u001b[0m\n",
      "\u001b[0;32mh5py/_objects.pyx\u001b[0m in \u001b[0;36mh5py._objects.with_phil.wrapper\u001b[0;34m()\u001b[0m\n",
      "\u001b[0;32mh5py/h5f.pyx\u001b[0m in \u001b[0;36mh5py.h5f.open\u001b[0;34m()\u001b[0m\n",
      "\u001b[0;31mOSError\u001b[0m: Unable to open file (unable to open file: name = '/DATASERVER/MIC/SHARED/NYU_FastMRI/Preprocessed/multicoil_test/file_brain_AXFLAIR_200_6002441.h5', errno = 13, error message = 'Permission denied', flags = 1, o_flags = 2)",
      "\nDuring handling of the above exception, another exception occurred:\n",
      "\u001b[0;31mOSError\u001b[0m                                   Traceback (most recent call last)",
      "\u001b[0;32m<ipython-input-26-68b47b23ec4c>\u001b[0m in \u001b[0;36m<module>\u001b[0;34m\u001b[0m\n\u001b[1;32m      1\u001b[0m \u001b[0;31m# Write cs_data away\u001b[0m\u001b[0;34m\u001b[0m\u001b[0;34m\u001b[0m\u001b[0;34m\u001b[0m\u001b[0m\n\u001b[0;32m----> 2\u001b[0;31m \u001b[0mhf\u001b[0m \u001b[0;34m=\u001b[0m \u001b[0mh5py\u001b[0m\u001b[0;34m.\u001b[0m\u001b[0mFile\u001b[0m\u001b[0;34m(\u001b[0m\u001b[0mos\u001b[0m\u001b[0;34m.\u001b[0m\u001b[0mpath\u001b[0m\u001b[0;34m.\u001b[0m\u001b[0mjoin\u001b[0m\u001b[0;34m(\u001b[0m\u001b[0mpreprocessed_train_path\u001b[0m\u001b[0;34m,\u001b[0m \u001b[0mfile_name\u001b[0m\u001b[0;34m)\u001b[0m\u001b[0;34m,\u001b[0m \u001b[0;34m'a'\u001b[0m\u001b[0;34m)\u001b[0m \u001b[0;31m# Open in append mode!\u001b[0m\u001b[0;34m\u001b[0m\u001b[0;34m\u001b[0m\u001b[0m\n\u001b[0m\u001b[1;32m      3\u001b[0m \u001b[0;31m# ...\u001b[0m\u001b[0;34m\u001b[0m\u001b[0;34m\u001b[0m\u001b[0;34m\u001b[0m\u001b[0m\n",
      "\u001b[0;32m/DATASERVER/MIC/GENERAL/STUDENTS/aslock2/conda/envs/DL_MRI_reconstruction_baselines_2/lib/python3.6/site-packages/h5py/_hl/files.py\u001b[0m in \u001b[0;36m__init__\u001b[0;34m(self, name, mode, driver, libver, userblock_size, swmr, rdcc_nslots, rdcc_nbytes, rdcc_w0, track_order, fs_strategy, fs_persist, fs_threshold, **kwds)\u001b[0m\n\u001b[1;32m    425\u001b[0m                                fapl, fcpl=make_fcpl(track_order=track_order, fs_strategy=fs_strategy,\n\u001b[1;32m    426\u001b[0m                                fs_persist=fs_persist, fs_threshold=fs_threshold),\n\u001b[0;32m--> 427\u001b[0;31m                                swmr=swmr)\n\u001b[0m\u001b[1;32m    428\u001b[0m \u001b[0;34m\u001b[0m\u001b[0m\n\u001b[1;32m    429\u001b[0m             \u001b[0;32mif\u001b[0m \u001b[0misinstance\u001b[0m\u001b[0;34m(\u001b[0m\u001b[0mlibver\u001b[0m\u001b[0;34m,\u001b[0m \u001b[0mtuple\u001b[0m\u001b[0;34m)\u001b[0m\u001b[0;34m:\u001b[0m\u001b[0;34m\u001b[0m\u001b[0;34m\u001b[0m\u001b[0m\n",
      "\u001b[0;32m/DATASERVER/MIC/GENERAL/STUDENTS/aslock2/conda/envs/DL_MRI_reconstruction_baselines_2/lib/python3.6/site-packages/h5py/_hl/files.py\u001b[0m in \u001b[0;36mmake_fid\u001b[0;34m(name, mode, userblock_size, fapl, fcpl, swmr)\u001b[0m\n\u001b[1;32m    202\u001b[0m             \u001b[0mfid\u001b[0m \u001b[0;34m=\u001b[0m \u001b[0mh5f\u001b[0m\u001b[0;34m.\u001b[0m\u001b[0mopen\u001b[0m\u001b[0;34m(\u001b[0m\u001b[0mname\u001b[0m\u001b[0;34m,\u001b[0m \u001b[0mh5f\u001b[0m\u001b[0;34m.\u001b[0m\u001b[0mACC_RDWR\u001b[0m\u001b[0;34m,\u001b[0m \u001b[0mfapl\u001b[0m\u001b[0;34m=\u001b[0m\u001b[0mfapl\u001b[0m\u001b[0;34m)\u001b[0m\u001b[0;34m\u001b[0m\u001b[0;34m\u001b[0m\u001b[0m\n\u001b[1;32m    203\u001b[0m         \u001b[0;32mexcept\u001b[0m \u001b[0mIOError\u001b[0m\u001b[0;34m:\u001b[0m\u001b[0;34m\u001b[0m\u001b[0;34m\u001b[0m\u001b[0m\n\u001b[0;32m--> 204\u001b[0;31m             \u001b[0mfid\u001b[0m \u001b[0;34m=\u001b[0m \u001b[0mh5f\u001b[0m\u001b[0;34m.\u001b[0m\u001b[0mcreate\u001b[0m\u001b[0;34m(\u001b[0m\u001b[0mname\u001b[0m\u001b[0;34m,\u001b[0m \u001b[0mh5f\u001b[0m\u001b[0;34m.\u001b[0m\u001b[0mACC_EXCL\u001b[0m\u001b[0;34m,\u001b[0m \u001b[0mfapl\u001b[0m\u001b[0;34m=\u001b[0m\u001b[0mfapl\u001b[0m\u001b[0;34m,\u001b[0m \u001b[0mfcpl\u001b[0m\u001b[0;34m=\u001b[0m\u001b[0mfcpl\u001b[0m\u001b[0;34m)\u001b[0m\u001b[0;34m\u001b[0m\u001b[0;34m\u001b[0m\u001b[0m\n\u001b[0m\u001b[1;32m    205\u001b[0m     \u001b[0;32melse\u001b[0m\u001b[0;34m:\u001b[0m\u001b[0;34m\u001b[0m\u001b[0;34m\u001b[0m\u001b[0m\n\u001b[1;32m    206\u001b[0m         \u001b[0;32mraise\u001b[0m \u001b[0mValueError\u001b[0m\u001b[0;34m(\u001b[0m\u001b[0;34m\"Invalid mode; must be one of r, r+, w, w-, x, a\"\u001b[0m\u001b[0;34m)\u001b[0m\u001b[0;34m\u001b[0m\u001b[0;34m\u001b[0m\u001b[0m\n",
      "\u001b[0;32mh5py/_objects.pyx\u001b[0m in \u001b[0;36mh5py._objects.with_phil.wrapper\u001b[0;34m()\u001b[0m\n",
      "\u001b[0;32mh5py/_objects.pyx\u001b[0m in \u001b[0;36mh5py._objects.with_phil.wrapper\u001b[0;34m()\u001b[0m\n",
      "\u001b[0;32mh5py/h5f.pyx\u001b[0m in \u001b[0;36mh5py.h5f.create\u001b[0;34m()\u001b[0m\n",
      "\u001b[0;31mOSError\u001b[0m: Unable to create file (unable to open file: name = '/DATASERVER/MIC/SHARED/NYU_FastMRI/Preprocessed/multicoil_test/file_brain_AXFLAIR_200_6002441.h5', errno = 17, error message = 'File exists', flags = 15, o_flags = c2)"
     ]
    },
    {
     "ename": "",
     "evalue": "",
     "output_type": "error",
     "traceback": [
      "\u001b[1;31mnotebook controller is DISPOSED. \n",
      "\u001b[1;31mView Jupyter <a href='command:jupyter.viewOutput'>log</a> for further details."
     ]
    },
    {
     "ename": "",
     "evalue": "",
     "output_type": "error",
     "traceback": [
      "\u001b[1;31mnotebook controller is DISPOSED. \n",
      "\u001b[1;31mView Jupyter <a href='command:jupyter.viewOutput'>log</a> for further details."
     ]
    },
    {
     "ename": "",
     "evalue": "",
     "output_type": "error",
     "traceback": [
      "\u001b[1;31mnotebook controller is DISPOSED. \n",
      "\u001b[1;31mView Jupyter <a href='command:jupyter.viewOutput'>log</a> for further details."
     ]
    }
   ],
   "source": [
    "# Write cs_data away\n",
    "hf = h5py.File(os.path.join(preprocessed_train_path, file_name), 'a') # Open in append mode!\n",
    "# ...\n"
   ]
  },
  {
   "cell_type": "code",
   "execution_count": null,
   "metadata": {},
   "outputs": [
    {
     "ename": "",
     "evalue": "",
     "output_type": "error",
     "traceback": [
      "\u001b[1;31mnotebook controller is DISPOSED. \n",
      "\u001b[1;31mView Jupyter <a href='command:jupyter.viewOutput'>log</a> for further details."
     ]
    },
    {
     "ename": "",
     "evalue": "",
     "output_type": "error",
     "traceback": [
      "\u001b[1;31mnotebook controller is DISPOSED. \n",
      "\u001b[1;31mView Jupyter <a href='command:jupyter.viewOutput'>log</a> for further details."
     ]
    },
    {
     "ename": "",
     "evalue": "",
     "output_type": "error",
     "traceback": [
      "\u001b[1;31mnotebook controller is DISPOSED. \n",
      "\u001b[1;31mView Jupyter <a href='command:jupyter.viewOutput'>log</a> for further details."
     ]
    }
   ],
   "source": []
  },
  {
   "cell_type": "code",
   "execution_count": null,
   "metadata": {},
   "outputs": [
    {
     "ename": "",
     "evalue": "",
     "output_type": "error",
     "traceback": [
      "\u001b[1;31mnotebook controller is DISPOSED. \n",
      "\u001b[1;31mView Jupyter <a href='command:jupyter.viewOutput'>log</a> for further details."
     ]
    },
    {
     "ename": "",
     "evalue": "",
     "output_type": "error",
     "traceback": [
      "\u001b[1;31mnotebook controller is DISPOSED. \n",
      "\u001b[1;31mView Jupyter <a href='command:jupyter.viewOutput'>log</a> for further details."
     ]
    },
    {
     "ename": "",
     "evalue": "",
     "output_type": "error",
     "traceback": [
      "\u001b[1;31mnotebook controller is DISPOSED. \n",
      "\u001b[1;31mView Jupyter <a href='command:jupyter.viewOutput'>log</a> for further details."
     ]
    }
   ],
   "source": [
    "# R = 4\n",
    "file_name = 'file_brain_AXFLAIR_209_6001340.h5'\n"
   ]
  },
  {
   "cell_type": "code",
   "execution_count": null,
   "metadata": {},
   "outputs": [
    {
     "name": "stdout",
     "output_type": "stream",
     "text": [
      "4.0\n"
     ]
    },
    {
     "ename": "",
     "evalue": "",
     "output_type": "error",
     "traceback": [
      "\u001b[1;31mnotebook controller is DISPOSED. \n",
      "\u001b[1;31mView Jupyter <a href='command:jupyter.viewOutput'>log</a> for further details."
     ]
    },
    {
     "ename": "",
     "evalue": "",
     "output_type": "error",
     "traceback": [
      "\u001b[1;31mnotebook controller is DISPOSED. \n",
      "\u001b[1;31mView Jupyter <a href='command:jupyter.viewOutput'>log</a> for further details."
     ]
    },
    {
     "ename": "",
     "evalue": "",
     "output_type": "error",
     "traceback": [
      "\u001b[1;31mnotebook controller is DISPOSED. \n",
      "\u001b[1;31mView Jupyter <a href='command:jupyter.viewOutput'>log</a> for further details."
     ]
    }
   ],
   "source": [
    "# First, find out what the value of R is\n",
    "hf = h5py.File(os.path.join(preprocessed_train_path, file_name), 'r') # Open in read mode!\n",
    "nPE_mask = hf['mask'][()]\n",
    "sampled_columns = np.sum(nPE_mask)\n",
    "R = len(nPE_mask)/sampled_columns\n",
    "R = float(R)\n",
    "print(R)\n"
   ]
  },
  {
   "cell_type": "code",
   "execution_count": null,
   "metadata": {},
   "outputs": [
    {
     "name": "stdout",
     "output_type": "stream",
     "text": [
      "Shape of the raw kspace:  (16, 14, 640, 320)\n",
      "Datatype of the raw kspace:  <class 'numpy.ndarray'>\n"
     ]
    },
    {
     "ename": "",
     "evalue": "",
     "output_type": "error",
     "traceback": [
      "\u001b[1;31mnotebook controller is DISPOSED. \n",
      "\u001b[1;31mView Jupyter <a href='command:jupyter.viewOutput'>log</a> for further details."
     ]
    },
    {
     "ename": "",
     "evalue": "",
     "output_type": "error",
     "traceback": [
      "\u001b[1;31mnotebook controller is DISPOSED. \n",
      "\u001b[1;31mView Jupyter <a href='command:jupyter.viewOutput'>log</a> for further details."
     ]
    },
    {
     "ename": "",
     "evalue": "",
     "output_type": "error",
     "traceback": [
      "\u001b[1;31mnotebook controller is DISPOSED. \n",
      "\u001b[1;31mView Jupyter <a href='command:jupyter.viewOutput'>log</a> for further details."
     ]
    }
   ],
   "source": [
    "# Also, use the official test scan ACS region for the sensitivity map estimation\n",
    "masked_kspace_ACS = hf['kspace'][()]\n",
    "print(\"Shape of the raw kspace: \", str(np.shape(masked_kspace_ACS)))\n",
    "print(\"Datatype of the raw kspace: \", str(type(masked_kspace_ACS)))\n"
   ]
  },
  {
   "cell_type": "code",
   "execution_count": null,
   "metadata": {},
   "outputs": [
    {
     "ename": "",
     "evalue": "",
     "output_type": "error",
     "traceback": [
      "\u001b[1;31mnotebook controller is DISPOSED. \n",
      "\u001b[1;31mView Jupyter <a href='command:jupyter.viewOutput'>log</a> for further details."
     ]
    },
    {
     "ename": "",
     "evalue": "",
     "output_type": "error",
     "traceback": [
      "\u001b[1;31mnotebook controller is DISPOSED. \n",
      "\u001b[1;31mView Jupyter <a href='command:jupyter.viewOutput'>log</a> for further details."
     ]
    },
    {
     "ename": "",
     "evalue": "",
     "output_type": "error",
     "traceback": [
      "\u001b[1;31mnotebook controller is DISPOSED. \n",
      "\u001b[1;31mView Jupyter <a href='command:jupyter.viewOutput'>log</a> for further details."
     ]
    }
   ],
   "source": [
    "# Now, knowing R, create a CS kspace version from the scan's multicoil_test_full file\n",
    "def closer_to_4_or_8(float):\n",
    "    diff_4 = np.abs(float - 4)\n",
    "    diff_8 = np.abs(float - 8)\n",
    "\n",
    "    if diff_4 < diff_8:\n",
    "        return int(4)\n",
    "    elif diff_8 < diff_4:\n",
    "        return int(8)\n",
    "\n",
    "hf = h5py.File(os.path.join(preprocessed_train_path_full, file_name), 'r') # Open in read mode!\n",
    "kspace = hf['kspace'][()]\n",
    "mask = generate_array(kspace.shape, closer_to_4_or_8(R), mat_file, tensor_out=False)\n",
    "masked_kspace = kspace * mask + 0.0\n"
   ]
  },
  {
   "cell_type": "code",
   "execution_count": null,
   "metadata": {},
   "outputs": [
    {
     "name": "stdout",
     "output_type": "stream",
     "text": [
      "Shape of the numpy-converted CS data:  (16, 640, 320)\n",
      "Type of the numpy-converted CS data:  <class 'numpy.ndarray'>\n"
     ]
    },
    {
     "ename": "",
     "evalue": "",
     "output_type": "error",
     "traceback": [
      "\u001b[1;31mnotebook controller is DISPOSED. \n",
      "\u001b[1;31mView Jupyter <a href='command:jupyter.viewOutput'>log</a> for further details."
     ]
    },
    {
     "ename": "",
     "evalue": "",
     "output_type": "error",
     "traceback": [
      "\u001b[1;31mnotebook controller is DISPOSED. \n",
      "\u001b[1;31mView Jupyter <a href='command:jupyter.viewOutput'>log</a> for further details."
     ]
    },
    {
     "ename": "",
     "evalue": "",
     "output_type": "error",
     "traceback": [
      "\u001b[1;31mnotebook controller is DISPOSED. \n",
      "\u001b[1;31mView Jupyter <a href='command:jupyter.viewOutput'>log</a> for further details."
     ]
    }
   ],
   "source": [
    "# Now, let's preform a slice-wise ESPIRiT and CS estimation\n",
    "cs_data = np.zeros((masked_kspace.shape[0], masked_kspace.shape[2], masked_kspace.shape[3]), dtype=np.complex64)\n",
    "\n",
    "for slice in range(masked_kspace.shape[0]):\n",
    "    S = estimate_sensitivity_maps(masked_kspace_ACS[slice,:,:,:])\n",
    "    cs_data[slice,:,:] = CS(masked_kspace[slice,:,:,:], S)\n",
    "\n",
    "print(\"Shape of the numpy-converted CS data: \", str(cs_data.shape))\n",
    "print(\"Type of the numpy-converted CS data: \", str(type(cs_data)))\n"
   ]
  },
  {
   "cell_type": "code",
   "execution_count": null,
   "metadata": {},
   "outputs": [
    {
     "data": {
      "text/plain": [
       "<matplotlib.image.AxesImage at 0x7f11f044f710>"
      ]
     },
     "execution_count": 32,
     "metadata": {},
     "output_type": "execute_result"
    },
    {
     "data": {
      "image/png": "[encoded data removed]",
      "text/plain": [
       "<Figure size 432x288 with 1 Axes>"
      ]
     },
     "metadata": {
      "needs_background": "light"
     },
     "output_type": "display_data"
    },
    {
     "ename": "",
     "evalue": "",
     "output_type": "error",
     "traceback": [
      "\u001b[1;31mnotebook controller is DISPOSED. \n",
      "\u001b[1;31mView Jupyter <a href='command:jupyter.viewOutput'>log</a> for further details."
     ]
    },
    {
     "ename": "",
     "evalue": "",
     "output_type": "error",
     "traceback": [
      "\u001b[1;31mnotebook controller is DISPOSED. \n",
      "\u001b[1;31mView Jupyter <a href='command:jupyter.viewOutput'>log</a> for further details."
     ]
    },
    {
     "ename": "",
     "evalue": "",
     "output_type": "error",
     "traceback": [
      "\u001b[1;31mnotebook controller is DISPOSED. \n",
      "\u001b[1;31mView Jupyter <a href='command:jupyter.viewOutput'>log</a> for further details."
     ]
    }
   ],
   "source": [
    "plt.imshow(np.abs(cs_data[10,:,:]), cmap='gray')\n"
   ]
  },
  {
   "cell_type": "code",
   "execution_count": null,
   "metadata": {},
   "outputs": [
    {
     "ename": "",
     "evalue": "",
     "output_type": "error",
     "traceback": [
      "\u001b[1;31mnotebook controller is DISPOSED. \n",
      "\u001b[1;31mView Jupyter <a href='command:jupyter.viewOutput'>log</a> for further details."
     ]
    },
    {
     "ename": "",
     "evalue": "",
     "output_type": "error",
     "traceback": [
      "\u001b[1;31mnotebook controller is DISPOSED. \n",
      "\u001b[1;31mView Jupyter <a href='command:jupyter.viewOutput'>log</a> for further details."
     ]
    },
    {
     "ename": "",
     "evalue": "",
     "output_type": "error",
     "traceback": [
      "\u001b[1;31mnotebook controller is DISPOSED. \n",
      "\u001b[1;31mView Jupyter <a href='command:jupyter.viewOutput'>log</a> for further details."
     ]
    }
   ],
   "source": []
  },
  {
   "cell_type": "markdown",
   "metadata": {},
   "source": [
    "Here, we can test a loop which loops through the files in the folders we specify"
   ]
  },
  {
   "cell_type": "code",
   "execution_count": null,
   "metadata": {},
   "outputs": [
    {
     "name": "stdout",
     "output_type": "stream",
     "text": [
      "/usr/local/micapollo01/MIC/DATA/SHARED/NYU_FastMRI/Preprocessed/multicoil_test/file_brain_AXT1POST_203_6000790.h5\n",
      "/usr/local/micapollo01/MIC/DATA/SHARED/NYU_FastMRI/Preprocessed/multicoil_test/file_brain_AXT2_209_2090032.h5\n",
      "/usr/local/micapollo01/MIC/DATA/SHARED/NYU_FastMRI/Preprocessed/multicoil_test/file_brain_AXT2_205_6000143.h5\n",
      "/usr/local/micapollo01/MIC/DATA/SHARED/NYU_FastMRI/Preprocessed/multicoil_test/file_brain_AXFLAIR_202_6000578.h5\n",
      "/usr/local/micapollo01/MIC/DATA/SHARED/NYU_FastMRI/Preprocessed/multicoil_test/file_brain_AXT2_200_6002431.h5\n",
      "/usr/local/micapollo01/MIC/DATA/SHARED/NYU_FastMRI/Preprocessed/multicoil_test/file_brain_AXT2_209_2090309.h5\n",
      "/usr/local/micapollo01/MIC/DATA/SHARED/NYU_FastMRI/Preprocessed/multicoil_test/file_brain_AXFLAIR_209_6001383.h5\n",
      "/usr/local/micapollo01/MIC/DATA/SHARED/NYU_FastMRI/Preprocessed/multicoil_test/file_brain_AXT2_202_2020417.h5\n",
      "/usr/local/micapollo01/MIC/DATA/SHARED/NYU_FastMRI/Preprocessed/multicoil_test/file_brain_AXFLAIR_201_6002955.h5\n",
      "/usr/local/micapollo01/MIC/DATA/SHARED/NYU_FastMRI/Preprocessed/multicoil_test/file_brain_AXT2_208_2080716.h5\n",
      "/usr/local/micapollo01/MIC/DATA/SHARED/NYU_FastMRI/Preprocessed/multicoil_test/file_brain_AXT2_200_2000498.h5\n",
      "/usr/local/micapollo01/MIC/DATA/SHARED/NYU_FastMRI/Preprocessed/multicoil_test/file_brain_AXFLAIR_201_6003013.h5\n",
      "/usr/local/micapollo01/MIC/DATA/SHARED/NYU_FastMRI/Preprocessed/multicoil_test/file_brain_AXT2_203_2030129.h5\n",
      "/usr/local/micapollo01/MIC/DATA/SHARED/NYU_FastMRI/Preprocessed/multicoil_test/file_brain_AXT1PRE_210_6001766.h5\n",
      "/usr/local/micapollo01/MIC/DATA/SHARED/NYU_FastMRI/Preprocessed/multicoil_test/file_brain_AXT2_202_2020375.h5\n",
      "/usr/local/micapollo01/MIC/DATA/SHARED/NYU_FastMRI/Preprocessed/multicoil_test/file_brain_AXT1_202_2020557.h5\n",
      "/usr/local/micapollo01/MIC/DATA/SHARED/NYU_FastMRI/Preprocessed/multicoil_test/file_brain_AXT1PRE_210_6001641.h5\n",
      "/usr/local/micapollo01/MIC/DATA/SHARED/NYU_FastMRI/Preprocessed/multicoil_test/file_brain_AXT2_210_2100134.h5\n",
      "/usr/local/micapollo01/MIC/DATA/SHARED/NYU_FastMRI/Preprocessed/multicoil_test/file_brain_AXFLAIR_202_6000560.h5\n",
      "/usr/local/micapollo01/MIC/DATA/SHARED/NYU_FastMRI/Preprocessed/multicoil_test/file_brain_AXT1PRE_203_6000758.h5\n",
      "/usr/local/micapollo01/MIC/DATA/SHARED/NYU_FastMRI/Preprocessed/multicoil_test/file_brain_AXT2_210_6001560.h5\n",
      "/usr/local/micapollo01/MIC/DATA/SHARED/NYU_FastMRI/Preprocessed/multicoil_test/file_brain_AXT2_210_6001573.h5\n",
      "/usr/local/micapollo01/MIC/DATA/SHARED/NYU_FastMRI/Preprocessed/multicoil_test/file_brain_AXT1_202_2020225.h5\n",
      "/usr/local/micapollo01/MIC/DATA/SHARED/NYU_FastMRI/Preprocessed/multicoil_test/file_brain_AXT1_206_2060092.h5\n",
      "/usr/local/micapollo01/MIC/DATA/SHARED/NYU_FastMRI/Preprocessed/multicoil_test/file_brain_AXT1POST_208_2080187.h5\n",
      "/usr/local/micapollo01/MIC/DATA/SHARED/NYU_FastMRI/Preprocessed/multicoil_test/file_brain_AXT2_207_2070177.h5\n",
      "/usr/local/micapollo01/MIC/DATA/SHARED/NYU_FastMRI/Preprocessed/multicoil_test/file_brain_AXT1POST_207_2070548.h5\n",
      "/usr/local/micapollo01/MIC/DATA/SHARED/NYU_FastMRI/Preprocessed/multicoil_test/file_brain_AXT2_200_6002495.h5\n",
      "/usr/local/micapollo01/MIC/DATA/SHARED/NYU_FastMRI/Preprocessed/multicoil_test/file_brain_AXFLAIR_209_6001340.h5\n",
      "/usr/local/micapollo01/MIC/DATA/SHARED/NYU_FastMRI/Preprocessed/multicoil_test/file_brain_AXFLAIR_201_6002884.h5\n",
      "/usr/local/micapollo01/MIC/DATA/SHARED/NYU_FastMRI/Preprocessed/multicoil_test/file_brain_AXT2_209_6001116.h5\n",
      "/usr/local/micapollo01/MIC/DATA/SHARED/NYU_FastMRI/Preprocessed/multicoil_test/file_brain_AXT2_201_2010233.h5\n",
      "/usr/local/micapollo01/MIC/DATA/SHARED/NYU_FastMRI/Preprocessed/multicoil_test/file_brain_AXT1POST_209_6001004.h5\n",
      "/usr/local/micapollo01/MIC/DATA/SHARED/NYU_FastMRI/Preprocessed/multicoil_test/file_brain_AXT2_201_2010373.h5\n",
      "/usr/local/micapollo01/MIC/DATA/SHARED/NYU_FastMRI/Preprocessed/multicoil_test/file_brain_AXT1POST_200_6002436.h5\n",
      "/usr/local/micapollo01/MIC/DATA/SHARED/NYU_FastMRI/Preprocessed/multicoil_test/file_brain_AXFLAIR_200_6002544.h5\n",
      "/usr/local/micapollo01/MIC/DATA/SHARED/NYU_FastMRI/Preprocessed/multicoil_test/file_brain_AXT1POST_210_6001895.h5\n",
      "/usr/local/micapollo01/MIC/DATA/SHARED/NYU_FastMRI/Preprocessed/multicoil_test/file_brain_AXT2_209_6001016.h5\n",
      "/usr/local/micapollo01/MIC/DATA/SHARED/NYU_FastMRI/Preprocessed/multicoil_test/file_brain_AXT1POST_207_2070495.h5\n",
      "/usr/local/micapollo01/MIC/DATA/SHARED/NYU_FastMRI/Preprocessed/multicoil_test/file_brain_AXT1POST_203_6000766.h5\n",
      "/usr/local/micapollo01/MIC/DATA/SHARED/NYU_FastMRI/Preprocessed/multicoil_test/file_brain_AXT2_208_2080428.h5\n",
      "/usr/local/micapollo01/MIC/DATA/SHARED/NYU_FastMRI/Preprocessed/multicoil_test/file_brain_AXFLAIR_203_6000903.h5\n",
      "/usr/local/micapollo01/MIC/DATA/SHARED/NYU_FastMRI/Preprocessed/multicoil_test/file_brain_AXT2_209_6000975.h5\n",
      "/usr/local/micapollo01/MIC/DATA/SHARED/NYU_FastMRI/Preprocessed/multicoil_test/file_brain_AXT1POST_200_6002234.h5\n",
      "/usr/local/micapollo01/MIC/DATA/SHARED/NYU_FastMRI/Preprocessed/multicoil_test/file_brain_AXT1_202_2020254.h5\n",
      "/usr/local/micapollo01/MIC/DATA/SHARED/NYU_FastMRI/Preprocessed/multicoil_test/file_brain_AXT1POST_203_6000800.h5\n",
      "/usr/local/micapollo01/MIC/DATA/SHARED/NYU_FastMRI/Preprocessed/multicoil_test/file_brain_AXT2_209_6000984.h5\n",
      "/usr/local/micapollo01/MIC/DATA/SHARED/NYU_FastMRI/Preprocessed/multicoil_test/file_brain_AXT2_207_2070264.h5\n",
      "/usr/local/micapollo01/MIC/DATA/SHARED/NYU_FastMRI/Preprocessed/multicoil_test/file_brain_AXT2_202_2020471.h5\n",
      "/usr/local/micapollo01/MIC/DATA/SHARED/NYU_FastMRI/Preprocessed/multicoil_test/file_brain_AXT2_207_2070567.h5\n",
      "/usr/local/micapollo01/MIC/DATA/SHARED/NYU_FastMRI/Preprocessed/multicoil_test/file_brain_AXT2_210_2100030.h5\n",
      "/usr/local/micapollo01/MIC/DATA/SHARED/NYU_FastMRI/Preprocessed/multicoil_test/file_brain_AXT2_207_2070541.h5\n",
      "/usr/local/micapollo01/MIC/DATA/SHARED/NYU_FastMRI/Preprocessed/multicoil_test/file_brain_AXT2_200_2000596.h5\n",
      "/usr/local/micapollo01/MIC/DATA/SHARED/NYU_FastMRI/Preprocessed/multicoil_test/file_brain_AXT1POST_209_6001142.h5\n",
      "/usr/local/micapollo01/MIC/DATA/SHARED/NYU_FastMRI/Preprocessed/multicoil_test/file_brain_AXT1POST_200_6002410.h5\n",
      "/usr/local/micapollo01/MIC/DATA/SHARED/NYU_FastMRI/Preprocessed/multicoil_test/file_brain_AXT2_206_2060032.h5\n",
      "/usr/local/micapollo01/MIC/DATA/SHARED/NYU_FastMRI/Preprocessed/multicoil_test/file_brain_AXT2_209_6001473.h5\n",
      "/usr/local/micapollo01/MIC/DATA/SHARED/NYU_FastMRI/Preprocessed/multicoil_test/file_brain_AXT1_202_2020202.h5\n",
      "/usr/local/micapollo01/MIC/DATA/SHARED/NYU_FastMRI/Preprocessed/multicoil_test/file_brain_AXT1_206_2060052.h5\n",
      "/usr/local/micapollo01/MIC/DATA/SHARED/NYU_FastMRI/Preprocessed/multicoil_test/file_brain_AXT2_200_2000368.h5\n",
      "/usr/local/micapollo01/MIC/DATA/SHARED/NYU_FastMRI/Preprocessed/multicoil_test/file_brain_AXT1_202_6000282.h5\n",
      "/usr/local/micapollo01/MIC/DATA/SHARED/NYU_FastMRI/Preprocessed/multicoil_test/file_brain_AXFLAIR_200_6002517.h5\n",
      "/usr/local/micapollo01/MIC/DATA/SHARED/NYU_FastMRI/Preprocessed/multicoil_test/file_brain_AXT2_200_6002643.h5\n",
      "/usr/local/micapollo01/MIC/DATA/SHARED/NYU_FastMRI/Preprocessed/multicoil_test/file_brain_AXT2_203_2030075.h5\n",
      "/usr/local/micapollo01/MIC/DATA/SHARED/NYU_FastMRI/Preprocessed/multicoil_test/file_brain_AXT2_210_2100405.h5\n",
      "/usr/local/micapollo01/MIC/DATA/SHARED/NYU_FastMRI/Preprocessed/multicoil_test/file_brain_AXFLAIR_200_6002497.h5\n",
      "/usr/local/micapollo01/MIC/DATA/SHARED/NYU_FastMRI/Preprocessed/multicoil_test/file_brain_AXT1POST_209_6001139.h5\n",
      "/usr/local/micapollo01/MIC/DATA/SHARED/NYU_FastMRI/Preprocessed/multicoil_test/file_brain_AXT2_208_2080495.h5\n",
      "/usr/local/micapollo01/MIC/DATA/SHARED/NYU_FastMRI/Preprocessed/multicoil_test/file_brain_AXT2_209_2090050.h5\n",
      "/usr/local/micapollo01/MIC/DATA/SHARED/NYU_FastMRI/Preprocessed/multicoil_test/file_brain_AXT2_207_2070215.h5\n",
      "/usr/local/micapollo01/MIC/DATA/SHARED/NYU_FastMRI/Preprocessed/multicoil_test/file_brain_AXT1POST_202_6000289.h5\n",
      "/usr/local/micapollo01/MIC/DATA/SHARED/NYU_FastMRI/Preprocessed/multicoil_test/file_brain_AXT2_200_2000110.h5\n",
      "/usr/local/micapollo01/MIC/DATA/SHARED/NYU_FastMRI/Preprocessed/multicoil_test/file_brain_AXT2_200_6002400.h5\n",
      "/usr/local/micapollo01/MIC/DATA/SHARED/NYU_FastMRI/Preprocessed/multicoil_test/file_brain_AXT2_202_2020571.h5\n",
      "/usr/local/micapollo01/MIC/DATA/SHARED/NYU_FastMRI/Preprocessed/multicoil_test/file_brain_AXT2_209_6001065.h5\n",
      "/usr/local/micapollo01/MIC/DATA/SHARED/NYU_FastMRI/Preprocessed/multicoil_test/file_brain_AXT2_210_6001508.h5\n",
      "/usr/local/micapollo01/MIC/DATA/SHARED/NYU_FastMRI/Preprocessed/multicoil_test/file_brain_AXFLAIR_203_6000952.h5\n",
      "/usr/local/micapollo01/MIC/DATA/SHARED/NYU_FastMRI/Preprocessed/multicoil_test/file_brain_AXT2_202_2020115.h5\n",
      "/usr/local/micapollo01/MIC/DATA/SHARED/NYU_FastMRI/Preprocessed/multicoil_test/file_brain_AXT1PRE_203_6000819.h5\n",
      "/usr/local/micapollo01/MIC/DATA/SHARED/NYU_FastMRI/Preprocessed/multicoil_test/file_brain_AXT1POST_209_6001210.h5\n",
      "/usr/local/micapollo01/MIC/DATA/SHARED/NYU_FastMRI/Preprocessed/multicoil_test/file_brain_AXT1POST_207_2070112.h5\n",
      "/usr/local/micapollo01/MIC/DATA/SHARED/NYU_FastMRI/Preprocessed/multicoil_test/file_brain_AXT1POST_201_6002860.h5\n",
      "/usr/local/micapollo01/MIC/DATA/SHARED/NYU_FastMRI/Preprocessed/multicoil_test/file_brain_AXT1POST_208_2080436.h5\n",
      "/usr/local/micapollo01/MIC/DATA/SHARED/NYU_FastMRI/Preprocessed/multicoil_test/file_brain_AXT1POST_207_2070433.h5\n",
      "/usr/local/micapollo01/MIC/DATA/SHARED/NYU_FastMRI/Preprocessed/multicoil_test/file_brain_AXT1PRE_205_6000028.h5\n",
      "/usr/local/micapollo01/MIC/DATA/SHARED/NYU_FastMRI/Preprocessed/multicoil_test/file_brain_AXT1_202_2020549.h5\n",
      "/usr/local/micapollo01/MIC/DATA/SHARED/NYU_FastMRI/Preprocessed/multicoil_test/file_brain_AXT2_206_2060069.h5\n",
      "/usr/local/micapollo01/MIC/DATA/SHARED/NYU_FastMRI/Preprocessed/multicoil_test/file_brain_AXFLAIR_203_6000948.h5\n",
      "/usr/local/micapollo01/MIC/DATA/SHARED/NYU_FastMRI/Preprocessed/multicoil_test/file_brain_AXT2_200_2000186.h5\n",
      "/usr/local/micapollo01/MIC/DATA/SHARED/NYU_FastMRI/Preprocessed/multicoil_test/file_brain_AXT1POST_203_6000625.h5\n",
      "/usr/local/micapollo01/MIC/DATA/SHARED/NYU_FastMRI/Preprocessed/multicoil_test/file_brain_AXT1POST_205_2050253.h5\n",
      "/usr/local/micapollo01/MIC/DATA/SHARED/NYU_FastMRI/Preprocessed/multicoil_test/file_brain_AXT2_207_2070376.h5\n",
      "/usr/local/micapollo01/MIC/DATA/SHARED/NYU_FastMRI/Preprocessed/multicoil_test/file_brain_AXT2_207_2070240.h5\n",
      "/usr/local/micapollo01/MIC/DATA/SHARED/NYU_FastMRI/Preprocessed/multicoil_test/file_brain_AXT2_205_2050249.h5\n",
      "/usr/local/micapollo01/MIC/DATA/SHARED/NYU_FastMRI/Preprocessed/multicoil_test/file_brain_AXT2_203_2030159.h5\n",
      "/usr/local/micapollo01/MIC/DATA/SHARED/NYU_FastMRI/Preprocessed/multicoil_test/file_brain_AXT2_202_2020411.h5\n",
      "/usr/local/micapollo01/MIC/DATA/SHARED/NYU_FastMRI/Preprocessed/multicoil_test/file_brain_AXT2_200_6002623.h5\n",
      "/usr/local/micapollo01/MIC/DATA/SHARED/NYU_FastMRI/Preprocessed/multicoil_test/file_brain_AXT1POST_209_6001184.h5\n",
      "/usr/local/micapollo01/MIC/DATA/SHARED/NYU_FastMRI/Preprocessed/multicoil_test/file_brain_AXT1POST_207_2070627.h5\n",
      "/usr/local/micapollo01/MIC/DATA/SHARED/NYU_FastMRI/Preprocessed/multicoil_test/file_brain_AXT2_201_2010254.h5\n",
      "/usr/local/micapollo01/MIC/DATA/SHARED/NYU_FastMRI/Preprocessed/multicoil_test/file_brain_AXT2_201_2010028.h5\n",
      "/usr/local/micapollo01/MIC/DATA/SHARED/NYU_FastMRI/Preprocessed/multicoil_test/file_brain_AXT2_204_2040093.h5\n",
      "/usr/local/micapollo01/MIC/DATA/SHARED/NYU_FastMRI/Preprocessed/multicoil_test/file_brain_AXT1_202_6000301.h5\n",
      "/usr/local/micapollo01/MIC/DATA/SHARED/NYU_FastMRI/Preprocessed/multicoil_test/file_brain_AXT2_205_2050103.h5\n",
      "/usr/local/micapollo01/MIC/DATA/SHARED/NYU_FastMRI/Preprocessed/multicoil_test/file_brain_AXT2_203_2030057.h5\n",
      "/usr/local/micapollo01/MIC/DATA/SHARED/NYU_FastMRI/Preprocessed/multicoil_test/file_brain_AXFLAIR_210_6001949.h5\n",
      "/usr/local/micapollo01/MIC/DATA/SHARED/NYU_FastMRI/Preprocessed/multicoil_test/file_brain_AXT2_200_2000304.h5\n",
      "/usr/local/micapollo01/MIC/DATA/SHARED/NYU_FastMRI/Preprocessed/multicoil_test/file_brain_AXFLAIR_200_6002480.h5\n",
      "/usr/local/micapollo01/MIC/DATA/SHARED/NYU_FastMRI/Preprocessed/multicoil_test/file_brain_AXT2_202_2020356.h5\n",
      "/usr/local/micapollo01/MIC/DATA/SHARED/NYU_FastMRI/Preprocessed/multicoil_test/file_brain_AXFLAIR_200_6002441.h5\n",
      "/usr/local/micapollo01/MIC/DATA/SHARED/NYU_FastMRI/Preprocessed/multicoil_test/file_brain_AXT2_202_2020536.h5\n",
      "/usr/local/micapollo01/MIC/DATA/SHARED/NYU_FastMRI/Preprocessed/multicoil_test/file_brain_AXT1PRE_200_6002385.h5\n",
      "/usr/local/micapollo01/MIC/DATA/SHARED/NYU_FastMRI/Preprocessed/multicoil_test/file_brain_AXT2_201_2010135.h5\n",
      "/usr/local/micapollo01/MIC/DATA/SHARED/NYU_FastMRI/Preprocessed/multicoil_test/file_brain_AXT2_201_2010405.h5\n",
      "/usr/local/micapollo01/MIC/DATA/SHARED/NYU_FastMRI/Preprocessed/multicoil_test/file_brain_AXT2_206_6000244.h5\n",
      "/usr/local/micapollo01/MIC/DATA/SHARED/NYU_FastMRI/Preprocessed/multicoil_test/file_brain_AXT1POST_203_6000604.h5\n",
      "/usr/local/micapollo01/MIC/DATA/SHARED/NYU_FastMRI/Preprocessed/multicoil_test/file_brain_AXFLAIR_210_6001916.h5\n",
      "/usr/local/micapollo01/MIC/DATA/SHARED/NYU_FastMRI/Preprocessed/multicoil_test/file_brain_AXT2_209_6001056.h5\n",
      "/usr/local/micapollo01/MIC/DATA/SHARED/NYU_FastMRI/Preprocessed/multicoil_test/file_brain_AXFLAIR_210_6001516.h5\n",
      "/usr/local/micapollo01/MIC/DATA/SHARED/NYU_FastMRI/Preprocessed/multicoil_test/file_brain_AXT2_207_2070414.h5\n",
      "/usr/local/micapollo01/MIC/DATA/SHARED/NYU_FastMRI/Preprocessed/multicoil_test/file_brain_AXT2_200_6002602.h5\n",
      "/usr/local/micapollo01/MIC/DATA/SHARED/NYU_FastMRI/Preprocessed/multicoil_test/file_brain_AXT2_209_6001200.h5\n",
      "/usr/local/micapollo01/MIC/DATA/SHARED/NYU_FastMRI/Preprocessed/multicoil_test/file_brain_AXT2_200_2000151.h5\n",
      "/usr/local/micapollo01/MIC/DATA/SHARED/NYU_FastMRI/Preprocessed/multicoil_test/file_brain_AXT2_205_6000024.h5\n",
      "/usr/local/micapollo01/MIC/DATA/SHARED/NYU_FastMRI/Preprocessed/multicoil_test/file_brain_AXFLAIR_200_6002635.h5\n",
      "/usr/local/micapollo01/MIC/DATA/SHARED/NYU_FastMRI/Preprocessed/multicoil_test/file_brain_AXT2_208_2080434.h5\n",
      "/usr/local/micapollo01/MIC/DATA/SHARED/NYU_FastMRI/Preprocessed/multicoil_test/file_brain_AXT2_202_2020339.h5\n",
      "/usr/local/micapollo01/MIC/DATA/SHARED/NYU_FastMRI/Preprocessed/multicoil_test/file_brain_AXT2_208_2080149.h5\n",
      "/usr/local/micapollo01/MIC/DATA/SHARED/NYU_FastMRI/Preprocessed/multicoil_test/file_brain_AXT2_200_2000129.h5\n",
      "/usr/local/micapollo01/MIC/DATA/SHARED/NYU_FastMRI/Preprocessed/multicoil_test/file_brain_AXT2_201_2010043.h5\n",
      "/usr/local/micapollo01/MIC/DATA/SHARED/NYU_FastMRI/Preprocessed/multicoil_test/file_brain_AXT2_205_2050198.h5\n",
      "/usr/local/micapollo01/MIC/DATA/SHARED/NYU_FastMRI/Preprocessed/multicoil_test/file_brain_AXT2_203_2030037.h5\n",
      "/usr/local/micapollo01/MIC/DATA/SHARED/NYU_FastMRI/Preprocessed/multicoil_test/file_brain_AXT2_201_2010250.h5\n",
      "/usr/local/micapollo01/MIC/DATA/SHARED/NYU_FastMRI/Preprocessed/multicoil_test/file_brain_AXT2_210_6001626.h5\n",
      "/usr/local/micapollo01/MIC/DATA/SHARED/NYU_FastMRI/Preprocessed/multicoil_test/file_brain_AXT2_203_2030098.h5\n",
      "/usr/local/micapollo01/MIC/DATA/SHARED/NYU_FastMRI/Preprocessed/multicoil_test/file_brain_AXT2_210_6001798.h5\n",
      "/usr/local/micapollo01/MIC/DATA/SHARED/NYU_FastMRI/Preprocessed/multicoil_test/file_brain_AXT2_202_2020383.h5\n",
      "/usr/local/micapollo01/MIC/DATA/SHARED/NYU_FastMRI/Preprocessed/multicoil_test/file_brain_AXT2_208_2080121.h5\n",
      "/usr/local/micapollo01/MIC/DATA/SHARED/NYU_FastMRI/Preprocessed/multicoil_test/file_brain_AXT1POST_207_2070444.h5\n",
      "/usr/local/micapollo01/MIC/DATA/SHARED/NYU_FastMRI/Preprocessed/multicoil_test/file_brain_AXT2_208_2080015.h5\n",
      "/usr/local/micapollo01/MIC/DATA/SHARED/NYU_FastMRI/Preprocessed/multicoil_test/file_brain_AXT2_210_6001535.h5\n",
      "/usr/local/micapollo01/MIC/DATA/SHARED/NYU_FastMRI/Preprocessed/multicoil_test/file_brain_AXT2_209_6001043.h5\n",
      "/usr/local/micapollo01/MIC/DATA/SHARED/NYU_FastMRI/Preprocessed/multicoil_test/file_brain_AXT2_209_2090256.h5\n",
      "/usr/local/micapollo01/MIC/DATA/SHARED/NYU_FastMRI/Preprocessed/multicoil_test/file_brain_AXT2_205_6000123.h5\n",
      "/usr/local/micapollo01/MIC/DATA/SHARED/NYU_FastMRI/Preprocessed/multicoil_test/file_brain_AXT2_200_2000535.h5\n",
      "/usr/local/micapollo01/MIC/DATA/SHARED/NYU_FastMRI/Preprocessed/multicoil_test/file_brain_AXT2_200_2000234.h5\n",
      "/usr/local/micapollo01/MIC/DATA/SHARED/NYU_FastMRI/Preprocessed/multicoil_test/file_brain_AXT1_202_6000368.h5\n",
      "/usr/local/micapollo01/MIC/DATA/SHARED/NYU_FastMRI/Preprocessed/multicoil_test/file_brain_AXT1POST_207_2070787.h5\n",
      "/usr/local/micapollo01/MIC/DATA/SHARED/NYU_FastMRI/Preprocessed/multicoil_test/file_brain_AXT1_202_6000357.h5\n",
      "/usr/local/micapollo01/MIC/DATA/SHARED/NYU_FastMRI/Preprocessed/multicoil_test/file_brain_AXT2_207_2070209.h5\n",
      "/usr/local/micapollo01/MIC/DATA/SHARED/NYU_FastMRI/Preprocessed/multicoil_test/file_brain_AXT1_202_2020553.h5\n",
      "/usr/local/micapollo01/MIC/DATA/SHARED/NYU_FastMRI/Preprocessed/multicoil_test/file_brain_AXT2_203_2030190.h5\n",
      "/usr/local/micapollo01/MIC/DATA/SHARED/NYU_FastMRI/Preprocessed/multicoil_test/file_brain_AXT2_202_2020128.h5\n",
      "/usr/local/micapollo01/MIC/DATA/SHARED/NYU_FastMRI/Preprocessed/multicoil_test/file_brain_AXFLAIR_202_6000415.h5\n",
      "/usr/local/micapollo01/MIC/DATA/SHARED/NYU_FastMRI/Preprocessed/multicoil_test/file_brain_AXT2_202_2020539.h5\n",
      "/usr/local/micapollo01/MIC/DATA/SHARED/NYU_FastMRI/Preprocessed/multicoil_test/file_brain_AXT1POST_208_2080146.h5\n",
      "/usr/local/micapollo01/MIC/DATA/SHARED/NYU_FastMRI/Preprocessed/multicoil_test/file_brain_AXFLAIR_206_6000258.h5\n",
      "/usr/local/micapollo01/MIC/DATA/SHARED/NYU_FastMRI/Preprocessed/multicoil_test/file_brain_AXT1POST_202_6000516.h5\n",
      "/usr/local/micapollo01/MIC/DATA/SHARED/NYU_FastMRI/Preprocessed/multicoil_test/file_brain_AXT1POST_205_6000098.h5\n",
      "/usr/local/micapollo01/MIC/DATA/SHARED/NYU_FastMRI/Preprocessed/multicoil_test/file_brain_AXT2_205_2050152.h5\n",
      "/usr/local/micapollo01/MIC/DATA/SHARED/NYU_FastMRI/Preprocessed/multicoil_test/file_brain_AXT2_210_6001738.h5\n",
      "/usr/local/micapollo01/MIC/DATA/SHARED/NYU_FastMRI/Preprocessed/multicoil_test/file_brain_AXT2_208_2080627.h5\n",
      "/usr/local/micapollo01/MIC/DATA/SHARED/NYU_FastMRI/Preprocessed/multicoil_test/file_brain_AXT2_210_2100213.h5\n",
      "/usr/local/micapollo01/MIC/DATA/SHARED/NYU_FastMRI/Preprocessed/multicoil_test/file_brain_AXT1POST_207_2070271.h5\n",
      "/usr/local/micapollo01/MIC/DATA/SHARED/NYU_FastMRI/Preprocessed/multicoil_test/file_brain_AXT2_201_2010040.h5\n",
      "/usr/local/micapollo01/MIC/DATA/SHARED/NYU_FastMRI/Preprocessed/multicoil_test/file_brain_AXT2_209_6001475.h5\n",
      "/usr/local/micapollo01/MIC/DATA/SHARED/NYU_FastMRI/Preprocessed/multicoil_test/file_brain_AXT2_207_2070312.h5\n",
      "/usr/local/micapollo01/MIC/DATA/SHARED/NYU_FastMRI/Preprocessed/multicoil_test/file_brain_AXT2_209_2090260.h5\n",
      "/usr/local/micapollo01/MIC/DATA/SHARED/NYU_FastMRI/Preprocessed/multicoil_test/file_brain_AXT2_201_2010178.h5\n",
      "/usr/local/micapollo01/MIC/DATA/SHARED/NYU_FastMRI/Preprocessed/multicoil_test/file_brain_AXT2_208_2080515.h5\n",
      "/usr/local/micapollo01/MIC/DATA/SHARED/NYU_FastMRI/Preprocessed/multicoil_test/file_brain_AXFLAIR_202_6000552.h5\n",
      "/usr/local/micapollo01/MIC/DATA/SHARED/NYU_FastMRI/Preprocessed/multicoil_test/file_brain_AXT1POST_207_2070561.h5\n",
      "/usr/local/micapollo01/MIC/DATA/SHARED/NYU_FastMRI/Preprocessed/multicoil_test/file_brain_AXT2_208_2080360.h5\n",
      "/usr/local/micapollo01/MIC/DATA/SHARED/NYU_FastMRI/Preprocessed/multicoil_test/file_brain_AXT1PRE_203_6000666.h5\n",
      "/usr/local/micapollo01/MIC/DATA/SHARED/NYU_FastMRI/Preprocessed/multicoil_test/file_brain_AXT2_207_2070191.h5\n",
      "/usr/local/micapollo01/MIC/DATA/SHARED/NYU_FastMRI/Preprocessed/multicoil_test/file_brain_AXT2_201_2010242.h5\n",
      "/usr/local/micapollo01/MIC/DATA/SHARED/NYU_FastMRI/Preprocessed/multicoil_test/file_brain_AXT2_209_6001083.h5\n",
      "/usr/local/micapollo01/MIC/DATA/SHARED/NYU_FastMRI/Preprocessed/multicoil_test/file_brain_AXT1POST_207_2070057.h5\n",
      "/usr/local/micapollo01/MIC/DATA/SHARED/NYU_FastMRI/Preprocessed/multicoil_test/file_brain_AXT2_200_6001964.h5\n",
      "/usr/local/micapollo01/MIC/DATA/SHARED/NYU_FastMRI/Preprocessed/multicoil_test/file_brain_AXT2_207_2070622.h5\n",
      "/usr/local/micapollo01/MIC/DATA/SHARED/NYU_FastMRI/Preprocessed/multicoil_test/file_brain_AXT2_201_2010103.h5\n",
      "/usr/local/micapollo01/MIC/DATA/SHARED/NYU_FastMRI/Preprocessed/multicoil_test/file_brain_AXT2_209_2090241.h5\n",
      "/usr/local/micapollo01/MIC/DATA/SHARED/NYU_FastMRI/Preprocessed/multicoil_test/file_brain_AXT1PRE_203_6000742.h5\n",
      "/usr/local/micapollo01/MIC/DATA/SHARED/NYU_FastMRI/Preprocessed/multicoil_test/file_brain_AXT1POST_203_6000722.h5\n",
      "/usr/local/micapollo01/MIC/DATA/SHARED/NYU_FastMRI/Preprocessed/multicoil_test/file_brain_AXT2_209_6001295.h5\n",
      "/usr/local/micapollo01/MIC/DATA/SHARED/NYU_FastMRI/Preprocessed/multicoil_test/file_brain_AXT2_206_6000208.h5\n",
      "/usr/local/micapollo01/MIC/DATA/SHARED/NYU_FastMRI/Preprocessed/multicoil_test/file_brain_AXT2_210_6001812.h5\n",
      "/usr/local/micapollo01/MIC/DATA/SHARED/NYU_FastMRI/Preprocessed/multicoil_test/file_brain_AXT1POST_208_2080056.h5\n",
      "/usr/local/micapollo01/MIC/DATA/SHARED/NYU_FastMRI/Preprocessed/multicoil_test/file_brain_AXT1POST_203_6000718.h5\n",
      "/usr/local/micapollo01/MIC/DATA/SHARED/NYU_FastMRI/Preprocessed/multicoil_test/file_brain_AXT2_209_2090345.h5\n",
      "/usr/local/micapollo01/MIC/DATA/SHARED/NYU_FastMRI/Preprocessed/multicoil_test/file_brain_AXT1POST_209_6001144.h5\n",
      "/usr/local/micapollo01/MIC/DATA/SHARED/NYU_FastMRI/Preprocessed/multicoil_test/file_brain_AXT1POST_201_6002958.h5\n",
      "/usr/local/micapollo01/MIC/DATA/SHARED/NYU_FastMRI/Preprocessed/multicoil_test/file_brain_AXT2_210_6001590.h5\n",
      "/usr/local/micapollo01/MIC/DATA/SHARED/NYU_FastMRI/Preprocessed/multicoil_test/file_brain_AXT2_208_2080123.h5\n",
      "/usr/local/micapollo01/MIC/DATA/SHARED/NYU_FastMRI/Preprocessed/multicoil_test/file_brain_AXT2_210_6001942.h5\n",
      "/usr/local/micapollo01/MIC/DATA/SHARED/NYU_FastMRI/Preprocessed/multicoil_test/file_brain_AXT2_200_6002031.h5\n",
      "/usr/local/micapollo01/MIC/DATA/SHARED/NYU_FastMRI/Preprocessed/multicoil_test/file_brain_AXFLAIR_200_6002564.h5\n",
      "/usr/local/micapollo01/MIC/DATA/SHARED/NYU_FastMRI/Preprocessed/multicoil_test/file_brain_AXT2_207_2070051.h5\n",
      "/usr/local/micapollo01/MIC/DATA/SHARED/NYU_FastMRI/Preprocessed/multicoil_test/file_brain_AXT2_202_2020425.h5\n",
      "/usr/local/micapollo01/MIC/DATA/SHARED/NYU_FastMRI/Preprocessed/multicoil_test/file_brain_AXT2_209_6001155.h5\n",
      "/usr/local/micapollo01/MIC/DATA/SHARED/NYU_FastMRI/Preprocessed/multicoil_test/file_brain_AXT1POST_208_2080410.h5\n",
      "/usr/local/micapollo01/MIC/DATA/SHARED/NYU_FastMRI/Preprocessed/multicoil_test/file_brain_AXT2_201_2010426.h5\n",
      "/usr/local/micapollo01/MIC/DATA/SHARED/NYU_FastMRI/Preprocessed/multicoil_test/file_brain_AXT2_208_2080351.h5\n",
      "/usr/local/micapollo01/MIC/DATA/SHARED/NYU_FastMRI/Preprocessed/multicoil_test/file_brain_AXT2_209_6001143.h5\n",
      "/usr/local/micapollo01/MIC/DATA/SHARED/NYU_FastMRI/Preprocessed/multicoil_test/file_brain_AXT1_202_2020433.h5\n",
      "/usr/local/micapollo01/MIC/DATA/SHARED/NYU_FastMRI/Preprocessed/multicoil_test/file_brain_AXT1POST_202_6000293.h5\n",
      "/usr/local/micapollo01/MIC/DATA/SHARED/NYU_FastMRI/Preprocessed/multicoil_test/file_brain_AXT2_207_2070797.h5\n",
      "/usr/local/micapollo01/MIC/DATA/SHARED/NYU_FastMRI/Preprocessed/multicoil_test/file_brain_AXT1PRE_210_6001695.h5\n",
      "/usr/local/micapollo01/MIC/DATA/SHARED/NYU_FastMRI/Preprocessed/multicoil_test/file_brain_AXT2_200_6002123.h5\n",
      "/usr/local/micapollo01/MIC/DATA/SHARED/NYU_FastMRI/Preprocessed/multicoil_test/file_brain_AXT2_208_2080499.h5\n",
      "/usr/local/micapollo01/MIC/DATA/SHARED/NYU_FastMRI/Preprocessed/multicoil_test/file_brain_AXT2_200_2000158.h5\n",
      "/usr/local/micapollo01/MIC/DATA/SHARED/NYU_FastMRI/Preprocessed/multicoil_test/file_brain_AXT2_205_2050252.h5\n",
      "/usr/local/micapollo01/MIC/DATA/SHARED/NYU_FastMRI/Preprocessed/multicoil_test/file_brain_AXT1PRE_201_6002693.h5\n",
      "/usr/local/micapollo01/MIC/DATA/SHARED/NYU_FastMRI/Preprocessed/multicoil_test/file_brain_AXT1POST_207_2070682.h5\n",
      "/usr/local/micapollo01/MIC/DATA/SHARED/NYU_FastMRI/Preprocessed/multicoil_test/file_brain_AXT1POST_200_6002613.h5\n",
      "/usr/local/micapollo01/MIC/DATA/SHARED/NYU_FastMRI/Preprocessed/multicoil_test/file_brain_AXT2_200_6002639.h5\n",
      "/usr/local/micapollo01/MIC/DATA/SHARED/NYU_FastMRI/Preprocessed/multicoil_test/file_brain_AXT2_206_2060031.h5\n",
      "/usr/local/micapollo01/MIC/DATA/SHARED/NYU_FastMRI/Preprocessed/multicoil_test/file_brain_AXT2_202_2020373.h5\n",
      "/usr/local/micapollo01/MIC/DATA/SHARED/NYU_FastMRI/Preprocessed/multicoil_test/file_brain_AXT1POST_207_2070370.h5\n",
      "/usr/local/micapollo01/MIC/DATA/SHARED/NYU_FastMRI/Preprocessed/multicoil_test/file_brain_AXT2_210_2100284.h5\n",
      "/usr/local/micapollo01/MIC/DATA/SHARED/NYU_FastMRI/Preprocessed/multicoil_test/file_brain_AXT2_208_2080464.h5\n",
      "/usr/local/micapollo01/MIC/DATA/SHARED/NYU_FastMRI/Preprocessed/multicoil_test/file_brain_AXT2_209_2090343.h5\n",
      "/usr/local/micapollo01/MIC/DATA/SHARED/NYU_FastMRI/Preprocessed/multicoil_test/file_brain_AXT1PRE_210_6001713.h5\n",
      "/usr/local/micapollo01/MIC/DATA/SHARED/NYU_FastMRI/Preprocessed/multicoil_test/file_brain_AXT2_200_6002434.h5\n",
      "/usr/local/micapollo01/MIC/DATA/SHARED/NYU_FastMRI/Preprocessed/multicoil_test/file_brain_AXT2_200_6002647.h5\n",
      "/usr/local/micapollo01/MIC/DATA/SHARED/NYU_FastMRI/Preprocessed/multicoil_test/file_brain_AXT1POST_207_2070338.h5\n",
      "/usr/local/micapollo01/MIC/DATA/SHARED/NYU_FastMRI/Preprocessed/multicoil_test/file_brain_AXT1POST_207_2070027.h5\n",
      "/usr/local/micapollo01/MIC/DATA/SHARED/NYU_FastMRI/Preprocessed/multicoil_test/file_brain_AXFLAIR_210_6001880.h5\n",
      "/usr/local/micapollo01/MIC/DATA/SHARED/NYU_FastMRI/Preprocessed/multicoil_test/file_brain_AXT2_201_2010573.h5\n",
      "/usr/local/micapollo01/MIC/DATA/SHARED/NYU_FastMRI/Preprocessed/multicoil_test/file_brain_AXT2_202_2020588.h5\n",
      "/usr/local/micapollo01/MIC/DATA/SHARED/NYU_FastMRI/Preprocessed/multicoil_test/file_brain_AXT2_207_2070445.h5\n",
      "/usr/local/micapollo01/MIC/DATA/SHARED/NYU_FastMRI/Preprocessed/multicoil_test/file_brain_AXT2_207_2070369.h5\n",
      "/usr/local/micapollo01/MIC/DATA/SHARED/NYU_FastMRI/Preprocessed/multicoil_test/file_brain_AXT2_208_2080391.h5\n",
      "/usr/local/micapollo01/MIC/DATA/SHARED/NYU_FastMRI/Preprocessed/multicoil_test/file_brain_AXT1POST_201_6002718.h5\n",
      "/usr/local/micapollo01/MIC/DATA/SHARED/NYU_FastMRI/Preprocessed/multicoil_test/file_brain_AXT1POST_207_2070502.h5\n",
      "/usr/local/micapollo01/MIC/DATA/SHARED/NYU_FastMRI/Preprocessed/multicoil_test/file_brain_AXT1PRE_203_6000697.h5\n",
      "/usr/local/micapollo01/MIC/DATA/SHARED/NYU_FastMRI/Preprocessed/multicoil_test/file_brain_AXT1POST_207_2070053.h5\n",
      "/usr/local/micapollo01/MIC/DATA/SHARED/NYU_FastMRI/Preprocessed/multicoil_test/file_brain_AXT2_201_2010190.h5\n",
      "/usr/local/micapollo01/MIC/DATA/SHARED/NYU_FastMRI/Preprocessed/multicoil_test/file_brain_AXT2_207_2070233.h5\n",
      "/usr/local/micapollo01/MIC/DATA/SHARED/NYU_FastMRI/Preprocessed/multicoil_test/file_brain_AXT2_202_2020011.h5\n",
      "/usr/local/micapollo01/MIC/DATA/SHARED/NYU_FastMRI/Preprocessed/multicoil_test/file_brain_AXT2_209_2090396.h5\n",
      "/usr/local/micapollo01/MIC/DATA/SHARED/NYU_FastMRI/Preprocessed/multicoil_test/file_brain_AXT1POST_208_2080427.h5\n",
      "/usr/local/micapollo01/MIC/DATA/SHARED/NYU_FastMRI/Preprocessed/multicoil_test/file_brain_AXT1PRE_205_6000066.h5\n",
      "/usr/local/micapollo01/MIC/DATA/SHARED/NYU_FastMRI/Preprocessed/multicoil_test/file_brain_AXT2_210_6001843.h5\n",
      "/usr/local/micapollo01/MIC/DATA/SHARED/NYU_FastMRI/Preprocessed/multicoil_test/file_brain_AXT2_206_2060091.h5\n",
      "/usr/local/micapollo01/MIC/DATA/SHARED/NYU_FastMRI/Preprocessed/multicoil_test/file_brain_AXT2_202_2020267.h5\n",
      "/usr/local/micapollo01/MIC/DATA/SHARED/NYU_FastMRI/Preprocessed/multicoil_test/file_brain_AXT1POST_209_6001102.h5\n",
      "/usr/local/micapollo01/MIC/DATA/SHARED/NYU_FastMRI/Preprocessed/multicoil_test/file_brain_AXT2_209_2090150.h5\n",
      "/usr/local/micapollo01/MIC/DATA/SHARED/NYU_FastMRI/Preprocessed/multicoil_test/file_brain_AXT1_206_2060075.h5\n",
      "/usr/local/micapollo01/MIC/DATA/SHARED/NYU_FastMRI/Preprocessed/multicoil_test/file_brain_AXT1POST_210_6001811.h5\n",
      "/usr/local/micapollo01/MIC/DATA/SHARED/NYU_FastMRI/Preprocessed/multicoil_test/file_brain_AXT2_203_2030043.h5\n",
      "/usr/local/micapollo01/MIC/DATA/SHARED/NYU_FastMRI/Preprocessed/multicoil_test/file_brain_AXT2_210_6001852.h5\n",
      "/usr/local/micapollo01/MIC/DATA/SHARED/NYU_FastMRI/Preprocessed/multicoil_test/file_brain_AXT1POST_207_2070647.h5\n",
      "/usr/local/micapollo01/MIC/DATA/SHARED/NYU_FastMRI/Preprocessed/multicoil_test/file_brain_AXT2_200_2000046.h5\n",
      "/usr/local/micapollo01/MIC/DATA/SHARED/NYU_FastMRI/Preprocessed/multicoil_test/file_brain_AXT2_207_2070286.h5\n",
      "/usr/local/micapollo01/MIC/DATA/SHARED/NYU_FastMRI/Preprocessed/multicoil_test/file_brain_AXT2_209_6001070.h5\n",
      "/usr/local/micapollo01/MIC/DATA/SHARED/NYU_FastMRI/Preprocessed/multicoil_test/file_brain_AXT2_210_6001936.h5\n",
      "/usr/local/micapollo01/MIC/DATA/SHARED/NYU_FastMRI/Preprocessed/multicoil_test/file_brain_AXT2_200_6002339.h5\n",
      "/usr/local/micapollo01/MIC/DATA/SHARED/NYU_FastMRI/Preprocessed/multicoil_test/file_brain_AXT2_210_6001718.h5\n",
      "/usr/local/micapollo01/MIC/DATA/SHARED/NYU_FastMRI/Preprocessed/multicoil_test/file_brain_AXT2_203_2030055.h5\n",
      "/usr/local/micapollo01/MIC/DATA/SHARED/NYU_FastMRI/Preprocessed/multicoil_test/file_brain_AXFLAIR_201_6002930.h5\n",
      "/usr/local/micapollo01/MIC/DATA/SHARED/NYU_FastMRI/Preprocessed/multicoil_test/file_brain_AXT1POST_203_6000630.h5\n",
      "/usr/local/micapollo01/MIC/DATA/SHARED/NYU_FastMRI/Preprocessed/multicoil_test/file_brain_AXT1_201_6002721.h5\n",
      "/usr/local/micapollo01/MIC/DATA/SHARED/NYU_FastMRI/Preprocessed/multicoil_test/file_brain_AXT1POST_205_2050150.h5\n",
      "/usr/local/micapollo01/MIC/DATA/SHARED/NYU_FastMRI/Preprocessed/multicoil_test/file_brain_AXT2_210_6001746.h5\n",
      "/usr/local/micapollo01/MIC/DATA/SHARED/NYU_FastMRI/Preprocessed/multicoil_test/file_brain_AXFLAIR_201_6002927.h5\n",
      "/usr/local/micapollo01/MIC/DATA/SHARED/NYU_FastMRI/Preprocessed/multicoil_test/file_brain_AXT1POST_203_6000806.h5\n",
      "/usr/local/micapollo01/MIC/DATA/SHARED/NYU_FastMRI/Preprocessed/multicoil_test/file_brain_AXT1POST_205_6000089.h5\n",
      "/usr/local/micapollo01/MIC/DATA/SHARED/NYU_FastMRI/Preprocessed/multicoil_test/file_brain_AXT2_200_6002491.h5\n",
      "/usr/local/micapollo01/MIC/DATA/SHARED/NYU_FastMRI/Preprocessed/multicoil_test/file_brain_AXT1PRE_209_6001110.h5\n",
      "/usr/local/micapollo01/MIC/DATA/SHARED/NYU_FastMRI/Preprocessed/multicoil_test/file_brain_AXT2_200_2000124.h5\n",
      "/usr/local/micapollo01/MIC/DATA/SHARED/NYU_FastMRI/Preprocessed/multicoil_test/file_brain_AXT1PRE_203_6000858.h5\n",
      "/usr/local/micapollo01/MIC/DATA/SHARED/NYU_FastMRI/Preprocessed/multicoil_test/file_brain_AXT2_209_2090043.h5\n",
      "/usr/local/micapollo01/MIC/DATA/SHARED/NYU_FastMRI/Preprocessed/multicoil_test/file_brain_AXT2_208_2080376.h5\n",
      "/usr/local/micapollo01/MIC/DATA/SHARED/NYU_FastMRI/Preprocessed/multicoil_test/file_brain_AXFLAIR_209_6001372.h5\n",
      "/usr/local/micapollo01/MIC/DATA/SHARED/NYU_FastMRI/Preprocessed/multicoil_test/file_brain_AXT2_200_6002333.h5\n",
      "/usr/local/micapollo01/MIC/DATA/SHARED/NYU_FastMRI/Preprocessed/multicoil_test/file_brain_AXT2_201_2010383.h5\n",
      "/usr/local/micapollo01/MIC/DATA/SHARED/NYU_FastMRI/Preprocessed/multicoil_test/file_brain_AXT2_210_6001816.h5\n",
      "/usr/local/micapollo01/MIC/DATA/SHARED/NYU_FastMRI/Preprocessed/multicoil_test/file_brain_AXT1PRE_200_6002382.h5\n",
      "/usr/local/micapollo01/MIC/DATA/SHARED/NYU_FastMRI/Preprocessed/multicoil_test/file_brain_AXT2_210_6001601.h5\n",
      "/usr/local/micapollo01/MIC/DATA/SHARED/NYU_FastMRI/Preprocessed/multicoil_test/file_brain_AXT1POST_207_2070321.h5\n",
      "/usr/local/micapollo01/MIC/DATA/SHARED/NYU_FastMRI/Preprocessed/multicoil_test/file_brain_AXT2_209_6001375.h5\n",
      "/usr/local/micapollo01/MIC/DATA/SHARED/NYU_FastMRI/Preprocessed/multicoil_test/file_brain_AXT2_204_2040037.h5\n",
      "/usr/local/micapollo01/MIC/DATA/SHARED/NYU_FastMRI/Preprocessed/multicoil_test/file_brain_AXT2_200_6002174.h5\n",
      "/usr/local/micapollo01/MIC/DATA/SHARED/NYU_FastMRI/Preprocessed/multicoil_test/file_brain_AXT1POST_208_2080095.h5\n",
      "/usr/local/micapollo01/MIC/DATA/SHARED/NYU_FastMRI/Preprocessed/multicoil_test/file_brain_AXT2_210_2100179.h5\n",
      "/usr/local/micapollo01/MIC/DATA/SHARED/NYU_FastMRI/Preprocessed/multicoil_test/file_brain_AXT2_200_6002213.h5\n",
      "/usr/local/micapollo01/MIC/DATA/SHARED/NYU_FastMRI/Preprocessed/multicoil_test/file_brain_AXT2_202_2020271.h5\n",
      "/usr/local/micapollo01/MIC/DATA/SHARED/NYU_FastMRI/Preprocessed/multicoil_test/file_brain_AXT1POST_201_6002764.h5\n",
      "/usr/local/micapollo01/MIC/DATA/SHARED/NYU_FastMRI/Preprocessed/multicoil_test/file_brain_AXT2_200_6002398.h5\n",
      "/usr/local/micapollo01/MIC/DATA/SHARED/NYU_FastMRI/Preprocessed/multicoil_test/file_brain_AXT2_208_2080721.h5\n",
      "/usr/local/micapollo01/MIC/DATA/SHARED/NYU_FastMRI/Preprocessed/multicoil_test/file_brain_AXT2_208_2080489.h5\n",
      "/usr/local/micapollo01/MIC/DATA/SHARED/NYU_FastMRI/Preprocessed/multicoil_test/file_brain_AXT2_210_2100184.h5\n",
      "/usr/local/micapollo01/MIC/DATA/SHARED/NYU_FastMRI/Preprocessed/multicoil_test/file_brain_AXT1_206_2060063.h5\n",
      "/usr/local/micapollo01/MIC/DATA/SHARED/NYU_FastMRI/Preprocessed/multicoil_test/file_brain_AXT2_203_2030377.h5\n",
      "/usr/local/micapollo01/MIC/DATA/SHARED/NYU_FastMRI/Preprocessed/multicoil_test/file_brain_AXT1_202_6000457.h5\n",
      "/usr/local/micapollo01/MIC/DATA/SHARED/NYU_FastMRI/Preprocessed/multicoil_test/file_brain_AXT1PRE_209_6001430.h5\n",
      "/usr/local/micapollo01/MIC/DATA/SHARED/NYU_FastMRI/Preprocessed/multicoil_test/file_brain_AXT1POST_207_2070572.h5\n",
      "/usr/local/micapollo01/MIC/DATA/SHARED/NYU_FastMRI/Preprocessed/multicoil_test/file_brain_AXT1POST_201_6002754.h5\n",
      "/usr/local/micapollo01/MIC/DATA/SHARED/NYU_FastMRI/Preprocessed/multicoil_test/file_brain_AXT1POST_208_2080373.h5\n",
      "/usr/local/micapollo01/MIC/DATA/SHARED/NYU_FastMRI/Preprocessed/multicoil_test/file_brain_AXT2_200_2000271.h5\n",
      "/usr/local/micapollo01/MIC/DATA/SHARED/NYU_FastMRI/Preprocessed/multicoil_test/file_brain_AXT2_209_6001095.h5\n",
      "/usr/local/micapollo01/MIC/DATA/SHARED/NYU_FastMRI/Preprocessed/multicoil_test/file_brain_AXT1_206_2120004.h5\n",
      "/usr/local/micapollo01/MIC/DATA/SHARED/NYU_FastMRI/Preprocessed/multicoil_test/file_brain_AXT2_202_2020107.h5\n",
      "/usr/local/micapollo01/MIC/DATA/SHARED/NYU_FastMRI/Preprocessed/multicoil_test/file_brain_AXT1PRE_203_6000681.h5\n",
      "/usr/local/micapollo01/MIC/DATA/SHARED/NYU_FastMRI/Preprocessed/multicoil_test/file_brain_AXFLAIR_210_6001921.h5\n",
      "/usr/local/micapollo01/MIC/DATA/SHARED/NYU_FastMRI/Preprocessed/multicoil_test/file_brain_AXT2_209_6000980.h5\n",
      "/usr/local/micapollo01/MIC/DATA/SHARED/NYU_FastMRI/Preprocessed/multicoil_test/file_brain_AXT1POST_210_6001714.h5\n",
      "/usr/local/micapollo01/MIC/DATA/SHARED/NYU_FastMRI/Preprocessed/multicoil_test/file_brain_AXT2_200_6002461.h5\n",
      "/usr/local/micapollo01/MIC/DATA/SHARED/NYU_FastMRI/Preprocessed/multicoil_test/file_brain_AXT2_207_2070710.h5\n",
      "/usr/local/micapollo01/MIC/DATA/SHARED/NYU_FastMRI/Preprocessed/multicoil_test/file_brain_AXT1POST_210_6001591.h5\n",
      "/usr/local/micapollo01/MIC/DATA/SHARED/NYU_FastMRI/Preprocessed/multicoil_test/file_brain_AXT1POST_202_6000343.h5\n",
      "/usr/local/micapollo01/MIC/DATA/SHARED/NYU_FastMRI/Preprocessed/multicoil_test/file_brain_AXT2_210_6001608.h5\n",
      "/usr/local/micapollo01/MIC/DATA/SHARED/NYU_FastMRI/Preprocessed/multicoil_test/file_brain_AXT1PRE_203_6000882.h5\n",
      "/usr/local/micapollo01/MIC/DATA/SHARED/NYU_FastMRI/Preprocessed/multicoil_test/file_brain_AXT2_200_2000482.h5\n",
      "/usr/local/micapollo01/MIC/DATA/SHARED/NYU_FastMRI/Preprocessed/multicoil_test/file_brain_AXT1POST_207_2070334.h5\n",
      "/usr/local/micapollo01/MIC/DATA/SHARED/NYU_FastMRI/Preprocessed/multicoil_test/file_brain_AXT1PRE_209_6001063.h5\n",
      "/usr/local/micapollo01/MIC/DATA/SHARED/NYU_FastMRI/Preprocessed/multicoil_test/file_brain_AXT2_209_2090097.h5\n",
      "/usr/local/micapollo01/MIC/DATA/SHARED/NYU_FastMRI/Preprocessed/multicoil_test/file_brain_AXT1POST_207_2070618.h5\n",
      "/usr/local/micapollo01/MIC/DATA/SHARED/NYU_FastMRI/Preprocessed/multicoil_test/file_brain_AXT2_208_2080677.h5\n",
      "/usr/local/micapollo01/MIC/DATA/SHARED/NYU_FastMRI/Preprocessed/multicoil_test/file_brain_AXT2_207_2070296.h5\n",
      "/usr/local/micapollo01/MIC/DATA/SHARED/NYU_FastMRI/Preprocessed/multicoil_test/file_brain_AXT2_207_2070025.h5\n",
      "/usr/local/micapollo01/MIC/DATA/SHARED/NYU_FastMRI/Preprocessed/multicoil_test/file_brain_AXT2_206_2060073.h5\n",
      "/usr/local/micapollo01/MIC/DATA/SHARED/NYU_FastMRI/Preprocessed/multicoil_test/file_brain_AXT1POST_202_6000270.h5\n",
      "/usr/local/micapollo01/MIC/DATA/SHARED/NYU_FastMRI/Preprocessed/multicoil_test/file_brain_AXFLAIR_200_6002531.h5\n",
      "/usr/local/micapollo01/MIC/DATA/SHARED/NYU_FastMRI/Preprocessed/multicoil_test/file_brain_AXT2_210_6001948.h5\n",
      "/usr/local/micapollo01/MIC/DATA/SHARED/NYU_FastMRI/Preprocessed/multicoil_test/file_brain_AXT2_209_6001208.h5\n",
      "/usr/local/micapollo01/MIC/DATA/SHARED/NYU_FastMRI/Preprocessed/multicoil_test/file_brain_AXT2_209_2090201.h5\n",
      "/usr/local/micapollo01/MIC/DATA/SHARED/NYU_FastMRI/Preprocessed/multicoil_test/file_brain_AXT2_207_2070508.h5\n",
      "/usr/local/micapollo01/MIC/DATA/SHARED/NYU_FastMRI/Preprocessed/multicoil_test/file_brain_AXT2_200_6002651.h5\n",
      "/usr/local/micapollo01/MIC/DATA/SHARED/NYU_FastMRI/Preprocessed/multicoil_test/file_brain_AXT1POST_208_2080357.h5\n",
      "/usr/local/micapollo01/MIC/DATA/SHARED/NYU_FastMRI/Preprocessed/multicoil_test/file_brain_AXT1_202_2020234.h5\n",
      "/usr/local/micapollo01/MIC/DATA/SHARED/NYU_FastMRI/Preprocessed/multicoil_test/file_brain_AXT1PRE_205_6000046.h5\n",
      "/usr/local/micapollo01/MIC/DATA/SHARED/NYU_FastMRI/Preprocessed/multicoil_test/file_brain_AXT2_210_2100357.h5\n",
      "/usr/local/micapollo01/MIC/DATA/SHARED/NYU_FastMRI/Preprocessed/multicoil_test/file_brain_AXT2_207_2070385.h5\n",
      "/usr/local/micapollo01/MIC/DATA/SHARED/NYU_FastMRI/Preprocessed/multicoil_test/file_brain_AXFLAIR_206_6000226.h5\n",
      "/usr/local/micapollo01/MIC/DATA/SHARED/NYU_FastMRI/Preprocessed/multicoil_test/file_brain_AXT1POST_209_6001239.h5\n",
      "/usr/local/micapollo01/MIC/DATA/SHARED/NYU_FastMRI/Preprocessed/multicoil_test/file_brain_AXT1POST_208_2080667.h5\n",
      "/usr/local/micapollo01/MIC/DATA/SHARED/NYU_FastMRI/Preprocessed/multicoil_test/file_brain_AXT1POST_200_6002360.h5\n",
      "/usr/local/micapollo01/MIC/DATA/SHARED/NYU_FastMRI/Preprocessed/multicoil_test/file_brain_AXT2_201_2010450.h5\n",
      "/usr/local/micapollo01/MIC/DATA/SHARED/NYU_FastMRI/Preprocessed/multicoil_test/file_brain_AXT2_208_2080104.h5\n",
      "/usr/local/micapollo01/MIC/DATA/SHARED/NYU_FastMRI/Preprocessed/multicoil_test/file_brain_AXT1POST_202_6000523.h5\n",
      "/usr/local/micapollo01/MIC/DATA/SHARED/NYU_FastMRI/Preprocessed/multicoil_test/file_brain_AXT1PRE_206_6000220.h5\n",
      "/usr/local/micapollo01/MIC/DATA/SHARED/NYU_FastMRI/Preprocessed/multicoil_test/file_brain_AXFLAIR_210_6001502.h5\n",
      "/usr/local/micapollo01/MIC/DATA/SHARED/NYU_FastMRI/Preprocessed/multicoil_test/file_brain_AXT2_207_2070475.h5\n",
      "/usr/local/micapollo01/MIC/DATA/SHARED/NYU_FastMRI/Preprocessed/multicoil_test/file_brain_AXT2_207_2070448.h5\n",
      "/usr/local/micapollo01/MIC/DATA/SHARED/NYU_FastMRI/Preprocessed/multicoil_test/file_brain_AXT2_207_2070006.h5\n",
      "/usr/local/micapollo01/MIC/DATA/SHARED/NYU_FastMRI/Preprocessed/multicoil_test/file_brain_AXT2_201_2010169.h5\n",
      "/usr/local/micapollo01/MIC/DATA/SHARED/NYU_FastMRI/Preprocessed/multicoil_test/file_brain_AXT2_202_2020179.h5\n",
      "/usr/local/micapollo01/MIC/DATA/SHARED/NYU_FastMRI/Preprocessed/multicoil_test/file_brain_AXT2_209_6001426.h5\n",
      "/usr/local/micapollo01/MIC/DATA/SHARED/NYU_FastMRI/Preprocessed/multicoil_test/file_brain_AXT2_207_2070814.h5\n",
      "/usr/local/micapollo01/MIC/DATA/SHARED/NYU_FastMRI/Preprocessed/multicoil_test/file_brain_AXT1POST_200_6002165.h5\n",
      "/usr/local/micapollo01/MIC/DATA/SHARED/NYU_FastMRI/Preprocessed/multicoil_test/file_brain_AXFLAIR_200_6002621.h5\n",
      "/usr/local/micapollo01/MIC/DATA/SHARED/NYU_FastMRI/Preprocessed/multicoil_test/file_brain_AXT1_202_2020421.h5\n",
      "/usr/local/micapollo01/MIC/DATA/SHARED/NYU_FastMRI/Preprocessed/multicoil_test/file_brain_AXT2_201_2010096.h5\n",
      "/usr/local/micapollo01/MIC/DATA/SHARED/NYU_FastMRI/Preprocessed/multicoil_test/file_brain_AXT2_202_2020586.h5\n",
      "/usr/local/micapollo01/MIC/DATA/SHARED/NYU_FastMRI/Preprocessed/multicoil_test/file_brain_AXT1POST_200_6002126.h5\n",
      "/usr/local/micapollo01/MIC/DATA/SHARED/NYU_FastMRI/Preprocessed/multicoil_test/file_brain_AXFLAIR_210_6001523.h5\n",
      "/usr/local/micapollo01/MIC/DATA/SHARED/NYU_FastMRI/Preprocessed/multicoil_test/file_brain_AXT1POST_201_6002671.h5\n",
      "/usr/local/micapollo01/MIC/DATA/SHARED/NYU_FastMRI/Preprocessed/multicoil_test/file_brain_AXT1POST_201_6002853.h5\n",
      "/usr/local/micapollo01/MIC/DATA/SHARED/NYU_FastMRI/Preprocessed/multicoil_test/file_brain_AXT1_202_6000277.h5\n",
      "/usr/local/micapollo01/MIC/DATA/SHARED/NYU_FastMRI/Preprocessed/multicoil_test/file_brain_AXT2_203_2030071.h5\n",
      "/usr/local/micapollo01/MIC/DATA/SHARED/NYU_FastMRI/Preprocessed/multicoil_test/file_brain_AXT1PRE_203_6000891.h5\n",
      "/usr/local/micapollo01/MIC/DATA/SHARED/NYU_FastMRI/Preprocessed/multicoil_test/file_brain_AXT2_207_2070248.h5\n",
      "/usr/local/micapollo01/MIC/DATA/SHARED/NYU_FastMRI/Preprocessed/multicoil_test/file_brain_AXT2_207_2070575.h5\n",
      "/usr/local/micapollo01/MIC/DATA/SHARED/NYU_FastMRI/Preprocessed/multicoil_test/file_brain_AXT2_201_2010395.h5\n",
      "/usr/local/micapollo01/MIC/DATA/SHARED/NYU_FastMRI/Preprocessed/multicoil_test/file_brain_AXT2_207_2070727.h5\n",
      "/usr/local/micapollo01/MIC/DATA/SHARED/NYU_FastMRI/Preprocessed/multicoil_test/file_brain_AXT1PRE_210_6001791.h5\n",
      "/usr/local/micapollo01/MIC/DATA/SHARED/NYU_FastMRI/Preprocessed/multicoil_test/file_brain_AXT2_210_2100389.h5\n",
      "/usr/local/micapollo01/MIC/DATA/SHARED/NYU_FastMRI/Preprocessed/multicoil_test/file_brain_AXT2_205_2050184.h5\n",
      "/usr/local/micapollo01/MIC/DATA/SHARED/NYU_FastMRI/Preprocessed/multicoil_test/file_brain_AXT1POST_203_6000778.h5\n",
      "/usr/local/micapollo01/MIC/DATA/SHARED/NYU_FastMRI/Preprocessed/multicoil_test/file_brain_AXT2_208_2080030.h5\n",
      "/usr/local/micapollo01/MIC/DATA/SHARED/NYU_FastMRI/Preprocessed/multicoil_test/file_brain_AXFLAIR_200_6002527.h5\n",
      "/usr/local/micapollo01/MIC/DATA/SHARED/NYU_FastMRI/Preprocessed/multicoil_test/file_brain_AXT1POST_208_2080480.h5\n",
      "/usr/local/micapollo01/MIC/DATA/SHARED/NYU_FastMRI/Preprocessed/multicoil_test/file_brain_AXT1_202_2020391.h5\n",
      "/usr/local/micapollo01/MIC/DATA/SHARED/NYU_FastMRI/Preprocessed/multicoil_test/file_brain_AXT2_203_2030229.h5\n",
      "/usr/local/micapollo01/MIC/DATA/SHARED/NYU_FastMRI/Preprocessed/multicoil_test/file_brain_AXT1POST_202_6000291.h5\n",
      "/usr/local/micapollo01/MIC/DATA/SHARED/NYU_FastMRI/Preprocessed/multicoil_test/file_brain_AXT2_209_6001439.h5\n",
      "/usr/local/micapollo01/MIC/DATA/SHARED/NYU_FastMRI/Preprocessed/multicoil_test/file_brain_AXT1POST_207_2070455.h5\n",
      "/usr/local/micapollo01/MIC/DATA/SHARED/NYU_FastMRI/Preprocessed/multicoil_test/file_brain_AXT2_207_2070783.h5\n",
      "/usr/local/micapollo01/MIC/DATA/SHARED/NYU_FastMRI/Preprocessed/multicoil_test/file_brain_AXT2_200_2000079.h5\n",
      "/usr/local/micapollo01/MIC/DATA/SHARED/NYU_FastMRI/Preprocessed/multicoil_test/file_brain_AXT1PRE_200_6002297.h5\n",
      "/usr/local/micapollo01/MIC/DATA/SHARED/NYU_FastMRI/Preprocessed/multicoil_test/file_brain_AXT2_207_2070216.h5\n",
      "/usr/local/micapollo01/MIC/DATA/SHARED/NYU_FastMRI/Preprocessed/multicoil_test/file_brain_AXT1_201_6002775.h5\n",
      "/usr/local/micapollo01/MIC/DATA/SHARED/NYU_FastMRI/Preprocessed/multicoil_test/file_brain_AXT1POST_207_2070843.h5\n",
      "/usr/local/micapollo01/MIC/DATA/SHARED/NYU_FastMRI/Preprocessed/multicoil_test/file_brain_AXT2_201_2010429.h5\n",
      "/usr/local/micapollo01/MIC/DATA/SHARED/NYU_FastMRI/Preprocessed/multicoil_test/file_brain_AXFLAIR_201_6002986.h5\n",
      "/usr/local/micapollo01/MIC/DATA/SHARED/NYU_FastMRI/Preprocessed/multicoil_test/file_brain_AXT2_206_6000239.h5\n",
      "/usr/local/micapollo01/MIC/DATA/SHARED/NYU_FastMRI/Preprocessed/multicoil_test/file_brain_AXT2_207_2070102.h5\n",
      "/usr/local/micapollo01/MIC/DATA/SHARED/NYU_FastMRI/Preprocessed/multicoil_test/file_brain_AXT2_200_6002025.h5\n",
      "/usr/local/micapollo01/MIC/DATA/SHARED/NYU_FastMRI/Preprocessed/multicoil_test/file_brain_AXFLAIR_210_6001946.h5\n",
      "/usr/local/micapollo01/MIC/DATA/SHARED/NYU_FastMRI/Preprocessed/multicoil_test/file_brain_AXT2_200_6002220.h5\n",
      "/usr/local/micapollo01/MIC/DATA/SHARED/NYU_FastMRI/Preprocessed/multicoil_test/file_brain_AXT2_202_2020361.h5\n",
      "/usr/local/micapollo01/MIC/DATA/SHARED/NYU_FastMRI/Preprocessed/multicoil_test/file_brain_AXT2_207_2070451.h5\n",
      "/usr/local/micapollo01/MIC/DATA/SHARED/NYU_FastMRI/Preprocessed/multicoil_test/file_brain_AXT2_208_2080402.h5\n",
      "/usr/local/micapollo01/MIC/DATA/SHARED/NYU_FastMRI/Preprocessed/multicoil_test/file_brain_AXFLAIR_210_6001860.h5\n",
      "/usr/local/micapollo01/MIC/DATA/SHARED/NYU_FastMRI/Preprocessed/multicoil_test/file_brain_AXT2_209_2090197.h5\n",
      "/usr/local/micapollo01/MIC/DATA/SHARED/NYU_FastMRI/Preprocessed/multicoil_test/file_brain_AXT2_209_2090245.h5\n",
      "/usr/local/micapollo01/MIC/DATA/SHARED/NYU_FastMRI/Preprocessed/multicoil_test/file_brain_AXT2_202_2020309.h5\n",
      "/usr/local/micapollo01/MIC/DATA/SHARED/NYU_FastMRI/Preprocessed/multicoil_test/file_brain_AXT2_209_2090015.h5\n",
      "/usr/local/micapollo01/MIC/DATA/SHARED/NYU_FastMRI/Preprocessed/multicoil_test/file_brain_AXT1POST_205_2050073.h5\n",
      "/usr/local/micapollo01/MIC/DATA/SHARED/NYU_FastMRI/Preprocessed/multicoil_test/file_brain_AXT2_207_2070071.h5\n",
      "/usr/local/micapollo01/MIC/DATA/SHARED/NYU_FastMRI/Preprocessed/multicoil_test/file_brain_AXT2_208_2080625.h5\n",
      "/usr/local/micapollo01/MIC/DATA/SHARED/NYU_FastMRI/Preprocessed/multicoil_test/file_brain_AXT1_202_6000441.h5\n",
      "/usr/local/micapollo01/MIC/DATA/SHARED/NYU_FastMRI/Preprocessed/multicoil_test/file_brain_AXT2_210_6001525.h5\n",
      "/usr/local/micapollo01/MIC/DATA/SHARED/NYU_FastMRI/Preprocessed/multicoil_test/file_brain_AXT1PRE_203_6000622.h5\n",
      "/usr/local/micapollo01/MIC/DATA/SHARED/NYU_FastMRI/Preprocessed/multicoil_test/file_brain_AXT2_200_6002171.h5\n",
      "/usr/local/micapollo01/MIC/DATA/SHARED/NYU_FastMRI/Preprocessed/multicoil_test/file_brain_AXT1POST_207_2070203.h5\n",
      "/usr/local/micapollo01/MIC/DATA/SHARED/NYU_FastMRI/Preprocessed/multicoil_test/file_brain_AXT1PRE_210_6001861.h5\n",
      "/usr/local/micapollo01/MIC/DATA/SHARED/NYU_FastMRI/Preprocessed/multicoil_test/file_brain_AXT2_207_2070413.h5\n",
      "/usr/local/micapollo01/MIC/DATA/SHARED/NYU_FastMRI/Preprocessed/multicoil_test/file_brain_AXT1POST_207_2070236.h5\n",
      "/usr/local/micapollo01/MIC/DATA/SHARED/NYU_FastMRI/Preprocessed/multicoil_test/file_brain_AXT1PRE_203_6000831.h5\n",
      "/usr/local/micapollo01/MIC/DATA/SHARED/NYU_FastMRI/Preprocessed/multicoil_test/file_brain_AXT2_209_2090255.h5\n",
      "/usr/local/micapollo01/MIC/DATA/SHARED/NYU_FastMRI/Preprocessed/multicoil_test/file_brain_AXT2_209_6001154.h5\n",
      "/usr/local/micapollo01/MIC/DATA/SHARED/NYU_FastMRI/Preprocessed/multicoil_test/file_brain_AXT2_200_6002009.h5\n",
      "/usr/local/micapollo01/MIC/DATA/SHARED/NYU_FastMRI/Preprocessed/multicoil_test/file_brain_AXT2_208_2080608.h5\n",
      "/usr/local/micapollo01/MIC/DATA/SHARED/NYU_FastMRI/Preprocessed/multicoil_test/file_brain_AXT2_205_6000092.h5\n",
      "/usr/local/micapollo01/MIC/DATA/SHARED/NYU_FastMRI/Preprocessed/multicoil_test/file_brain_AXT1POST_201_6002728.h5\n",
      "/usr/local/micapollo01/MIC/DATA/SHARED/NYU_FastMRI/Preprocessed/multicoil_test/file_brain_AXT2_205_2050192.h5\n",
      "/usr/local/micapollo01/MIC/DATA/SHARED/NYU_FastMRI/Preprocessed/multicoil_test/file_brain_AXT2_200_6002161.h5\n",
      "/usr/local/micapollo01/MIC/DATA/SHARED/NYU_FastMRI/Preprocessed/multicoil_test/file_brain_AXFLAIR_201_6002943.h5\n",
      "/usr/local/micapollo01/MIC/DATA/SHARED/NYU_FastMRI/Preprocessed/multicoil_test/file_brain_AXFLAIR_209_6001379.h5\n",
      "/usr/local/micapollo01/MIC/DATA/SHARED/NYU_FastMRI/Preprocessed/multicoil_test/file_brain_AXT1POST_203_6000753.h5\n",
      "/usr/local/micapollo01/MIC/DATA/SHARED/NYU_FastMRI/Preprocessed/multicoil_test/file_brain_AXT2_209_6001021.h5\n",
      "/usr/local/micapollo01/MIC/DATA/SHARED/NYU_FastMRI/Preprocessed/multicoil_test/file_brain_AXT2_200_2000205.h5\n",
      "/usr/local/micapollo01/MIC/DATA/SHARED/NYU_FastMRI/Preprocessed/multicoil_test/file_brain_AXT2_203_2030041.h5\n",
      "/usr/local/micapollo01/MIC/DATA/SHARED/NYU_FastMRI/Preprocessed/multicoil_test/file_brain_AXT1POST_207_2070694.h5\n",
      "/usr/local/micapollo01/MIC/DATA/SHARED/NYU_FastMRI/Preprocessed/multicoil_test/file_brain_AXT2_210_2100257.h5\n",
      "/usr/local/micapollo01/MIC/DATA/SHARED/NYU_FastMRI/Preprocessed/multicoil_test/file_brain_AXT1POST_201_6002855.h5\n",
      "/usr/local/micapollo01/MIC/DATA/SHARED/NYU_FastMRI/Preprocessed/multicoil_test/file_brain_AXT1POST_210_6001676.h5\n",
      "/usr/local/micapollo01/MIC/DATA/SHARED/NYU_FastMRI/Preprocessed/multicoil_test/file_brain_AXT2_200_2000341.h5\n",
      "/usr/local/micapollo01/MIC/DATA/SHARED/NYU_FastMRI/Preprocessed/multicoil_test/file_brain_AXT2_209_2090100.h5\n",
      "/usr/local/micapollo01/MIC/DATA/SHARED/NYU_FastMRI/Preprocessed/multicoil_test/file_brain_AXT1PRE_210_6001689.h5\n",
      "/usr/local/micapollo01/MIC/DATA/SHARED/NYU_FastMRI/Preprocessed/multicoil_test/file_brain_AXT2_206_2060023.h5\n",
      "/usr/local/micapollo01/MIC/DATA/SHARED/NYU_FastMRI/Preprocessed/multicoil_test/file_brain_AXT2_201_2010346.h5\n",
      "/usr/local/micapollo01/MIC/DATA/SHARED/NYU_FastMRI/Preprocessed/multicoil_test/file_brain_AXT2_208_2080102.h5\n",
      "/usr/local/micapollo01/MIC/DATA/SHARED/NYU_FastMRI/Preprocessed/multicoil_test/file_brain_AXT1POST_205_2050202.h5\n",
      "/usr/local/micapollo01/MIC/DATA/SHARED/NYU_FastMRI/Preprocessed/multicoil_test/file_brain_AXT2_208_2080413.h5\n",
      "/usr/local/micapollo01/MIC/DATA/SHARED/NYU_FastMRI/Preprocessed/multicoil_test/file_brain_AXT2_210_6001902.h5\n",
      "/usr/local/micapollo01/MIC/DATA/SHARED/NYU_FastMRI/Preprocessed/multicoil_test/file_brain_AXT1POST_207_2070757.h5\n",
      "/usr/local/micapollo01/MIC/DATA/SHARED/NYU_FastMRI/Preprocessed/multicoil_test/file_brain_AXT2_200_6002409.h5\n",
      "/usr/local/micapollo01/MIC/DATA/SHARED/NYU_FastMRI/Preprocessed/multicoil_test/file_brain_AXFLAIR_201_6002891.h5\n",
      "/usr/local/micapollo01/MIC/DATA/SHARED/NYU_FastMRI/Preprocessed/multicoil_test/file_brain_AXT2_209_6000988.h5\n",
      "/usr/local/micapollo01/MIC/DATA/SHARED/NYU_FastMRI/Preprocessed/multicoil_test/file_brain_AXFLAIR_201_6002990.h5\n",
      "/usr/local/micapollo01/MIC/DATA/SHARED/NYU_FastMRI/Preprocessed/multicoil_test/file_brain_AXT2_207_2070509.h5\n",
      "/usr/local/micapollo01/MIC/DATA/SHARED/NYU_FastMRI/Preprocessed/multicoil_test/file_brain_AXT2_209_2090063.h5\n",
      "/usr/local/micapollo01/MIC/DATA/SHARED/NYU_FastMRI/Preprocessed/multicoil_test/file_brain_AXT2_208_2080588.h5\n",
      "/usr/local/micapollo01/MIC/DATA/SHARED/NYU_FastMRI/Preprocessed/multicoil_test/file_brain_AXT2_209_2090021.h5\n",
      "/usr/local/micapollo01/MIC/DATA/SHARED/NYU_FastMRI/Preprocessed/multicoil_test/file_brain_AXT2_203_2030371.h5\n",
      "/usr/local/micapollo01/MIC/DATA/SHARED/NYU_FastMRI/Preprocessed/multicoil_test/file_brain_AXT2_209_6000991.h5\n",
      "/usr/local/micapollo01/MIC/DATA/SHARED/NYU_FastMRI/Preprocessed/multicoil_test/file_brain_AXT1POST_203_6000743.h5\n",
      "/usr/local/micapollo01/MIC/DATA/SHARED/NYU_FastMRI/Preprocessed/multicoil_test/file_brain_AXFLAIR_210_6001943.h5\n",
      "/usr/local/micapollo01/MIC/DATA/SHARED/NYU_FastMRI/Preprocessed/multicoil_test/file_brain_AXT2_200_2000235.h5\n",
      "/usr/local/micapollo01/MIC/DATA/SHARED/NYU_FastMRI/Preprocessed/multicoil_test/file_brain_AXT2_206_6000214.h5\n",
      "/usr/local/micapollo01/MIC/DATA/SHARED/NYU_FastMRI/Preprocessed/multicoil_test/file_brain_AXT2_207_2070018.h5\n",
      "/usr/local/micapollo01/MIC/DATA/SHARED/NYU_FastMRI/Preprocessed/multicoil_test/file_brain_AXT2_200_6002514.h5\n",
      "/usr/local/micapollo01/MIC/DATA/SHARED/NYU_FastMRI/Preprocessed/multicoil_test/file_brain_AXT2_200_2000087.h5\n",
      "/usr/local/micapollo01/MIC/DATA/SHARED/NYU_FastMRI/Preprocessed/multicoil_test/file_brain_AXT2_207_2070082.h5\n",
      "/usr/local/micapollo01/MIC/DATA/SHARED/NYU_FastMRI/Preprocessed/multicoil_test/file_brain_AXT1POST_208_2080017.h5\n",
      "/usr/local/micapollo01/MIC/DATA/SHARED/NYU_FastMRI/Preprocessed/multicoil_test/file_brain_AXT2_209_6001288.h5\n",
      "/usr/local/micapollo01/MIC/DATA/SHARED/NYU_FastMRI/Preprocessed/multicoil_test/file_brain_AXT2_206_2060090.h5\n",
      "/usr/local/micapollo01/MIC/DATA/SHARED/NYU_FastMRI/Preprocessed/multicoil_test/file_brain_AXT1PRE_209_6001238.h5\n",
      "/usr/local/micapollo01/MIC/DATA/SHARED/NYU_FastMRI/Preprocessed/multicoil_test/file_brain_AXT2_203_2030175.h5\n",
      "/usr/local/micapollo01/MIC/DATA/SHARED/NYU_FastMRI/Preprocessed/multicoil_test/file_brain_AXT1POST_207_2070125.h5\n",
      "/usr/local/micapollo01/MIC/DATA/SHARED/NYU_FastMRI/Preprocessed/multicoil_test/file_brain_AXT2_210_2100108.h5\n",
      "/usr/local/micapollo01/MIC/DATA/SHARED/NYU_FastMRI/Preprocessed/multicoil_test/file_brain_AXT2_209_6001073.h5\n",
      "/usr/local/micapollo01/MIC/DATA/SHARED/NYU_FastMRI/Preprocessed/multicoil_test/file_brain_AXT2_208_2080517.h5\n",
      "/usr/local/micapollo01/MIC/DATA/SHARED/NYU_FastMRI/Preprocessed/multicoil_test/file_brain_AXFLAIR_200_6002625.h5\n",
      "/usr/local/micapollo01/MIC/DATA/SHARED/NYU_FastMRI/Preprocessed/multicoil_test/file_brain_AXFLAIR_210_6001507.h5\n",
      "/usr/local/micapollo01/MIC/DATA/SHARED/NYU_FastMRI/Preprocessed/multicoil_test/file_brain_AXT1PRE_200_6002443.h5\n",
      "/usr/local/micapollo01/MIC/DATA/SHARED/NYU_FastMRI/Preprocessed/multicoil_test/file_brain_AXT2_202_2020385.h5\n",
      "/usr/local/micapollo01/MIC/DATA/SHARED/NYU_FastMRI/Preprocessed/multicoil_test/file_brain_AXT1POST_208_2080589.h5\n",
      "/usr/local/micapollo01/MIC/DATA/SHARED/NYU_FastMRI/Preprocessed/multicoil_test/file_brain_AXFLAIR_210_6001874.h5\n",
      "/usr/local/micapollo01/MIC/DATA/SHARED/NYU_FastMRI/Preprocessed/multicoil_test/file_brain_AXT2_210_2100229.h5\n",
      "/usr/local/micapollo01/MIC/DATA/SHARED/NYU_FastMRI/Preprocessed/multicoil_test/file_brain_AXT1POST_205_6000038.h5\n",
      "/usr/local/micapollo01/MIC/DATA/SHARED/NYU_FastMRI/Preprocessed/multicoil_test/file_brain_AXT2_200_2000227.h5\n",
      "/usr/local/micapollo01/MIC/DATA/SHARED/NYU_FastMRI/Preprocessed/multicoil_test/file_brain_AXT1POST_201_6002733.h5\n",
      "/usr/local/micapollo01/MIC/DATA/SHARED/NYU_FastMRI/Preprocessed/multicoil_test/file_brain_AXT1PRE_206_6000199.h5\n",
      "/usr/local/micapollo01/MIC/DATA/SHARED/NYU_FastMRI/Preprocessed/multicoil_test/file_brain_AXT1POST_201_6002965.h5\n",
      "/usr/local/micapollo01/MIC/DATA/SHARED/NYU_FastMRI/Preprocessed/multicoil_test/file_brain_AXT2_205_6000080.h5\n",
      "/usr/local/micapollo01/MIC/DATA/SHARED/NYU_FastMRI/Preprocessed/multicoil_test/file_brain_AXT2_201_2010218.h5\n",
      "/usr/local/micapollo01/MIC/DATA/SHARED/NYU_FastMRI/Preprocessed/multicoil_test/file_brain_AXT2_209_2090240.h5\n",
      "/usr/local/micapollo01/MIC/DATA/SHARED/NYU_FastMRI/Preprocessed/multicoil_test/file_brain_AXT2_208_2080096.h5\n",
      "/usr/local/micapollo01/MIC/DATA/SHARED/NYU_FastMRI/Preprocessed/multicoil_test/file_brain_AXT2_210_6001776.h5\n",
      "/usr/local/micapollo01/MIC/DATA/SHARED/NYU_FastMRI/Preprocessed/multicoil_test/file_brain_AXT2_200_6002250.h5\n",
      "/usr/local/micapollo01/MIC/DATA/SHARED/NYU_FastMRI/Preprocessed/multicoil_test/file_brain_AXT2_206_6000247.h5\n",
      "/usr/local/micapollo01/MIC/DATA/SHARED/NYU_FastMRI/Preprocessed/multicoil_test/file_brain_AXT1POST_200_6002042.h5\n",
      "/usr/local/micapollo01/MIC/DATA/SHARED/NYU_FastMRI/Preprocessed/multicoil_test/file_brain_AXT2_209_2090006.h5\n",
      "/usr/local/micapollo01/MIC/DATA/SHARED/NYU_FastMRI/Preprocessed/multicoil_test/file_brain_AXT1POST_210_6001832.h5\n",
      "/usr/local/micapollo01/MIC/DATA/SHARED/NYU_FastMRI/Preprocessed/multicoil_test/file_brain_AXT1POST_207_2070741.h5\n",
      "/usr/local/micapollo01/MIC/DATA/SHARED/NYU_FastMRI/Preprocessed/multicoil_test/file_brain_AXT2_205_2050205.h5\n",
      "/usr/local/micapollo01/MIC/DATA/SHARED/NYU_FastMRI/Preprocessed/multicoil_test/file_brain_AXT2_200_6002137.h5\n",
      "/usr/local/micapollo01/MIC/DATA/SHARED/NYU_FastMRI/Preprocessed/multicoil_test/file_brain_AXT2_206_6000210.h5\n",
      "/usr/local/micapollo01/MIC/DATA/SHARED/NYU_FastMRI/Preprocessed/multicoil_test/file_brain_AXT1POST_208_2080293.h5\n",
      "/usr/local/micapollo01/MIC/DATA/SHARED/NYU_FastMRI/Preprocessed/multicoil_test/file_brain_AXT1POST_205_2050248.h5\n",
      "/usr/local/micapollo01/MIC/DATA/SHARED/NYU_FastMRI/Preprocessed/multicoil_test/file_brain_AXT2_209_6001390.h5\n",
      "/usr/local/micapollo01/MIC/DATA/SHARED/NYU_FastMRI/Preprocessed/multicoil_test/file_brain_AXT1PRE_201_6002726.h5\n",
      "/usr/local/micapollo01/MIC/DATA/SHARED/NYU_FastMRI/Preprocessed/multicoil_test/file_brain_AXT2_209_6001287.h5\n",
      "/usr/local/micapollo01/MIC/DATA/SHARED/NYU_FastMRI/Preprocessed/multicoil_test/file_brain_AXT1POST_207_2070705.h5\n",
      "/usr/local/micapollo01/MIC/DATA/SHARED/NYU_FastMRI/Preprocessed/multicoil_test/file_brain_AXT2_201_2010007.h5\n",
      "/usr/local/micapollo01/MIC/DATA/SHARED/NYU_FastMRI/Preprocessed/multicoil_test/file_brain_AXT1POST_205_2050123.h5\n",
      "/usr/local/micapollo01/MIC/DATA/SHARED/NYU_FastMRI/Preprocessed/multicoil_test/file_brain_AXT2_210_2100061.h5\n",
      "/usr/local/micapollo01/MIC/DATA/SHARED/NYU_FastMRI/Preprocessed/multicoil_test/file_brain_AXT1POST_202_6000378.h5\n",
      "/usr/local/micapollo01/MIC/DATA/SHARED/NYU_FastMRI/Preprocessed/multicoil_test/file_brain_AXT1POST_207_2070506.h5\n",
      "/usr/local/micapollo01/MIC/DATA/SHARED/NYU_FastMRI/Preprocessed/multicoil_test/file_brain_AXT1POST_210_6001623.h5\n",
      "/usr/local/micapollo01/MIC/DATA/SHARED/NYU_FastMRI/Preprocessed/multicoil_test/file_brain_AXT1POST_207_2070829.h5\n",
      "/usr/local/micapollo01/MIC/DATA/SHARED/NYU_FastMRI/Preprocessed/multicoil_test/file_brain_AXT2_202_2020475.h5\n",
      "/usr/local/micapollo01/MIC/DATA/SHARED/NYU_FastMRI/Preprocessed/multicoil_test/file_brain_AXT2_200_2000530.h5\n",
      "/usr/local/micapollo01/MIC/DATA/SHARED/NYU_FastMRI/Preprocessed/multicoil_test/file_brain_AXFLAIR_201_6002921.h5\n",
      "/usr/local/micapollo01/MIC/DATA/SHARED/NYU_FastMRI/Preprocessed/multicoil_test/file_brain_AXT1POST_208_2080248.h5\n",
      "/usr/local/micapollo01/MIC/DATA/SHARED/NYU_FastMRI/Preprocessed/multicoil_test/file_brain_AXT1_202_2020190.h5\n",
      "/usr/local/micapollo01/MIC/DATA/SHARED/NYU_FastMRI/Preprocessed/multicoil_test/file_brain_AXT2_208_2080177.h5\n",
      "/usr/local/micapollo01/MIC/DATA/SHARED/NYU_FastMRI/Preprocessed/multicoil_test/file_brain_AXT1_202_2020278.h5\n",
      "/usr/local/micapollo01/MIC/DATA/SHARED/NYU_FastMRI/Preprocessed/multicoil_test/file_brain_AXT2_201_2010421.h5\n",
      "/usr/local/micapollo01/MIC/DATA/SHARED/NYU_FastMRI/Preprocessed/multicoil_test/file_brain_AXT2_200_6002049.h5\n",
      "/usr/local/micapollo01/MIC/DATA/SHARED/NYU_FastMRI/Preprocessed/multicoil_test/file_brain_AXFLAIR_202_6000485.h5\n",
      "/usr/local/micapollo01/MIC/DATA/SHARED/NYU_FastMRI/Preprocessed/multicoil_test/file_brain_AXT2_200_2000167.h5\n",
      "/usr/local/micapollo01/MIC/DATA/SHARED/NYU_FastMRI/Preprocessed/multicoil_test/file_brain_AXT1POST_208_2080690.h5\n",
      "/usr/local/micapollo01/MIC/DATA/SHARED/NYU_FastMRI/Preprocessed/multicoil_test/file_brain_AXT2_207_2070223.h5\n",
      "/usr/local/micapollo01/MIC/DATA/SHARED/NYU_FastMRI/Preprocessed/multicoil_test/file_brain_AXT2_207_2070628.h5\n",
      "/usr/local/micapollo01/MIC/DATA/SHARED/NYU_FastMRI/Preprocessed/multicoil_test/file_brain_AXFLAIR_200_6002451.h5\n",
      "/usr/local/micapollo01/MIC/DATA/SHARED/NYU_FastMRI/Preprocessed/multicoil_test/file_brain_AXT1_202_6000494.h5\n",
      "/usr/local/micapollo01/MIC/DATA/SHARED/NYU_FastMRI/Preprocessed/multicoil_test/file_brain_AXT2_207_2070513.h5\n",
      "/usr/local/micapollo01/MIC/DATA/SHARED/NYU_FastMRI/Preprocessed/multicoil_test/file_brain_AXT2_200_6002633.h5\n",
      "/usr/local/micapollo01/MIC/DATA/SHARED/NYU_FastMRI/Preprocessed/multicoil_test/file_brain_AXT2_210_6001939.h5\n",
      "/usr/local/micapollo01/MIC/DATA/SHARED/NYU_FastMRI/Preprocessed/multicoil_test/file_brain_AXT1PRE_210_6001831.h5\n",
      "/usr/local/micapollo01/MIC/DATA/SHARED/NYU_FastMRI/Preprocessed/multicoil_test/file_brain_AXT1PRE_210_6001834.h5\n",
      "/usr/local/micapollo01/MIC/DATA/SHARED/NYU_FastMRI/Preprocessed/multicoil_test/file_brain_AXT1POST_207_2070402.h5\n",
      "/usr/local/micapollo01/MIC/DATA/SHARED/NYU_FastMRI/Preprocessed/multicoil_test/file_brain_AXT2_205_2050023.h5\n",
      "/usr/local/micapollo01/MIC/DATA/SHARED/NYU_FastMRI/Preprocessed/multicoil_test/file_brain_AXT2_202_2020533.h5\n",
      "/usr/local/micapollo01/MIC/DATA/SHARED/NYU_FastMRI/Preprocessed/multicoil_test/file_brain_AXT1POST_202_6000475.h5\n",
      "/usr/local/micapollo01/MIC/DATA/SHARED/NYU_FastMRI/Preprocessed/multicoil_test/file_brain_AXT1POST_210_6001565.h5\n",
      "/usr/local/micapollo01/MIC/DATA/SHARED/NYU_FastMRI/Preprocessed/multicoil_test/file_brain_AXT1POST_207_2070319.h5\n",
      "/usr/local/micapollo01/MIC/DATA/SHARED/NYU_FastMRI/Preprocessed/multicoil_test/file_brain_AXT2_200_2000534.h5\n",
      "/usr/local/micapollo01/MIC/DATA/SHARED/NYU_FastMRI/Preprocessed/multicoil_test/file_brain_AXT2_207_2070407.h5\n",
      "/usr/local/micapollo01/MIC/DATA/SHARED/NYU_FastMRI/Preprocessed/multicoil_test/file_brain_AXT1POST_207_2070610.h5\n",
      "/usr/local/micapollo01/MIC/DATA/SHARED/NYU_FastMRI/Preprocessed/multicoil_test/file_brain_AXT1POST_208_2080407.h5\n",
      "/usr/local/micapollo01/MIC/DATA/SHARED/NYU_FastMRI/Preprocessed/multicoil_test/file_brain_AXT1PRE_200_6002215.h5\n",
      "/usr/local/micapollo01/MIC/DATA/SHARED/NYU_FastMRI/Preprocessed/multicoil_test/file_brain_AXT2_201_2010597.h5\n",
      "/usr/local/micapollo01/MIC/DATA/SHARED/NYU_FastMRI/Preprocessed/multicoil_test/file_brain_AXT2_203_2030379.h5\n",
      "/usr/local/micapollo01/MIC/DATA/SHARED/NYU_FastMRI/Preprocessed/multicoil_test/file_brain_AXT2_207_2070469.h5\n",
      "/usr/local/micapollo01/MIC/DATA/SHARED/NYU_FastMRI/Preprocessed/multicoil_test/file_brain_AXT1_202_2020405.h5\n",
      "/usr/local/micapollo01/MIC/DATA/SHARED/NYU_FastMRI/Preprocessed/multicoil_test/file_brain_AXT2_200_6002153.h5\n",
      "/usr/local/micapollo01/MIC/DATA/SHARED/NYU_FastMRI/Preprocessed/multicoil_test/file_brain_AXT2_205_6000006.h5\n",
      "/usr/local/micapollo01/MIC/DATA/SHARED/NYU_FastMRI/Preprocessed/multicoil_test/file_brain_AXT2_210_2100406.h5\n",
      "/usr/local/micapollo01/MIC/DATA/SHARED/NYU_FastMRI/Preprocessed/multicoil_test/file_brain_AXT2_202_2020125.h5\n",
      "/usr/local/micapollo01/MIC/DATA/SHARED/NYU_FastMRI/Preprocessed/multicoil_test/file_brain_AXT2_202_2020253.h5\n",
      "/usr/local/micapollo01/MIC/DATA/SHARED/NYU_FastMRI/Preprocessed/multicoil_test/file_brain_AXT1_202_2020012.h5\n",
      "/usr/local/micapollo01/MIC/DATA/SHARED/NYU_FastMRI/Preprocessed/multicoil_test/file_brain_AXT2_209_2090078.h5\n",
      "/usr/local/micapollo01/MIC/DATA/SHARED/NYU_FastMRI/Preprocessed/multicoil_test/file_brain_AXT2_205_2050105.h5\n",
      "/usr/local/micapollo01/MIC/DATA/SHARED/NYU_FastMRI/Preprocessed/multicoil_test/file_brain_AXT1POST_208_2080183.h5\n",
      "/usr/local/micapollo01/MIC/DATA/SHARED/NYU_FastMRI/Preprocessed/multicoil_test/file_brain_AXFLAIR_202_6000444.h5\n",
      "/usr/local/micapollo01/MIC/DATA/SHARED/NYU_FastMRI/Preprocessed/multicoil_test/file_brain_AXT1POST_207_2070137.h5\n",
      "/usr/local/micapollo01/MIC/DATA/SHARED/NYU_FastMRI/Preprocessed/multicoil_test/file_brain_AXT1POST_203_6000812.h5\n",
      "/usr/local/micapollo01/MIC/DATA/SHARED/NYU_FastMRI/Preprocessed/multicoil_test/file_brain_AXT2_202_2020527.h5\n",
      "/usr/local/micapollo01/MIC/DATA/SHARED/NYU_FastMRI/Preprocessed/multicoil_test/file_brain_AXT2_200_6002283.h5\n",
      "/usr/local/micapollo01/MIC/DATA/SHARED/NYU_FastMRI/Preprocessed/multicoil_test/file_brain_AXT1POST_207_2070616.h5\n",
      "/usr/local/micapollo01/MIC/DATA/SHARED/NYU_FastMRI/Preprocessed/multicoil_test/file_brain_AXT1POST_209_6001161.h5\n"
     ]
    },
    {
     "ename": "",
     "evalue": "",
     "output_type": "error",
     "traceback": [
      "\u001b[1;31mnotebook controller is DISPOSED. \n",
      "\u001b[1;31mView Jupyter <a href='command:jupyter.viewOutput'>log</a> for further details."
     ]
    },
    {
     "ename": "",
     "evalue": "",
     "output_type": "error",
     "traceback": [
      "\u001b[1;31mnotebook controller is DISPOSED. \n",
      "\u001b[1;31mView Jupyter <a href='command:jupyter.viewOutput'>log</a> for further details."
     ]
    },
    {
     "ename": "",
     "evalue": "",
     "output_type": "error",
     "traceback": [
      "\u001b[1;31mnotebook controller is DISPOSED. \n",
      "\u001b[1;31mView Jupyter <a href='command:jupyter.viewOutput'>log</a> for further details."
     ]
    }
   ],
   "source": [
    "from pathlib import Path\n",
    "\n",
    "folder_path = '/DATASERVER/MIC/SHARED/NYU_FastMRI/Preprocessed/multicoil_test/'\n",
    "files = Path(folder_path).glob('**/*')\n",
    "for file in files:\n",
    "    print(file)\n"
   ]
  },
  {
   "cell_type": "code",
   "execution_count": null,
   "metadata": {},
   "outputs": [
    {
     "name": "stdout",
     "output_type": "stream",
     "text": [
      "file_brain_AXT1POST_203_6000790.h5\n",
      "/folder/path/file_brain_AXT1POST_203_6000790.h5\n",
      "file_brain_AXT2_209_2090032.h5\n",
      "/folder/path/file_brain_AXT2_209_2090032.h5\n",
      "file_brain_AXT2_205_6000143.h5\n",
      "/folder/path/file_brain_AXT2_205_6000143.h5\n",
      "file_brain_AXFLAIR_202_6000578.h5\n",
      "/folder/path/file_brain_AXFLAIR_202_6000578.h5\n",
      "file_brain_AXT2_200_6002431.h5\n",
      "/folder/path/file_brain_AXT2_200_6002431.h5\n",
      "file_brain_AXT2_209_2090309.h5\n",
      "/folder/path/file_brain_AXT2_209_2090309.h5\n",
      "file_brain_AXFLAIR_209_6001383.h5\n",
      "/folder/path/file_brain_AXFLAIR_209_6001383.h5\n",
      "file_brain_AXT2_202_2020417.h5\n",
      "/folder/path/file_brain_AXT2_202_2020417.h5\n",
      "file_brain_AXFLAIR_201_6002955.h5\n",
      "/folder/path/file_brain_AXFLAIR_201_6002955.h5\n",
      "file_brain_AXT2_208_2080716.h5\n",
      "/folder/path/file_brain_AXT2_208_2080716.h5\n",
      "file_brain_AXT2_200_2000498.h5\n",
      "/folder/path/file_brain_AXT2_200_2000498.h5\n",
      "file_brain_AXFLAIR_201_6003013.h5\n",
      "/folder/path/file_brain_AXFLAIR_201_6003013.h5\n",
      "file_brain_AXT2_203_2030129.h5\n",
      "/folder/path/file_brain_AXT2_203_2030129.h5\n",
      "file_brain_AXT1PRE_210_6001766.h5\n",
      "/folder/path/file_brain_AXT1PRE_210_6001766.h5\n",
      "file_brain_AXT2_202_2020375.h5\n",
      "/folder/path/file_brain_AXT2_202_2020375.h5\n",
      "file_brain_AXT1_202_2020557.h5\n",
      "/folder/path/file_brain_AXT1_202_2020557.h5\n",
      "file_brain_AXT1PRE_210_6001641.h5\n",
      "/folder/path/file_brain_AXT1PRE_210_6001641.h5\n",
      "file_brain_AXT2_210_2100134.h5\n",
      "/folder/path/file_brain_AXT2_210_2100134.h5\n",
      "file_brain_AXFLAIR_202_6000560.h5\n",
      "/folder/path/file_brain_AXFLAIR_202_6000560.h5\n",
      "file_brain_AXT1PRE_203_6000758.h5\n",
      "/folder/path/file_brain_AXT1PRE_203_6000758.h5\n",
      "file_brain_AXT2_210_6001560.h5\n",
      "/folder/path/file_brain_AXT2_210_6001560.h5\n",
      "file_brain_AXT2_210_6001573.h5\n",
      "/folder/path/file_brain_AXT2_210_6001573.h5\n",
      "file_brain_AXT1_202_2020225.h5\n",
      "/folder/path/file_brain_AXT1_202_2020225.h5\n",
      "file_brain_AXT1_206_2060092.h5\n",
      "/folder/path/file_brain_AXT1_206_2060092.h5\n",
      "file_brain_AXT1POST_208_2080187.h5\n",
      "/folder/path/file_brain_AXT1POST_208_2080187.h5\n",
      "file_brain_AXT2_207_2070177.h5\n",
      "/folder/path/file_brain_AXT2_207_2070177.h5\n",
      "file_brain_AXT1POST_207_2070548.h5\n",
      "/folder/path/file_brain_AXT1POST_207_2070548.h5\n",
      "file_brain_AXT2_200_6002495.h5\n",
      "/folder/path/file_brain_AXT2_200_6002495.h5\n",
      "file_brain_AXFLAIR_209_6001340.h5\n",
      "/folder/path/file_brain_AXFLAIR_209_6001340.h5\n",
      "file_brain_AXFLAIR_201_6002884.h5\n",
      "/folder/path/file_brain_AXFLAIR_201_6002884.h5\n",
      "file_brain_AXT2_209_6001116.h5\n",
      "/folder/path/file_brain_AXT2_209_6001116.h5\n",
      "file_brain_AXT2_201_2010233.h5\n",
      "/folder/path/file_brain_AXT2_201_2010233.h5\n",
      "file_brain_AXT1POST_209_6001004.h5\n",
      "/folder/path/file_brain_AXT1POST_209_6001004.h5\n",
      "file_brain_AXT2_201_2010373.h5\n",
      "/folder/path/file_brain_AXT2_201_2010373.h5\n",
      "file_brain_AXT1POST_200_6002436.h5\n",
      "/folder/path/file_brain_AXT1POST_200_6002436.h5\n",
      "file_brain_AXFLAIR_200_6002544.h5\n",
      "/folder/path/file_brain_AXFLAIR_200_6002544.h5\n",
      "file_brain_AXT1POST_210_6001895.h5\n",
      "/folder/path/file_brain_AXT1POST_210_6001895.h5\n",
      "file_brain_AXT2_209_6001016.h5\n",
      "/folder/path/file_brain_AXT2_209_6001016.h5\n",
      "file_brain_AXT1POST_207_2070495.h5\n",
      "/folder/path/file_brain_AXT1POST_207_2070495.h5\n",
      "file_brain_AXT1POST_203_6000766.h5\n",
      "/folder/path/file_brain_AXT1POST_203_6000766.h5\n",
      "file_brain_AXT2_208_2080428.h5\n",
      "/folder/path/file_brain_AXT2_208_2080428.h5\n",
      "file_brain_AXFLAIR_203_6000903.h5\n",
      "/folder/path/file_brain_AXFLAIR_203_6000903.h5\n",
      "file_brain_AXT2_209_6000975.h5\n",
      "/folder/path/file_brain_AXT2_209_6000975.h5\n",
      "file_brain_AXT1POST_200_6002234.h5\n",
      "/folder/path/file_brain_AXT1POST_200_6002234.h5\n",
      "file_brain_AXT1_202_2020254.h5\n",
      "/folder/path/file_brain_AXT1_202_2020254.h5\n",
      "file_brain_AXT1POST_203_6000800.h5\n",
      "/folder/path/file_brain_AXT1POST_203_6000800.h5\n",
      "file_brain_AXT2_209_6000984.h5\n",
      "/folder/path/file_brain_AXT2_209_6000984.h5\n",
      "file_brain_AXT2_207_2070264.h5\n",
      "/folder/path/file_brain_AXT2_207_2070264.h5\n",
      "file_brain_AXT2_202_2020471.h5\n",
      "/folder/path/file_brain_AXT2_202_2020471.h5\n",
      "file_brain_AXT2_207_2070567.h5\n",
      "/folder/path/file_brain_AXT2_207_2070567.h5\n",
      "file_brain_AXT2_210_2100030.h5\n",
      "/folder/path/file_brain_AXT2_210_2100030.h5\n",
      "file_brain_AXT2_207_2070541.h5\n",
      "/folder/path/file_brain_AXT2_207_2070541.h5\n",
      "file_brain_AXT2_200_2000596.h5\n",
      "/folder/path/file_brain_AXT2_200_2000596.h5\n",
      "file_brain_AXT1POST_209_6001142.h5\n",
      "/folder/path/file_brain_AXT1POST_209_6001142.h5\n",
      "file_brain_AXT1POST_200_6002410.h5\n",
      "/folder/path/file_brain_AXT1POST_200_6002410.h5\n",
      "file_brain_AXT2_206_2060032.h5\n",
      "/folder/path/file_brain_AXT2_206_2060032.h5\n",
      "file_brain_AXT2_209_6001473.h5\n",
      "/folder/path/file_brain_AXT2_209_6001473.h5\n",
      "file_brain_AXT1_202_2020202.h5\n",
      "/folder/path/file_brain_AXT1_202_2020202.h5\n",
      "file_brain_AXT1_206_2060052.h5\n",
      "/folder/path/file_brain_AXT1_206_2060052.h5\n",
      "file_brain_AXT2_200_2000368.h5\n",
      "/folder/path/file_brain_AXT2_200_2000368.h5\n",
      "file_brain_AXT1_202_6000282.h5\n",
      "/folder/path/file_brain_AXT1_202_6000282.h5\n",
      "file_brain_AXFLAIR_200_6002517.h5\n",
      "/folder/path/file_brain_AXFLAIR_200_6002517.h5\n",
      "file_brain_AXT2_200_6002643.h5\n",
      "/folder/path/file_brain_AXT2_200_6002643.h5\n",
      "file_brain_AXT2_203_2030075.h5\n",
      "/folder/path/file_brain_AXT2_203_2030075.h5\n",
      "file_brain_AXT2_210_2100405.h5\n",
      "/folder/path/file_brain_AXT2_210_2100405.h5\n",
      "file_brain_AXFLAIR_200_6002497.h5\n",
      "/folder/path/file_brain_AXFLAIR_200_6002497.h5\n",
      "file_brain_AXT1POST_209_6001139.h5\n",
      "/folder/path/file_brain_AXT1POST_209_6001139.h5\n",
      "file_brain_AXT2_208_2080495.h5\n",
      "/folder/path/file_brain_AXT2_208_2080495.h5\n",
      "file_brain_AXT2_209_2090050.h5\n",
      "/folder/path/file_brain_AXT2_209_2090050.h5\n",
      "file_brain_AXT2_207_2070215.h5\n",
      "/folder/path/file_brain_AXT2_207_2070215.h5\n",
      "file_brain_AXT1POST_202_6000289.h5\n",
      "/folder/path/file_brain_AXT1POST_202_6000289.h5\n",
      "file_brain_AXT2_200_2000110.h5\n",
      "/folder/path/file_brain_AXT2_200_2000110.h5\n",
      "file_brain_AXT2_200_6002400.h5\n",
      "/folder/path/file_brain_AXT2_200_6002400.h5\n",
      "file_brain_AXT2_202_2020571.h5\n",
      "/folder/path/file_brain_AXT2_202_2020571.h5\n",
      "file_brain_AXT2_209_6001065.h5\n",
      "/folder/path/file_brain_AXT2_209_6001065.h5\n",
      "file_brain_AXT2_210_6001508.h5\n",
      "/folder/path/file_brain_AXT2_210_6001508.h5\n",
      "file_brain_AXFLAIR_203_6000952.h5\n",
      "/folder/path/file_brain_AXFLAIR_203_6000952.h5\n",
      "file_brain_AXT2_202_2020115.h5\n",
      "/folder/path/file_brain_AXT2_202_2020115.h5\n",
      "file_brain_AXT1PRE_203_6000819.h5\n",
      "/folder/path/file_brain_AXT1PRE_203_6000819.h5\n",
      "file_brain_AXT1POST_209_6001210.h5\n",
      "/folder/path/file_brain_AXT1POST_209_6001210.h5\n",
      "file_brain_AXT1POST_207_2070112.h5\n",
      "/folder/path/file_brain_AXT1POST_207_2070112.h5\n",
      "file_brain_AXT1POST_201_6002860.h5\n",
      "/folder/path/file_brain_AXT1POST_201_6002860.h5\n",
      "file_brain_AXT1POST_208_2080436.h5\n",
      "/folder/path/file_brain_AXT1POST_208_2080436.h5\n",
      "file_brain_AXT1POST_207_2070433.h5\n",
      "/folder/path/file_brain_AXT1POST_207_2070433.h5\n",
      "file_brain_AXT1PRE_205_6000028.h5\n",
      "/folder/path/file_brain_AXT1PRE_205_6000028.h5\n",
      "file_brain_AXT1_202_2020549.h5\n",
      "/folder/path/file_brain_AXT1_202_2020549.h5\n",
      "file_brain_AXT2_206_2060069.h5\n",
      "/folder/path/file_brain_AXT2_206_2060069.h5\n",
      "file_brain_AXFLAIR_203_6000948.h5\n",
      "/folder/path/file_brain_AXFLAIR_203_6000948.h5\n",
      "file_brain_AXT2_200_2000186.h5\n",
      "/folder/path/file_brain_AXT2_200_2000186.h5\n",
      "file_brain_AXT1POST_203_6000625.h5\n",
      "/folder/path/file_brain_AXT1POST_203_6000625.h5\n",
      "file_brain_AXT1POST_205_2050253.h5\n",
      "/folder/path/file_brain_AXT1POST_205_2050253.h5\n",
      "file_brain_AXT2_207_2070376.h5\n",
      "/folder/path/file_brain_AXT2_207_2070376.h5\n",
      "file_brain_AXT2_207_2070240.h5\n",
      "/folder/path/file_brain_AXT2_207_2070240.h5\n",
      "file_brain_AXT2_205_2050249.h5\n",
      "/folder/path/file_brain_AXT2_205_2050249.h5\n",
      "file_brain_AXT2_203_2030159.h5\n",
      "/folder/path/file_brain_AXT2_203_2030159.h5\n",
      "file_brain_AXT2_202_2020411.h5\n",
      "/folder/path/file_brain_AXT2_202_2020411.h5\n",
      "file_brain_AXT2_200_6002623.h5\n",
      "/folder/path/file_brain_AXT2_200_6002623.h5\n",
      "file_brain_AXT1POST_209_6001184.h5\n",
      "/folder/path/file_brain_AXT1POST_209_6001184.h5\n",
      "file_brain_AXT1POST_207_2070627.h5\n",
      "/folder/path/file_brain_AXT1POST_207_2070627.h5\n",
      "file_brain_AXT2_201_2010254.h5\n",
      "/folder/path/file_brain_AXT2_201_2010254.h5\n",
      "file_brain_AXT2_201_2010028.h5\n",
      "/folder/path/file_brain_AXT2_201_2010028.h5\n",
      "file_brain_AXT2_204_2040093.h5\n",
      "/folder/path/file_brain_AXT2_204_2040093.h5\n",
      "file_brain_AXT1_202_6000301.h5\n",
      "/folder/path/file_brain_AXT1_202_6000301.h5\n",
      "file_brain_AXT2_205_2050103.h5\n",
      "/folder/path/file_brain_AXT2_205_2050103.h5\n",
      "file_brain_AXT2_203_2030057.h5\n",
      "/folder/path/file_brain_AXT2_203_2030057.h5\n",
      "file_brain_AXFLAIR_210_6001949.h5\n",
      "/folder/path/file_brain_AXFLAIR_210_6001949.h5\n",
      "file_brain_AXT2_200_2000304.h5\n",
      "/folder/path/file_brain_AXT2_200_2000304.h5\n",
      "file_brain_AXFLAIR_200_6002480.h5\n",
      "/folder/path/file_brain_AXFLAIR_200_6002480.h5\n",
      "file_brain_AXT2_202_2020356.h5\n",
      "/folder/path/file_brain_AXT2_202_2020356.h5\n",
      "file_brain_AXFLAIR_200_6002441.h5\n",
      "/folder/path/file_brain_AXFLAIR_200_6002441.h5\n",
      "file_brain_AXT2_202_2020536.h5\n",
      "/folder/path/file_brain_AXT2_202_2020536.h5\n",
      "file_brain_AXT1PRE_200_6002385.h5\n",
      "/folder/path/file_brain_AXT1PRE_200_6002385.h5\n",
      "file_brain_AXT2_201_2010135.h5\n",
      "/folder/path/file_brain_AXT2_201_2010135.h5\n",
      "file_brain_AXT2_201_2010405.h5\n",
      "/folder/path/file_brain_AXT2_201_2010405.h5\n",
      "file_brain_AXT2_206_6000244.h5\n",
      "/folder/path/file_brain_AXT2_206_6000244.h5\n",
      "file_brain_AXT1POST_203_6000604.h5\n",
      "/folder/path/file_brain_AXT1POST_203_6000604.h5\n",
      "file_brain_AXFLAIR_210_6001916.h5\n",
      "/folder/path/file_brain_AXFLAIR_210_6001916.h5\n",
      "file_brain_AXT2_209_6001056.h5\n",
      "/folder/path/file_brain_AXT2_209_6001056.h5\n",
      "file_brain_AXFLAIR_210_6001516.h5\n",
      "/folder/path/file_brain_AXFLAIR_210_6001516.h5\n",
      "file_brain_AXT2_207_2070414.h5\n",
      "/folder/path/file_brain_AXT2_207_2070414.h5\n",
      "file_brain_AXT2_200_6002602.h5\n",
      "/folder/path/file_brain_AXT2_200_6002602.h5\n",
      "file_brain_AXT2_209_6001200.h5\n",
      "/folder/path/file_brain_AXT2_209_6001200.h5\n",
      "file_brain_AXT2_200_2000151.h5\n",
      "/folder/path/file_brain_AXT2_200_2000151.h5\n",
      "file_brain_AXT2_205_6000024.h5\n",
      "/folder/path/file_brain_AXT2_205_6000024.h5\n",
      "file_brain_AXFLAIR_200_6002635.h5\n",
      "/folder/path/file_brain_AXFLAIR_200_6002635.h5\n",
      "file_brain_AXT2_208_2080434.h5\n",
      "/folder/path/file_brain_AXT2_208_2080434.h5\n",
      "file_brain_AXT2_202_2020339.h5\n",
      "/folder/path/file_brain_AXT2_202_2020339.h5\n",
      "file_brain_AXT2_208_2080149.h5\n",
      "/folder/path/file_brain_AXT2_208_2080149.h5\n",
      "file_brain_AXT2_200_2000129.h5\n",
      "/folder/path/file_brain_AXT2_200_2000129.h5\n",
      "file_brain_AXT2_201_2010043.h5\n",
      "/folder/path/file_brain_AXT2_201_2010043.h5\n",
      "file_brain_AXT2_205_2050198.h5\n",
      "/folder/path/file_brain_AXT2_205_2050198.h5\n",
      "file_brain_AXT2_203_2030037.h5\n",
      "/folder/path/file_brain_AXT2_203_2030037.h5\n",
      "file_brain_AXT2_201_2010250.h5\n",
      "/folder/path/file_brain_AXT2_201_2010250.h5\n",
      "file_brain_AXT2_210_6001626.h5\n",
      "/folder/path/file_brain_AXT2_210_6001626.h5\n",
      "file_brain_AXT2_203_2030098.h5\n",
      "/folder/path/file_brain_AXT2_203_2030098.h5\n",
      "file_brain_AXT2_210_6001798.h5\n",
      "/folder/path/file_brain_AXT2_210_6001798.h5\n",
      "file_brain_AXT2_202_2020383.h5\n",
      "/folder/path/file_brain_AXT2_202_2020383.h5\n",
      "file_brain_AXT2_208_2080121.h5\n",
      "/folder/path/file_brain_AXT2_208_2080121.h5\n",
      "file_brain_AXT1POST_207_2070444.h5\n",
      "/folder/path/file_brain_AXT1POST_207_2070444.h5\n",
      "file_brain_AXT2_208_2080015.h5\n",
      "/folder/path/file_brain_AXT2_208_2080015.h5\n",
      "file_brain_AXT2_210_6001535.h5\n",
      "/folder/path/file_brain_AXT2_210_6001535.h5\n",
      "file_brain_AXT2_209_6001043.h5\n",
      "/folder/path/file_brain_AXT2_209_6001043.h5\n",
      "file_brain_AXT2_209_2090256.h5\n",
      "/folder/path/file_brain_AXT2_209_2090256.h5\n",
      "file_brain_AXT2_205_6000123.h5\n",
      "/folder/path/file_brain_AXT2_205_6000123.h5\n",
      "file_brain_AXT2_200_2000535.h5\n",
      "/folder/path/file_brain_AXT2_200_2000535.h5\n",
      "file_brain_AXT2_200_2000234.h5\n",
      "/folder/path/file_brain_AXT2_200_2000234.h5\n",
      "file_brain_AXT1_202_6000368.h5\n",
      "/folder/path/file_brain_AXT1_202_6000368.h5\n",
      "file_brain_AXT1POST_207_2070787.h5\n",
      "/folder/path/file_brain_AXT1POST_207_2070787.h5\n",
      "file_brain_AXT1_202_6000357.h5\n",
      "/folder/path/file_brain_AXT1_202_6000357.h5\n",
      "file_brain_AXT2_207_2070209.h5\n",
      "/folder/path/file_brain_AXT2_207_2070209.h5\n",
      "file_brain_AXT1_202_2020553.h5\n",
      "/folder/path/file_brain_AXT1_202_2020553.h5\n",
      "file_brain_AXT2_203_2030190.h5\n",
      "/folder/path/file_brain_AXT2_203_2030190.h5\n",
      "file_brain_AXT2_202_2020128.h5\n",
      "/folder/path/file_brain_AXT2_202_2020128.h5\n",
      "file_brain_AXFLAIR_202_6000415.h5\n",
      "/folder/path/file_brain_AXFLAIR_202_6000415.h5\n",
      "file_brain_AXT2_202_2020539.h5\n",
      "/folder/path/file_brain_AXT2_202_2020539.h5\n",
      "file_brain_AXT1POST_208_2080146.h5\n",
      "/folder/path/file_brain_AXT1POST_208_2080146.h5\n",
      "file_brain_AXFLAIR_206_6000258.h5\n",
      "/folder/path/file_brain_AXFLAIR_206_6000258.h5\n",
      "file_brain_AXT1POST_202_6000516.h5\n",
      "/folder/path/file_brain_AXT1POST_202_6000516.h5\n",
      "file_brain_AXT1POST_205_6000098.h5\n",
      "/folder/path/file_brain_AXT1POST_205_6000098.h5\n",
      "file_brain_AXT2_205_2050152.h5\n",
      "/folder/path/file_brain_AXT2_205_2050152.h5\n",
      "file_brain_AXT2_210_6001738.h5\n",
      "/folder/path/file_brain_AXT2_210_6001738.h5\n",
      "file_brain_AXT2_208_2080627.h5\n",
      "/folder/path/file_brain_AXT2_208_2080627.h5\n",
      "file_brain_AXT2_210_2100213.h5\n",
      "/folder/path/file_brain_AXT2_210_2100213.h5\n",
      "file_brain_AXT1POST_207_2070271.h5\n",
      "/folder/path/file_brain_AXT1POST_207_2070271.h5\n",
      "file_brain_AXT2_201_2010040.h5\n",
      "/folder/path/file_brain_AXT2_201_2010040.h5\n",
      "file_brain_AXT2_209_6001475.h5\n",
      "/folder/path/file_brain_AXT2_209_6001475.h5\n",
      "file_brain_AXT2_207_2070312.h5\n",
      "/folder/path/file_brain_AXT2_207_2070312.h5\n",
      "file_brain_AXT2_209_2090260.h5\n",
      "/folder/path/file_brain_AXT2_209_2090260.h5\n",
      "file_brain_AXT2_201_2010178.h5\n",
      "/folder/path/file_brain_AXT2_201_2010178.h5\n",
      "file_brain_AXT2_208_2080515.h5\n",
      "/folder/path/file_brain_AXT2_208_2080515.h5\n",
      "file_brain_AXFLAIR_202_6000552.h5\n",
      "/folder/path/file_brain_AXFLAIR_202_6000552.h5\n",
      "file_brain_AXT1POST_207_2070561.h5\n",
      "/folder/path/file_brain_AXT1POST_207_2070561.h5\n",
      "file_brain_AXT2_208_2080360.h5\n",
      "/folder/path/file_brain_AXT2_208_2080360.h5\n",
      "file_brain_AXT1PRE_203_6000666.h5\n",
      "/folder/path/file_brain_AXT1PRE_203_6000666.h5\n",
      "file_brain_AXT2_207_2070191.h5\n",
      "/folder/path/file_brain_AXT2_207_2070191.h5\n",
      "file_brain_AXT2_201_2010242.h5\n",
      "/folder/path/file_brain_AXT2_201_2010242.h5\n",
      "file_brain_AXT2_209_6001083.h5\n",
      "/folder/path/file_brain_AXT2_209_6001083.h5\n",
      "file_brain_AXT1POST_207_2070057.h5\n",
      "/folder/path/file_brain_AXT1POST_207_2070057.h5\n",
      "file_brain_AXT2_200_6001964.h5\n",
      "/folder/path/file_brain_AXT2_200_6001964.h5\n",
      "file_brain_AXT2_207_2070622.h5\n",
      "/folder/path/file_brain_AXT2_207_2070622.h5\n",
      "file_brain_AXT2_201_2010103.h5\n",
      "/folder/path/file_brain_AXT2_201_2010103.h5\n",
      "file_brain_AXT2_209_2090241.h5\n",
      "/folder/path/file_brain_AXT2_209_2090241.h5\n",
      "file_brain_AXT1PRE_203_6000742.h5\n",
      "/folder/path/file_brain_AXT1PRE_203_6000742.h5\n",
      "file_brain_AXT1POST_203_6000722.h5\n",
      "/folder/path/file_brain_AXT1POST_203_6000722.h5\n",
      "file_brain_AXT2_209_6001295.h5\n",
      "/folder/path/file_brain_AXT2_209_6001295.h5\n",
      "file_brain_AXT2_206_6000208.h5\n",
      "/folder/path/file_brain_AXT2_206_6000208.h5\n",
      "file_brain_AXT2_210_6001812.h5\n",
      "/folder/path/file_brain_AXT2_210_6001812.h5\n",
      "file_brain_AXT1POST_208_2080056.h5\n",
      "/folder/path/file_brain_AXT1POST_208_2080056.h5\n",
      "file_brain_AXT1POST_203_6000718.h5\n",
      "/folder/path/file_brain_AXT1POST_203_6000718.h5\n",
      "file_brain_AXT2_209_2090345.h5\n",
      "/folder/path/file_brain_AXT2_209_2090345.h5\n",
      "file_brain_AXT1POST_209_6001144.h5\n",
      "/folder/path/file_brain_AXT1POST_209_6001144.h5\n",
      "file_brain_AXT1POST_201_6002958.h5\n",
      "/folder/path/file_brain_AXT1POST_201_6002958.h5\n",
      "file_brain_AXT2_210_6001590.h5\n",
      "/folder/path/file_brain_AXT2_210_6001590.h5\n",
      "file_brain_AXT2_208_2080123.h5\n",
      "/folder/path/file_brain_AXT2_208_2080123.h5\n",
      "file_brain_AXT2_210_6001942.h5\n",
      "/folder/path/file_brain_AXT2_210_6001942.h5\n",
      "file_brain_AXT2_200_6002031.h5\n",
      "/folder/path/file_brain_AXT2_200_6002031.h5\n",
      "file_brain_AXFLAIR_200_6002564.h5\n",
      "/folder/path/file_brain_AXFLAIR_200_6002564.h5\n",
      "file_brain_AXT2_207_2070051.h5\n",
      "/folder/path/file_brain_AXT2_207_2070051.h5\n",
      "file_brain_AXT2_202_2020425.h5\n",
      "/folder/path/file_brain_AXT2_202_2020425.h5\n",
      "file_brain_AXT2_209_6001155.h5\n",
      "/folder/path/file_brain_AXT2_209_6001155.h5\n",
      "file_brain_AXT1POST_208_2080410.h5\n",
      "/folder/path/file_brain_AXT1POST_208_2080410.h5\n",
      "file_brain_AXT2_201_2010426.h5\n",
      "/folder/path/file_brain_AXT2_201_2010426.h5\n",
      "file_brain_AXT2_208_2080351.h5\n",
      "/folder/path/file_brain_AXT2_208_2080351.h5\n",
      "file_brain_AXT2_209_6001143.h5\n",
      "/folder/path/file_brain_AXT2_209_6001143.h5\n",
      "file_brain_AXT1_202_2020433.h5\n",
      "/folder/path/file_brain_AXT1_202_2020433.h5\n",
      "file_brain_AXT1POST_202_6000293.h5\n",
      "/folder/path/file_brain_AXT1POST_202_6000293.h5\n",
      "file_brain_AXT2_207_2070797.h5\n",
      "/folder/path/file_brain_AXT2_207_2070797.h5\n",
      "file_brain_AXT1PRE_210_6001695.h5\n",
      "/folder/path/file_brain_AXT1PRE_210_6001695.h5\n",
      "file_brain_AXT2_200_6002123.h5\n",
      "/folder/path/file_brain_AXT2_200_6002123.h5\n",
      "file_brain_AXT2_208_2080499.h5\n",
      "/folder/path/file_brain_AXT2_208_2080499.h5\n",
      "file_brain_AXT2_200_2000158.h5\n",
      "/folder/path/file_brain_AXT2_200_2000158.h5\n",
      "file_brain_AXT2_205_2050252.h5\n",
      "/folder/path/file_brain_AXT2_205_2050252.h5\n",
      "file_brain_AXT1PRE_201_6002693.h5\n",
      "/folder/path/file_brain_AXT1PRE_201_6002693.h5\n",
      "file_brain_AXT1POST_207_2070682.h5\n",
      "/folder/path/file_brain_AXT1POST_207_2070682.h5\n",
      "file_brain_AXT1POST_200_6002613.h5\n",
      "/folder/path/file_brain_AXT1POST_200_6002613.h5\n",
      "file_brain_AXT2_200_6002639.h5\n",
      "/folder/path/file_brain_AXT2_200_6002639.h5\n",
      "file_brain_AXT2_206_2060031.h5\n",
      "/folder/path/file_brain_AXT2_206_2060031.h5\n",
      "file_brain_AXT2_202_2020373.h5\n",
      "/folder/path/file_brain_AXT2_202_2020373.h5\n",
      "file_brain_AXT1POST_207_2070370.h5\n",
      "/folder/path/file_brain_AXT1POST_207_2070370.h5\n",
      "file_brain_AXT2_210_2100284.h5\n",
      "/folder/path/file_brain_AXT2_210_2100284.h5\n",
      "file_brain_AXT2_208_2080464.h5\n",
      "/folder/path/file_brain_AXT2_208_2080464.h5\n",
      "file_brain_AXT2_209_2090343.h5\n",
      "/folder/path/file_brain_AXT2_209_2090343.h5\n",
      "file_brain_AXT1PRE_210_6001713.h5\n",
      "/folder/path/file_brain_AXT1PRE_210_6001713.h5\n",
      "file_brain_AXT2_200_6002434.h5\n",
      "/folder/path/file_brain_AXT2_200_6002434.h5\n",
      "file_brain_AXT2_200_6002647.h5\n",
      "/folder/path/file_brain_AXT2_200_6002647.h5\n",
      "file_brain_AXT1POST_207_2070338.h5\n",
      "/folder/path/file_brain_AXT1POST_207_2070338.h5\n",
      "file_brain_AXT1POST_207_2070027.h5\n",
      "/folder/path/file_brain_AXT1POST_207_2070027.h5\n",
      "file_brain_AXFLAIR_210_6001880.h5\n",
      "/folder/path/file_brain_AXFLAIR_210_6001880.h5\n",
      "file_brain_AXT2_201_2010573.h5\n",
      "/folder/path/file_brain_AXT2_201_2010573.h5\n",
      "file_brain_AXT2_202_2020588.h5\n",
      "/folder/path/file_brain_AXT2_202_2020588.h5\n",
      "file_brain_AXT2_207_2070445.h5\n",
      "/folder/path/file_brain_AXT2_207_2070445.h5\n",
      "file_brain_AXT2_207_2070369.h5\n",
      "/folder/path/file_brain_AXT2_207_2070369.h5\n",
      "file_brain_AXT2_208_2080391.h5\n",
      "/folder/path/file_brain_AXT2_208_2080391.h5\n",
      "file_brain_AXT1POST_201_6002718.h5\n",
      "/folder/path/file_brain_AXT1POST_201_6002718.h5\n",
      "file_brain_AXT1POST_207_2070502.h5\n",
      "/folder/path/file_brain_AXT1POST_207_2070502.h5\n",
      "file_brain_AXT1PRE_203_6000697.h5\n",
      "/folder/path/file_brain_AXT1PRE_203_6000697.h5\n",
      "file_brain_AXT1POST_207_2070053.h5\n",
      "/folder/path/file_brain_AXT1POST_207_2070053.h5\n",
      "file_brain_AXT2_201_2010190.h5\n",
      "/folder/path/file_brain_AXT2_201_2010190.h5\n",
      "file_brain_AXT2_207_2070233.h5\n",
      "/folder/path/file_brain_AXT2_207_2070233.h5\n",
      "file_brain_AXT2_202_2020011.h5\n",
      "/folder/path/file_brain_AXT2_202_2020011.h5\n",
      "file_brain_AXT2_209_2090396.h5\n",
      "/folder/path/file_brain_AXT2_209_2090396.h5\n",
      "file_brain_AXT1POST_208_2080427.h5\n",
      "/folder/path/file_brain_AXT1POST_208_2080427.h5\n",
      "file_brain_AXT1PRE_205_6000066.h5\n",
      "/folder/path/file_brain_AXT1PRE_205_6000066.h5\n",
      "file_brain_AXT2_210_6001843.h5\n",
      "/folder/path/file_brain_AXT2_210_6001843.h5\n",
      "file_brain_AXT2_206_2060091.h5\n",
      "/folder/path/file_brain_AXT2_206_2060091.h5\n",
      "file_brain_AXT2_202_2020267.h5\n",
      "/folder/path/file_brain_AXT2_202_2020267.h5\n",
      "file_brain_AXT1POST_209_6001102.h5\n",
      "/folder/path/file_brain_AXT1POST_209_6001102.h5\n",
      "file_brain_AXT2_209_2090150.h5\n",
      "/folder/path/file_brain_AXT2_209_2090150.h5\n",
      "file_brain_AXT1_206_2060075.h5\n",
      "/folder/path/file_brain_AXT1_206_2060075.h5\n",
      "file_brain_AXT1POST_210_6001811.h5\n",
      "/folder/path/file_brain_AXT1POST_210_6001811.h5\n",
      "file_brain_AXT2_203_2030043.h5\n",
      "/folder/path/file_brain_AXT2_203_2030043.h5\n",
      "file_brain_AXT2_210_6001852.h5\n",
      "/folder/path/file_brain_AXT2_210_6001852.h5\n",
      "file_brain_AXT1POST_207_2070647.h5\n",
      "/folder/path/file_brain_AXT1POST_207_2070647.h5\n",
      "file_brain_AXT2_200_2000046.h5\n",
      "/folder/path/file_brain_AXT2_200_2000046.h5\n",
      "file_brain_AXT2_207_2070286.h5\n",
      "/folder/path/file_brain_AXT2_207_2070286.h5\n",
      "file_brain_AXT2_209_6001070.h5\n",
      "/folder/path/file_brain_AXT2_209_6001070.h5\n",
      "file_brain_AXT2_210_6001936.h5\n",
      "/folder/path/file_brain_AXT2_210_6001936.h5\n",
      "file_brain_AXT2_200_6002339.h5\n",
      "/folder/path/file_brain_AXT2_200_6002339.h5\n",
      "file_brain_AXT2_210_6001718.h5\n",
      "/folder/path/file_brain_AXT2_210_6001718.h5\n",
      "file_brain_AXT2_203_2030055.h5\n",
      "/folder/path/file_brain_AXT2_203_2030055.h5\n",
      "file_brain_AXFLAIR_201_6002930.h5\n",
      "/folder/path/file_brain_AXFLAIR_201_6002930.h5\n",
      "file_brain_AXT1POST_203_6000630.h5\n",
      "/folder/path/file_brain_AXT1POST_203_6000630.h5\n",
      "file_brain_AXT1_201_6002721.h5\n",
      "/folder/path/file_brain_AXT1_201_6002721.h5\n",
      "file_brain_AXT1POST_205_2050150.h5\n",
      "/folder/path/file_brain_AXT1POST_205_2050150.h5\n",
      "file_brain_AXT2_210_6001746.h5\n",
      "/folder/path/file_brain_AXT2_210_6001746.h5\n",
      "file_brain_AXFLAIR_201_6002927.h5\n",
      "/folder/path/file_brain_AXFLAIR_201_6002927.h5\n",
      "file_brain_AXT1POST_203_6000806.h5\n",
      "/folder/path/file_brain_AXT1POST_203_6000806.h5\n",
      "file_brain_AXT1POST_205_6000089.h5\n",
      "/folder/path/file_brain_AXT1POST_205_6000089.h5\n",
      "file_brain_AXT2_200_6002491.h5\n",
      "/folder/path/file_brain_AXT2_200_6002491.h5\n",
      "file_brain_AXT1PRE_209_6001110.h5\n",
      "/folder/path/file_brain_AXT1PRE_209_6001110.h5\n",
      "file_brain_AXT2_200_2000124.h5\n",
      "/folder/path/file_brain_AXT2_200_2000124.h5\n",
      "file_brain_AXT1PRE_203_6000858.h5\n",
      "/folder/path/file_brain_AXT1PRE_203_6000858.h5\n",
      "file_brain_AXT2_209_2090043.h5\n",
      "/folder/path/file_brain_AXT2_209_2090043.h5\n",
      "file_brain_AXT2_208_2080376.h5\n",
      "/folder/path/file_brain_AXT2_208_2080376.h5\n",
      "file_brain_AXFLAIR_209_6001372.h5\n",
      "/folder/path/file_brain_AXFLAIR_209_6001372.h5\n",
      "file_brain_AXT2_200_6002333.h5\n",
      "/folder/path/file_brain_AXT2_200_6002333.h5\n",
      "file_brain_AXT2_201_2010383.h5\n",
      "/folder/path/file_brain_AXT2_201_2010383.h5\n",
      "file_brain_AXT2_210_6001816.h5\n",
      "/folder/path/file_brain_AXT2_210_6001816.h5\n",
      "file_brain_AXT1PRE_200_6002382.h5\n",
      "/folder/path/file_brain_AXT1PRE_200_6002382.h5\n",
      "file_brain_AXT2_210_6001601.h5\n",
      "/folder/path/file_brain_AXT2_210_6001601.h5\n",
      "file_brain_AXT1POST_207_2070321.h5\n",
      "/folder/path/file_brain_AXT1POST_207_2070321.h5\n",
      "file_brain_AXT2_209_6001375.h5\n",
      "/folder/path/file_brain_AXT2_209_6001375.h5\n",
      "file_brain_AXT2_204_2040037.h5\n",
      "/folder/path/file_brain_AXT2_204_2040037.h5\n",
      "file_brain_AXT2_200_6002174.h5\n",
      "/folder/path/file_brain_AXT2_200_6002174.h5\n",
      "file_brain_AXT1POST_208_2080095.h5\n",
      "/folder/path/file_brain_AXT1POST_208_2080095.h5\n",
      "file_brain_AXT2_210_2100179.h5\n",
      "/folder/path/file_brain_AXT2_210_2100179.h5\n",
      "file_brain_AXT2_200_6002213.h5\n",
      "/folder/path/file_brain_AXT2_200_6002213.h5\n",
      "file_brain_AXT2_202_2020271.h5\n",
      "/folder/path/file_brain_AXT2_202_2020271.h5\n",
      "file_brain_AXT1POST_201_6002764.h5\n",
      "/folder/path/file_brain_AXT1POST_201_6002764.h5\n",
      "file_brain_AXT2_200_6002398.h5\n",
      "/folder/path/file_brain_AXT2_200_6002398.h5\n",
      "file_brain_AXT2_208_2080721.h5\n",
      "/folder/path/file_brain_AXT2_208_2080721.h5\n",
      "file_brain_AXT2_208_2080489.h5\n",
      "/folder/path/file_brain_AXT2_208_2080489.h5\n",
      "file_brain_AXT2_210_2100184.h5\n",
      "/folder/path/file_brain_AXT2_210_2100184.h5\n",
      "file_brain_AXT1_206_2060063.h5\n",
      "/folder/path/file_brain_AXT1_206_2060063.h5\n",
      "file_brain_AXT2_203_2030377.h5\n",
      "/folder/path/file_brain_AXT2_203_2030377.h5\n",
      "file_brain_AXT1_202_6000457.h5\n",
      "/folder/path/file_brain_AXT1_202_6000457.h5\n",
      "file_brain_AXT1PRE_209_6001430.h5\n",
      "/folder/path/file_brain_AXT1PRE_209_6001430.h5\n",
      "file_brain_AXT1POST_207_2070572.h5\n",
      "/folder/path/file_brain_AXT1POST_207_2070572.h5\n",
      "file_brain_AXT1POST_201_6002754.h5\n",
      "/folder/path/file_brain_AXT1POST_201_6002754.h5\n",
      "file_brain_AXT1POST_208_2080373.h5\n",
      "/folder/path/file_brain_AXT1POST_208_2080373.h5\n",
      "file_brain_AXT2_200_2000271.h5\n",
      "/folder/path/file_brain_AXT2_200_2000271.h5\n",
      "file_brain_AXT2_209_6001095.h5\n",
      "/folder/path/file_brain_AXT2_209_6001095.h5\n",
      "file_brain_AXT1_206_2120004.h5\n",
      "/folder/path/file_brain_AXT1_206_2120004.h5\n",
      "file_brain_AXT2_202_2020107.h5\n",
      "/folder/path/file_brain_AXT2_202_2020107.h5\n",
      "file_brain_AXT1PRE_203_6000681.h5\n",
      "/folder/path/file_brain_AXT1PRE_203_6000681.h5\n",
      "file_brain_AXFLAIR_210_6001921.h5\n",
      "/folder/path/file_brain_AXFLAIR_210_6001921.h5\n",
      "file_brain_AXT2_209_6000980.h5\n",
      "/folder/path/file_brain_AXT2_209_6000980.h5\n",
      "file_brain_AXT1POST_210_6001714.h5\n",
      "/folder/path/file_brain_AXT1POST_210_6001714.h5\n",
      "file_brain_AXT2_200_6002461.h5\n",
      "/folder/path/file_brain_AXT2_200_6002461.h5\n",
      "file_brain_AXT2_207_2070710.h5\n",
      "/folder/path/file_brain_AXT2_207_2070710.h5\n",
      "file_brain_AXT1POST_210_6001591.h5\n",
      "/folder/path/file_brain_AXT1POST_210_6001591.h5\n",
      "file_brain_AXT1POST_202_6000343.h5\n",
      "/folder/path/file_brain_AXT1POST_202_6000343.h5\n",
      "file_brain_AXT2_210_6001608.h5\n",
      "/folder/path/file_brain_AXT2_210_6001608.h5\n",
      "file_brain_AXT1PRE_203_6000882.h5\n",
      "/folder/path/file_brain_AXT1PRE_203_6000882.h5\n",
      "file_brain_AXT2_200_2000482.h5\n",
      "/folder/path/file_brain_AXT2_200_2000482.h5\n",
      "file_brain_AXT1POST_207_2070334.h5\n",
      "/folder/path/file_brain_AXT1POST_207_2070334.h5\n",
      "file_brain_AXT1PRE_209_6001063.h5\n",
      "/folder/path/file_brain_AXT1PRE_209_6001063.h5\n",
      "file_brain_AXT2_209_2090097.h5\n",
      "/folder/path/file_brain_AXT2_209_2090097.h5\n",
      "file_brain_AXT1POST_207_2070618.h5\n",
      "/folder/path/file_brain_AXT1POST_207_2070618.h5\n",
      "file_brain_AXT2_208_2080677.h5\n",
      "/folder/path/file_brain_AXT2_208_2080677.h5\n",
      "file_brain_AXT2_207_2070296.h5\n",
      "/folder/path/file_brain_AXT2_207_2070296.h5\n",
      "file_brain_AXT2_207_2070025.h5\n",
      "/folder/path/file_brain_AXT2_207_2070025.h5\n",
      "file_brain_AXT2_206_2060073.h5\n",
      "/folder/path/file_brain_AXT2_206_2060073.h5\n",
      "file_brain_AXT1POST_202_6000270.h5\n",
      "/folder/path/file_brain_AXT1POST_202_6000270.h5\n",
      "file_brain_AXFLAIR_200_6002531.h5\n",
      "/folder/path/file_brain_AXFLAIR_200_6002531.h5\n",
      "file_brain_AXT2_210_6001948.h5\n",
      "/folder/path/file_brain_AXT2_210_6001948.h5\n",
      "file_brain_AXT2_209_6001208.h5\n",
      "/folder/path/file_brain_AXT2_209_6001208.h5\n",
      "file_brain_AXT2_209_2090201.h5\n",
      "/folder/path/file_brain_AXT2_209_2090201.h5\n",
      "file_brain_AXT2_207_2070508.h5\n",
      "/folder/path/file_brain_AXT2_207_2070508.h5\n",
      "file_brain_AXT2_200_6002651.h5\n",
      "/folder/path/file_brain_AXT2_200_6002651.h5\n",
      "file_brain_AXT1POST_208_2080357.h5\n",
      "/folder/path/file_brain_AXT1POST_208_2080357.h5\n",
      "file_brain_AXT1_202_2020234.h5\n",
      "/folder/path/file_brain_AXT1_202_2020234.h5\n",
      "file_brain_AXT1PRE_205_6000046.h5\n",
      "/folder/path/file_brain_AXT1PRE_205_6000046.h5\n",
      "file_brain_AXT2_210_2100357.h5\n",
      "/folder/path/file_brain_AXT2_210_2100357.h5\n",
      "file_brain_AXT2_207_2070385.h5\n",
      "/folder/path/file_brain_AXT2_207_2070385.h5\n",
      "file_brain_AXFLAIR_206_6000226.h5\n",
      "/folder/path/file_brain_AXFLAIR_206_6000226.h5\n",
      "file_brain_AXT1POST_209_6001239.h5\n",
      "/folder/path/file_brain_AXT1POST_209_6001239.h5\n",
      "file_brain_AXT1POST_208_2080667.h5\n",
      "/folder/path/file_brain_AXT1POST_208_2080667.h5\n",
      "file_brain_AXT1POST_200_6002360.h5\n",
      "/folder/path/file_brain_AXT1POST_200_6002360.h5\n",
      "file_brain_AXT2_201_2010450.h5\n",
      "/folder/path/file_brain_AXT2_201_2010450.h5\n",
      "file_brain_AXT2_208_2080104.h5\n",
      "/folder/path/file_brain_AXT2_208_2080104.h5\n",
      "file_brain_AXT1POST_202_6000523.h5\n",
      "/folder/path/file_brain_AXT1POST_202_6000523.h5\n",
      "file_brain_AXT1PRE_206_6000220.h5\n",
      "/folder/path/file_brain_AXT1PRE_206_6000220.h5\n",
      "file_brain_AXFLAIR_210_6001502.h5\n",
      "/folder/path/file_brain_AXFLAIR_210_6001502.h5\n",
      "file_brain_AXT2_207_2070475.h5\n",
      "/folder/path/file_brain_AXT2_207_2070475.h5\n",
      "file_brain_AXT2_207_2070448.h5\n",
      "/folder/path/file_brain_AXT2_207_2070448.h5\n",
      "file_brain_AXT2_207_2070006.h5\n",
      "/folder/path/file_brain_AXT2_207_2070006.h5\n",
      "file_brain_AXT2_201_2010169.h5\n",
      "/folder/path/file_brain_AXT2_201_2010169.h5\n",
      "file_brain_AXT2_202_2020179.h5\n",
      "/folder/path/file_brain_AXT2_202_2020179.h5\n",
      "file_brain_AXT2_209_6001426.h5\n",
      "/folder/path/file_brain_AXT2_209_6001426.h5\n",
      "file_brain_AXT2_207_2070814.h5\n",
      "/folder/path/file_brain_AXT2_207_2070814.h5\n",
      "file_brain_AXT1POST_200_6002165.h5\n",
      "/folder/path/file_brain_AXT1POST_200_6002165.h5\n",
      "file_brain_AXFLAIR_200_6002621.h5\n",
      "/folder/path/file_brain_AXFLAIR_200_6002621.h5\n",
      "file_brain_AXT1_202_2020421.h5\n",
      "/folder/path/file_brain_AXT1_202_2020421.h5\n",
      "file_brain_AXT2_201_2010096.h5\n",
      "/folder/path/file_brain_AXT2_201_2010096.h5\n",
      "file_brain_AXT2_202_2020586.h5\n",
      "/folder/path/file_brain_AXT2_202_2020586.h5\n",
      "file_brain_AXT1POST_200_6002126.h5\n",
      "/folder/path/file_brain_AXT1POST_200_6002126.h5\n",
      "file_brain_AXFLAIR_210_6001523.h5\n",
      "/folder/path/file_brain_AXFLAIR_210_6001523.h5\n",
      "file_brain_AXT1POST_201_6002671.h5\n",
      "/folder/path/file_brain_AXT1POST_201_6002671.h5\n",
      "file_brain_AXT1POST_201_6002853.h5\n",
      "/folder/path/file_brain_AXT1POST_201_6002853.h5\n",
      "file_brain_AXT1_202_6000277.h5\n",
      "/folder/path/file_brain_AXT1_202_6000277.h5\n",
      "file_brain_AXT2_203_2030071.h5\n",
      "/folder/path/file_brain_AXT2_203_2030071.h5\n",
      "file_brain_AXT1PRE_203_6000891.h5\n",
      "/folder/path/file_brain_AXT1PRE_203_6000891.h5\n",
      "file_brain_AXT2_207_2070248.h5\n",
      "/folder/path/file_brain_AXT2_207_2070248.h5\n",
      "file_brain_AXT2_207_2070575.h5\n",
      "/folder/path/file_brain_AXT2_207_2070575.h5\n",
      "file_brain_AXT2_201_2010395.h5\n",
      "/folder/path/file_brain_AXT2_201_2010395.h5\n",
      "file_brain_AXT2_207_2070727.h5\n",
      "/folder/path/file_brain_AXT2_207_2070727.h5\n",
      "file_brain_AXT1PRE_210_6001791.h5\n",
      "/folder/path/file_brain_AXT1PRE_210_6001791.h5\n",
      "file_brain_AXT2_210_2100389.h5\n",
      "/folder/path/file_brain_AXT2_210_2100389.h5\n",
      "file_brain_AXT2_205_2050184.h5\n",
      "/folder/path/file_brain_AXT2_205_2050184.h5\n",
      "file_brain_AXT1POST_203_6000778.h5\n",
      "/folder/path/file_brain_AXT1POST_203_6000778.h5\n",
      "file_brain_AXT2_208_2080030.h5\n",
      "/folder/path/file_brain_AXT2_208_2080030.h5\n",
      "file_brain_AXFLAIR_200_6002527.h5\n",
      "/folder/path/file_brain_AXFLAIR_200_6002527.h5\n",
      "file_brain_AXT1POST_208_2080480.h5\n",
      "/folder/path/file_brain_AXT1POST_208_2080480.h5\n",
      "file_brain_AXT1_202_2020391.h5\n",
      "/folder/path/file_brain_AXT1_202_2020391.h5\n",
      "file_brain_AXT2_203_2030229.h5\n",
      "/folder/path/file_brain_AXT2_203_2030229.h5\n",
      "file_brain_AXT1POST_202_6000291.h5\n",
      "/folder/path/file_brain_AXT1POST_202_6000291.h5\n",
      "file_brain_AXT2_209_6001439.h5\n",
      "/folder/path/file_brain_AXT2_209_6001439.h5\n",
      "file_brain_AXT1POST_207_2070455.h5\n",
      "/folder/path/file_brain_AXT1POST_207_2070455.h5\n",
      "file_brain_AXT2_207_2070783.h5\n",
      "/folder/path/file_brain_AXT2_207_2070783.h5\n",
      "file_brain_AXT2_200_2000079.h5\n",
      "/folder/path/file_brain_AXT2_200_2000079.h5\n",
      "file_brain_AXT1PRE_200_6002297.h5\n",
      "/folder/path/file_brain_AXT1PRE_200_6002297.h5\n",
      "file_brain_AXT2_207_2070216.h5\n",
      "/folder/path/file_brain_AXT2_207_2070216.h5\n",
      "file_brain_AXT1_201_6002775.h5\n",
      "/folder/path/file_brain_AXT1_201_6002775.h5\n",
      "file_brain_AXT1POST_207_2070843.h5\n",
      "/folder/path/file_brain_AXT1POST_207_2070843.h5\n",
      "file_brain_AXT2_201_2010429.h5\n",
      "/folder/path/file_brain_AXT2_201_2010429.h5\n",
      "file_brain_AXFLAIR_201_6002986.h5\n",
      "/folder/path/file_brain_AXFLAIR_201_6002986.h5\n",
      "file_brain_AXT2_206_6000239.h5\n",
      "/folder/path/file_brain_AXT2_206_6000239.h5\n",
      "file_brain_AXT2_207_2070102.h5\n",
      "/folder/path/file_brain_AXT2_207_2070102.h5\n",
      "file_brain_AXT2_200_6002025.h5\n",
      "/folder/path/file_brain_AXT2_200_6002025.h5\n",
      "file_brain_AXFLAIR_210_6001946.h5\n",
      "/folder/path/file_brain_AXFLAIR_210_6001946.h5\n",
      "file_brain_AXT2_200_6002220.h5\n",
      "/folder/path/file_brain_AXT2_200_6002220.h5\n",
      "file_brain_AXT2_202_2020361.h5\n",
      "/folder/path/file_brain_AXT2_202_2020361.h5\n",
      "file_brain_AXT2_207_2070451.h5\n",
      "/folder/path/file_brain_AXT2_207_2070451.h5\n",
      "file_brain_AXT2_208_2080402.h5\n",
      "/folder/path/file_brain_AXT2_208_2080402.h5\n",
      "file_brain_AXFLAIR_210_6001860.h5\n",
      "/folder/path/file_brain_AXFLAIR_210_6001860.h5\n",
      "file_brain_AXT2_209_2090197.h5\n",
      "/folder/path/file_brain_AXT2_209_2090197.h5\n",
      "file_brain_AXT2_209_2090245.h5\n",
      "/folder/path/file_brain_AXT2_209_2090245.h5\n",
      "file_brain_AXT2_202_2020309.h5\n",
      "/folder/path/file_brain_AXT2_202_2020309.h5\n",
      "file_brain_AXT2_209_2090015.h5\n",
      "/folder/path/file_brain_AXT2_209_2090015.h5\n",
      "file_brain_AXT1POST_205_2050073.h5\n",
      "/folder/path/file_brain_AXT1POST_205_2050073.h5\n",
      "file_brain_AXT2_207_2070071.h5\n",
      "/folder/path/file_brain_AXT2_207_2070071.h5\n",
      "file_brain_AXT2_208_2080625.h5\n",
      "/folder/path/file_brain_AXT2_208_2080625.h5\n",
      "file_brain_AXT1_202_6000441.h5\n",
      "/folder/path/file_brain_AXT1_202_6000441.h5\n",
      "file_brain_AXT2_210_6001525.h5\n",
      "/folder/path/file_brain_AXT2_210_6001525.h5\n",
      "file_brain_AXT1PRE_203_6000622.h5\n",
      "/folder/path/file_brain_AXT1PRE_203_6000622.h5\n",
      "file_brain_AXT2_200_6002171.h5\n",
      "/folder/path/file_brain_AXT2_200_6002171.h5\n",
      "file_brain_AXT1POST_207_2070203.h5\n",
      "/folder/path/file_brain_AXT1POST_207_2070203.h5\n",
      "file_brain_AXT1PRE_210_6001861.h5\n",
      "/folder/path/file_brain_AXT1PRE_210_6001861.h5\n",
      "file_brain_AXT2_207_2070413.h5\n",
      "/folder/path/file_brain_AXT2_207_2070413.h5\n",
      "file_brain_AXT1POST_207_2070236.h5\n",
      "/folder/path/file_brain_AXT1POST_207_2070236.h5\n",
      "file_brain_AXT1PRE_203_6000831.h5\n",
      "/folder/path/file_brain_AXT1PRE_203_6000831.h5\n",
      "file_brain_AXT2_209_2090255.h5\n",
      "/folder/path/file_brain_AXT2_209_2090255.h5\n",
      "file_brain_AXT2_209_6001154.h5\n",
      "/folder/path/file_brain_AXT2_209_6001154.h5\n",
      "file_brain_AXT2_200_6002009.h5\n",
      "/folder/path/file_brain_AXT2_200_6002009.h5\n",
      "file_brain_AXT2_208_2080608.h5\n",
      "/folder/path/file_brain_AXT2_208_2080608.h5\n",
      "file_brain_AXT2_205_6000092.h5\n",
      "/folder/path/file_brain_AXT2_205_6000092.h5\n",
      "file_brain_AXT1POST_201_6002728.h5\n",
      "/folder/path/file_brain_AXT1POST_201_6002728.h5\n",
      "file_brain_AXT2_205_2050192.h5\n",
      "/folder/path/file_brain_AXT2_205_2050192.h5\n",
      "file_brain_AXT2_200_6002161.h5\n",
      "/folder/path/file_brain_AXT2_200_6002161.h5\n",
      "file_brain_AXFLAIR_201_6002943.h5\n",
      "/folder/path/file_brain_AXFLAIR_201_6002943.h5\n",
      "file_brain_AXFLAIR_209_6001379.h5\n",
      "/folder/path/file_brain_AXFLAIR_209_6001379.h5\n",
      "file_brain_AXT1POST_203_6000753.h5\n",
      "/folder/path/file_brain_AXT1POST_203_6000753.h5\n",
      "file_brain_AXT2_209_6001021.h5\n",
      "/folder/path/file_brain_AXT2_209_6001021.h5\n",
      "file_brain_AXT2_200_2000205.h5\n",
      "/folder/path/file_brain_AXT2_200_2000205.h5\n",
      "file_brain_AXT2_203_2030041.h5\n",
      "/folder/path/file_brain_AXT2_203_2030041.h5\n",
      "file_brain_AXT1POST_207_2070694.h5\n",
      "/folder/path/file_brain_AXT1POST_207_2070694.h5\n",
      "file_brain_AXT2_210_2100257.h5\n",
      "/folder/path/file_brain_AXT2_210_2100257.h5\n",
      "file_brain_AXT1POST_201_6002855.h5\n",
      "/folder/path/file_brain_AXT1POST_201_6002855.h5\n",
      "file_brain_AXT1POST_210_6001676.h5\n",
      "/folder/path/file_brain_AXT1POST_210_6001676.h5\n",
      "file_brain_AXT2_200_2000341.h5\n",
      "/folder/path/file_brain_AXT2_200_2000341.h5\n",
      "file_brain_AXT2_209_2090100.h5\n",
      "/folder/path/file_brain_AXT2_209_2090100.h5\n",
      "file_brain_AXT1PRE_210_6001689.h5\n",
      "/folder/path/file_brain_AXT1PRE_210_6001689.h5\n",
      "file_brain_AXT2_206_2060023.h5\n",
      "/folder/path/file_brain_AXT2_206_2060023.h5\n",
      "file_brain_AXT2_201_2010346.h5\n",
      "/folder/path/file_brain_AXT2_201_2010346.h5\n",
      "file_brain_AXT2_208_2080102.h5\n",
      "/folder/path/file_brain_AXT2_208_2080102.h5\n",
      "file_brain_AXT1POST_205_2050202.h5\n",
      "/folder/path/file_brain_AXT1POST_205_2050202.h5\n",
      "file_brain_AXT2_208_2080413.h5\n",
      "/folder/path/file_brain_AXT2_208_2080413.h5\n",
      "file_brain_AXT2_210_6001902.h5\n",
      "/folder/path/file_brain_AXT2_210_6001902.h5\n",
      "file_brain_AXT1POST_207_2070757.h5\n",
      "/folder/path/file_brain_AXT1POST_207_2070757.h5\n",
      "file_brain_AXT2_200_6002409.h5\n",
      "/folder/path/file_brain_AXT2_200_6002409.h5\n",
      "file_brain_AXFLAIR_201_6002891.h5\n",
      "/folder/path/file_brain_AXFLAIR_201_6002891.h5\n",
      "file_brain_AXT2_209_6000988.h5\n",
      "/folder/path/file_brain_AXT2_209_6000988.h5\n",
      "file_brain_AXFLAIR_201_6002990.h5\n",
      "/folder/path/file_brain_AXFLAIR_201_6002990.h5\n",
      "file_brain_AXT2_207_2070509.h5\n",
      "/folder/path/file_brain_AXT2_207_2070509.h5\n",
      "file_brain_AXT2_209_2090063.h5\n",
      "/folder/path/file_brain_AXT2_209_2090063.h5\n",
      "file_brain_AXT2_208_2080588.h5\n",
      "/folder/path/file_brain_AXT2_208_2080588.h5\n",
      "file_brain_AXT2_209_2090021.h5\n",
      "/folder/path/file_brain_AXT2_209_2090021.h5\n",
      "file_brain_AXT2_203_2030371.h5\n",
      "/folder/path/file_brain_AXT2_203_2030371.h5\n",
      "file_brain_AXT2_209_6000991.h5\n",
      "/folder/path/file_brain_AXT2_209_6000991.h5\n",
      "file_brain_AXT1POST_203_6000743.h5\n",
      "/folder/path/file_brain_AXT1POST_203_6000743.h5\n",
      "file_brain_AXFLAIR_210_6001943.h5\n",
      "/folder/path/file_brain_AXFLAIR_210_6001943.h5\n",
      "file_brain_AXT2_200_2000235.h5\n",
      "/folder/path/file_brain_AXT2_200_2000235.h5\n",
      "file_brain_AXT2_206_6000214.h5\n",
      "/folder/path/file_brain_AXT2_206_6000214.h5\n",
      "file_brain_AXT2_207_2070018.h5\n",
      "/folder/path/file_brain_AXT2_207_2070018.h5\n",
      "file_brain_AXT2_200_6002514.h5\n",
      "/folder/path/file_brain_AXT2_200_6002514.h5\n",
      "file_brain_AXT2_200_2000087.h5\n",
      "/folder/path/file_brain_AXT2_200_2000087.h5\n",
      "file_brain_AXT2_207_2070082.h5\n",
      "/folder/path/file_brain_AXT2_207_2070082.h5\n",
      "file_brain_AXT1POST_208_2080017.h5\n",
      "/folder/path/file_brain_AXT1POST_208_2080017.h5\n",
      "file_brain_AXT2_209_6001288.h5\n",
      "/folder/path/file_brain_AXT2_209_6001288.h5\n",
      "file_brain_AXT2_206_2060090.h5\n",
      "/folder/path/file_brain_AXT2_206_2060090.h5\n",
      "file_brain_AXT1PRE_209_6001238.h5\n",
      "/folder/path/file_brain_AXT1PRE_209_6001238.h5\n",
      "file_brain_AXT2_203_2030175.h5\n",
      "/folder/path/file_brain_AXT2_203_2030175.h5\n",
      "file_brain_AXT1POST_207_2070125.h5\n",
      "/folder/path/file_brain_AXT1POST_207_2070125.h5\n",
      "file_brain_AXT2_210_2100108.h5\n",
      "/folder/path/file_brain_AXT2_210_2100108.h5\n",
      "file_brain_AXT2_209_6001073.h5\n",
      "/folder/path/file_brain_AXT2_209_6001073.h5\n",
      "file_brain_AXT2_208_2080517.h5\n",
      "/folder/path/file_brain_AXT2_208_2080517.h5\n",
      "file_brain_AXFLAIR_200_6002625.h5\n",
      "/folder/path/file_brain_AXFLAIR_200_6002625.h5\n",
      "file_brain_AXFLAIR_210_6001507.h5\n",
      "/folder/path/file_brain_AXFLAIR_210_6001507.h5\n",
      "file_brain_AXT1PRE_200_6002443.h5\n",
      "/folder/path/file_brain_AXT1PRE_200_6002443.h5\n",
      "file_brain_AXT2_202_2020385.h5\n",
      "/folder/path/file_brain_AXT2_202_2020385.h5\n",
      "file_brain_AXT1POST_208_2080589.h5\n",
      "/folder/path/file_brain_AXT1POST_208_2080589.h5\n",
      "file_brain_AXFLAIR_210_6001874.h5\n",
      "/folder/path/file_brain_AXFLAIR_210_6001874.h5\n",
      "file_brain_AXT2_210_2100229.h5\n",
      "/folder/path/file_brain_AXT2_210_2100229.h5\n",
      "file_brain_AXT1POST_205_6000038.h5\n",
      "/folder/path/file_brain_AXT1POST_205_6000038.h5\n",
      "file_brain_AXT2_200_2000227.h5\n",
      "/folder/path/file_brain_AXT2_200_2000227.h5\n",
      "file_brain_AXT1POST_201_6002733.h5\n",
      "/folder/path/file_brain_AXT1POST_201_6002733.h5\n",
      "file_brain_AXT1PRE_206_6000199.h5\n",
      "/folder/path/file_brain_AXT1PRE_206_6000199.h5\n",
      "file_brain_AXT1POST_201_6002965.h5\n",
      "/folder/path/file_brain_AXT1POST_201_6002965.h5\n",
      "file_brain_AXT2_205_6000080.h5\n",
      "/folder/path/file_brain_AXT2_205_6000080.h5\n",
      "file_brain_AXT2_201_2010218.h5\n",
      "/folder/path/file_brain_AXT2_201_2010218.h5\n",
      "file_brain_AXT2_209_2090240.h5\n",
      "/folder/path/file_brain_AXT2_209_2090240.h5\n",
      "file_brain_AXT2_208_2080096.h5\n",
      "/folder/path/file_brain_AXT2_208_2080096.h5\n",
      "file_brain_AXT2_210_6001776.h5\n",
      "/folder/path/file_brain_AXT2_210_6001776.h5\n",
      "file_brain_AXT2_200_6002250.h5\n",
      "/folder/path/file_brain_AXT2_200_6002250.h5\n",
      "file_brain_AXT2_206_6000247.h5\n",
      "/folder/path/file_brain_AXT2_206_6000247.h5\n",
      "file_brain_AXT1POST_200_6002042.h5\n",
      "/folder/path/file_brain_AXT1POST_200_6002042.h5\n",
      "file_brain_AXT2_209_2090006.h5\n",
      "/folder/path/file_brain_AXT2_209_2090006.h5\n",
      "file_brain_AXT1POST_210_6001832.h5\n",
      "/folder/path/file_brain_AXT1POST_210_6001832.h5\n",
      "file_brain_AXT1POST_207_2070741.h5\n",
      "/folder/path/file_brain_AXT1POST_207_2070741.h5\n",
      "file_brain_AXT2_205_2050205.h5\n",
      "/folder/path/file_brain_AXT2_205_2050205.h5\n",
      "file_brain_AXT2_200_6002137.h5\n",
      "/folder/path/file_brain_AXT2_200_6002137.h5\n",
      "file_brain_AXT2_206_6000210.h5\n",
      "/folder/path/file_brain_AXT2_206_6000210.h5\n",
      "file_brain_AXT1POST_208_2080293.h5\n",
      "/folder/path/file_brain_AXT1POST_208_2080293.h5\n",
      "file_brain_AXT1POST_205_2050248.h5\n",
      "/folder/path/file_brain_AXT1POST_205_2050248.h5\n",
      "file_brain_AXT2_209_6001390.h5\n",
      "/folder/path/file_brain_AXT2_209_6001390.h5\n",
      "file_brain_AXT1PRE_201_6002726.h5\n",
      "/folder/path/file_brain_AXT1PRE_201_6002726.h5\n",
      "file_brain_AXT2_209_6001287.h5\n",
      "/folder/path/file_brain_AXT2_209_6001287.h5\n",
      "file_brain_AXT1POST_207_2070705.h5\n",
      "/folder/path/file_brain_AXT1POST_207_2070705.h5\n",
      "file_brain_AXT2_201_2010007.h5\n",
      "/folder/path/file_brain_AXT2_201_2010007.h5\n",
      "file_brain_AXT1POST_205_2050123.h5\n",
      "/folder/path/file_brain_AXT1POST_205_2050123.h5\n",
      "file_brain_AXT2_210_2100061.h5\n",
      "/folder/path/file_brain_AXT2_210_2100061.h5\n",
      "file_brain_AXT1POST_202_6000378.h5\n",
      "/folder/path/file_brain_AXT1POST_202_6000378.h5\n",
      "file_brain_AXT1POST_207_2070506.h5\n",
      "/folder/path/file_brain_AXT1POST_207_2070506.h5\n",
      "file_brain_AXT1POST_210_6001623.h5\n",
      "/folder/path/file_brain_AXT1POST_210_6001623.h5\n",
      "file_brain_AXT1POST_207_2070829.h5\n",
      "/folder/path/file_brain_AXT1POST_207_2070829.h5\n",
      "file_brain_AXT2_202_2020475.h5\n",
      "/folder/path/file_brain_AXT2_202_2020475.h5\n",
      "file_brain_AXT2_200_2000530.h5\n",
      "/folder/path/file_brain_AXT2_200_2000530.h5\n",
      "file_brain_AXFLAIR_201_6002921.h5\n",
      "/folder/path/file_brain_AXFLAIR_201_6002921.h5\n",
      "file_brain_AXT1POST_208_2080248.h5\n",
      "/folder/path/file_brain_AXT1POST_208_2080248.h5\n",
      "file_brain_AXT1_202_2020190.h5\n",
      "/folder/path/file_brain_AXT1_202_2020190.h5\n",
      "file_brain_AXT2_208_2080177.h5\n",
      "/folder/path/file_brain_AXT2_208_2080177.h5\n",
      "file_brain_AXT1_202_2020278.h5\n",
      "/folder/path/file_brain_AXT1_202_2020278.h5\n",
      "file_brain_AXT2_201_2010421.h5\n",
      "/folder/path/file_brain_AXT2_201_2010421.h5\n",
      "file_brain_AXT2_200_6002049.h5\n",
      "/folder/path/file_brain_AXT2_200_6002049.h5\n",
      "file_brain_AXFLAIR_202_6000485.h5\n",
      "/folder/path/file_brain_AXFLAIR_202_6000485.h5\n",
      "file_brain_AXT2_200_2000167.h5\n",
      "/folder/path/file_brain_AXT2_200_2000167.h5\n",
      "file_brain_AXT1POST_208_2080690.h5\n",
      "/folder/path/file_brain_AXT1POST_208_2080690.h5\n",
      "file_brain_AXT2_207_2070223.h5\n",
      "/folder/path/file_brain_AXT2_207_2070223.h5\n",
      "file_brain_AXT2_207_2070628.h5\n",
      "/folder/path/file_brain_AXT2_207_2070628.h5\n",
      "file_brain_AXFLAIR_200_6002451.h5\n",
      "/folder/path/file_brain_AXFLAIR_200_6002451.h5\n",
      "file_brain_AXT1_202_6000494.h5\n",
      "/folder/path/file_brain_AXT1_202_6000494.h5\n",
      "file_brain_AXT2_207_2070513.h5\n",
      "/folder/path/file_brain_AXT2_207_2070513.h5\n",
      "file_brain_AXT2_200_6002633.h5\n",
      "/folder/path/file_brain_AXT2_200_6002633.h5\n",
      "file_brain_AXT2_210_6001939.h5\n",
      "/folder/path/file_brain_AXT2_210_6001939.h5\n",
      "file_brain_AXT1PRE_210_6001831.h5\n",
      "/folder/path/file_brain_AXT1PRE_210_6001831.h5\n",
      "file_brain_AXT1PRE_210_6001834.h5\n",
      "/folder/path/file_brain_AXT1PRE_210_6001834.h5\n",
      "file_brain_AXT1POST_207_2070402.h5\n",
      "/folder/path/file_brain_AXT1POST_207_2070402.h5\n",
      "file_brain_AXT2_205_2050023.h5\n",
      "/folder/path/file_brain_AXT2_205_2050023.h5\n",
      "file_brain_AXT2_202_2020533.h5\n",
      "/folder/path/file_brain_AXT2_202_2020533.h5\n",
      "file_brain_AXT1POST_202_6000475.h5\n",
      "/folder/path/file_brain_AXT1POST_202_6000475.h5\n",
      "file_brain_AXT1POST_210_6001565.h5\n",
      "/folder/path/file_brain_AXT1POST_210_6001565.h5\n",
      "file_brain_AXT1POST_207_2070319.h5\n",
      "/folder/path/file_brain_AXT1POST_207_2070319.h5\n",
      "file_brain_AXT2_200_2000534.h5\n",
      "/folder/path/file_brain_AXT2_200_2000534.h5\n",
      "file_brain_AXT2_207_2070407.h5\n",
      "/folder/path/file_brain_AXT2_207_2070407.h5\n",
      "file_brain_AXT1POST_207_2070610.h5\n",
      "/folder/path/file_brain_AXT1POST_207_2070610.h5\n",
      "file_brain_AXT1POST_208_2080407.h5\n",
      "/folder/path/file_brain_AXT1POST_208_2080407.h5\n",
      "file_brain_AXT1PRE_200_6002215.h5\n",
      "/folder/path/file_brain_AXT1PRE_200_6002215.h5\n",
      "file_brain_AXT2_201_2010597.h5\n",
      "/folder/path/file_brain_AXT2_201_2010597.h5\n",
      "file_brain_AXT2_203_2030379.h5\n",
      "/folder/path/file_brain_AXT2_203_2030379.h5\n",
      "file_brain_AXT2_207_2070469.h5\n",
      "/folder/path/file_brain_AXT2_207_2070469.h5\n",
      "file_brain_AXT1_202_2020405.h5\n",
      "/folder/path/file_brain_AXT1_202_2020405.h5\n",
      "file_brain_AXT2_200_6002153.h5\n",
      "/folder/path/file_brain_AXT2_200_6002153.h5\n",
      "file_brain_AXT2_205_6000006.h5\n",
      "/folder/path/file_brain_AXT2_205_6000006.h5\n",
      "file_brain_AXT2_210_2100406.h5\n",
      "/folder/path/file_brain_AXT2_210_2100406.h5\n",
      "file_brain_AXT2_202_2020125.h5\n",
      "/folder/path/file_brain_AXT2_202_2020125.h5\n",
      "file_brain_AXT2_202_2020253.h5\n",
      "/folder/path/file_brain_AXT2_202_2020253.h5\n",
      "file_brain_AXT1_202_2020012.h5\n",
      "/folder/path/file_brain_AXT1_202_2020012.h5\n",
      "file_brain_AXT2_209_2090078.h5\n",
      "/folder/path/file_brain_AXT2_209_2090078.h5\n",
      "file_brain_AXT2_205_2050105.h5\n",
      "/folder/path/file_brain_AXT2_205_2050105.h5\n",
      "file_brain_AXT1POST_208_2080183.h5\n",
      "/folder/path/file_brain_AXT1POST_208_2080183.h5\n",
      "file_brain_AXFLAIR_202_6000444.h5\n",
      "/folder/path/file_brain_AXFLAIR_202_6000444.h5\n",
      "file_brain_AXT1POST_207_2070137.h5\n",
      "/folder/path/file_brain_AXT1POST_207_2070137.h5\n",
      "file_brain_AXT1POST_203_6000812.h5\n",
      "/folder/path/file_brain_AXT1POST_203_6000812.h5\n",
      "file_brain_AXT2_202_2020527.h5\n",
      "/folder/path/file_brain_AXT2_202_2020527.h5\n",
      "file_brain_AXT2_200_6002283.h5\n",
      "/folder/path/file_brain_AXT2_200_6002283.h5\n",
      "file_brain_AXT1POST_207_2070616.h5\n",
      "/folder/path/file_brain_AXT1POST_207_2070616.h5\n",
      "file_brain_AXT1POST_209_6001161.h5\n",
      "/folder/path/file_brain_AXT1POST_209_6001161.h5\n"
     ]
    },
    {
     "ename": "",
     "evalue": "",
     "output_type": "error",
     "traceback": [
      "\u001b[1;31mnotebook controller is DISPOSED. \n",
      "\u001b[1;31mView Jupyter <a href='command:jupyter.viewOutput'>log</a> for further details."
     ]
    },
    {
     "ename": "",
     "evalue": "",
     "output_type": "error",
     "traceback": [
      "\u001b[1;31mnotebook controller is DISPOSED. \n",
      "\u001b[1;31mView Jupyter <a href='command:jupyter.viewOutput'>log</a> for further details."
     ]
    },
    {
     "ename": "",
     "evalue": "",
     "output_type": "error",
     "traceback": [
      "\u001b[1;31mnotebook controller is DISPOSED. \n",
      "\u001b[1;31mView Jupyter <a href='command:jupyter.viewOutput'>log</a> for further details."
     ]
    }
   ],
   "source": [
    "from pathlib import Path\n",
    "\n",
    "folder_path = '/DATASERVER/MIC/SHARED/NYU_FastMRI/Preprocessed/multicoil_test/'\n",
    "files = Path(folder_path).glob('**/*')\n",
    "for file in files:\n",
    "    print(file.name)\n",
    "    print('/folder/path/'+file.name)\n"
   ]
  },
  {
   "cell_type": "code",
   "execution_count": null,
   "metadata": {},
   "outputs": [
    {
     "ename": "",
     "evalue": "",
     "output_type": "error",
     "traceback": [
      "\u001b[1;31mnotebook controller is DISPOSED. \n",
      "\u001b[1;31mView Jupyter <a href='command:jupyter.viewOutput'>log</a> for further details."
     ]
    },
    {
     "ename": "",
     "evalue": "",
     "output_type": "error",
     "traceback": [
      "\u001b[1;31mnotebook controller is DISPOSED. \n",
      "\u001b[1;31mView Jupyter <a href='command:jupyter.viewOutput'>log</a> for further details."
     ]
    },
    {
     "ename": "",
     "evalue": "",
     "output_type": "error",
     "traceback": [
      "\u001b[1;31mnotebook controller is DISPOSED. \n",
      "\u001b[1;31mView Jupyter <a href='command:jupyter.viewOutput'>log</a> for further details."
     ]
    }
   ],
   "source": []
  }
 ],
 "metadata": {
  "kernelspec": {
   "display_name": "DL_MRI_reconstruction",
   "language": "python",
   "name": "python3"
  },
  "language_info": {
   "codemirror_mode": {
    "name": "ipython",
    "version": 3
   },
   "file_extension": ".py",
   "mimetype": "text/x-python",
   "name": "python",
   "nbconvert_exporter": "python",
   "pygments_lexer": "ipython3",
   "version": "3.6.9"
  }
 },
 "nbformat": 4,
 "nbformat_minor": 2
}
