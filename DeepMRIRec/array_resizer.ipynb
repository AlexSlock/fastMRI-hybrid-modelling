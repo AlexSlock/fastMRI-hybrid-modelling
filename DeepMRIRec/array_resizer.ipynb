{
 "cells": [
  {
   "cell_type": "code",
   "execution_count": 2,
   "metadata": {},
   "outputs": [],
   "source": [
    "import numpy as np\n",
    "\n",
    "array = np.zeros((550,640,320,12))\n"
   ]
  },
  {
   "cell_type": "code",
   "execution_count": 3,
   "metadata": {},
   "outputs": [],
   "source": [
    "\n",
    "def select_slices(array, slice_index, total_slices):\n",
    "    # Ensure the array has 4 dimensions\n",
    "    if array.ndim != 4:\n",
    "        raise ValueError(\"Input array must be 4-dimensional\")\n",
    "        \n",
    "    # Ensure total_slices is not greater than the size of the first dimension\n",
    "    if total_slices > array.shape[0]:\n",
    "        raise ValueError(\"Total slices must be less than or equal to the size of the first dimension of the input array\")\n",
    "    \n",
    "    # All slices before slice_index are definitely kept\n",
    "    slices_to_keep = array[:slice_index, :, :, :]\n",
    "    \n",
    "    # Only select slices beyond slice_index if total_slices is greater than slice_index\n",
    "    if total_slices > slice_index:\n",
    "        slices_to_select = array[slice_index:, :, :, :]\n",
    "        \n",
    "        # Randomly select the remaining slices to reach total_slices\n",
    "        indices = np.random.choice(slices_to_select.shape[0], total_slices - slice_index, replace=False)\n",
    "        slices_to_add = slices_to_select[indices, :, :, :]\n",
    "        \n",
    "        # Concatenate the slices to keep and the newly selected slices\n",
    "        output_array = np.concatenate((slices_to_keep, slices_to_add), axis=0)\n",
    "    else:\n",
    "        output_array = slices_to_keep\n",
    "\n",
    "    return output_array\n"
   ]
  },
  {
   "cell_type": "code",
   "execution_count": 4,
   "metadata": {},
   "outputs": [],
   "source": [
    "output = select_slices(array, 5*20, 300)\n"
   ]
  }
 ],
 "metadata": {
  "kernelspec": {
   "display_name": "DL_MRI_reconstruction",
   "language": "python",
   "name": "python3"
  },
  "language_info": {
   "codemirror_mode": {
    "name": "ipython",
    "version": 3
   },
   "file_extension": ".py",
   "mimetype": "text/x-python",
   "name": "python",
   "nbconvert_exporter": "python",
   "pygments_lexer": "ipython3",
   "version": "3.6.15"
  }
 },
 "nbformat": 4,
 "nbformat_minor": 2
}
