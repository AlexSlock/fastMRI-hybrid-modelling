{
 "cells": [
  {
   "cell_type": "code",
   "execution_count": null,
   "id": "8bf7e9af",
   "metadata": {},
   "outputs": [
    {
     "name": "stdout",
     "output_type": "stream",
     "text": [
      "/DATASERVER/MIC/GENERAL/STUDENTS/aslock2/Preprocessed_CS/multicoil_test/file1001533_cs.npy\n",
      "Original shape: (640, 372)\n",
      "cs_data shape: (35, 640, 640)\n",
      "Initialized image shape: torch.Size([35, 640, 372, 2])\n",
      "file1001533_cs.npy\n",
      "file1001533.h5\n"
     ]
    }
   ],
   "source": [
    "import xml.etree.ElementTree as etree\n",
    "from argparse import ArgumentParser\n",
    "from pathlib import Path\n",
    "import numpy as np\n",
    "\n",
    "import h5py\n",
    "from tqdm import tqdm\n",
    "\n",
    "import fastmri\n",
    "from fastmri.data import transforms\n",
    "from fastmri.data.mri_data import et_query\n",
    "import torch\n",
    "import torch.nn.functional as F\n",
    "from matplotlib import pyplot as plt\n",
    "\n",
    "# ADDED (copied from preprocessed_transforms.py)\n",
    "def downscale_bart_output(img_torch: torch.Tensor, target_size: tuple) -> torch.Tensor:\n",
    "    \"\"\"\n",
    "    Downscale a BART output image (real or complex) from 640x640 to target_size.\n",
    "    Assumes the input is a 2D complex-valued TENSOR of shape or (H, W, 2) = output of T.to_tensor\n",
    "    \"\"\"\n",
    "    img_torch = img_torch.permute(2, 0, 1).unsqueeze(0)  # -> (1, 2, H, W)\n",
    "\n",
    "    # Resize to 320x3taget_shape 20 using bilinear interpolation\n",
    "    img_resized = F.interpolate(img_torch, target_size, mode='bilinear', align_corners=False)\n",
    "    #img_resized = F.interpolate(img_torch, target_size, mode='area')\n",
    "\n",
    "     # Convert back to (H, W, 2)\n",
    "    img_resized = img_resized.squeeze(0).permute(1, 2, 0)  # -> (H, W, 2)\n",
    "\n",
    "    return img_resized\n",
    "\n",
    "def save_zero_filled(data_dir, out_dir):\n",
    "    '''\n",
    "    Takes CS reconstructions in preprocessed h5 files from data_dir\n",
    "    - crops to size from encodedSpace?!\n",
    "    - takes absolute value\n",
    "    and saves as seperate h5 files with only classical CS reconstruction in out_dir\n",
    "    '''\n",
    "    reconstructions = {}\n",
    "\n",
    "    for fname in list(data_dir.glob(\"*.npy\")):\n",
    "        print(fname)\n",
    "        cs_data = np.load(fname)\n",
    "        ##### ADDED: find matching h5 file\n",
    "        tgt_file = None\n",
    "        target_paths = [Path(\"/DATASERVER/MIC/SHARED/NYU_FastMRI/Preprocessed/multicoil_test_full/\"),\n",
    "                            Path(\"/DATASERVER/MIC/SHARED/NYU_FastMRI/Knee/multicoil_val/\")]\n",
    "        for target_dir in target_paths:\n",
    "            candidate = target_dir / fname.name.replace(\"_cs.npy\", \".h5\")\n",
    "            if candidate.exists():\n",
    "                tgt_file = candidate\n",
    "                break\n",
    "        assert tgt_file is not None, f\"Target file not found for {fname.name}\"\n",
    "\n",
    "\n",
    "        with h5py.File(tgt_file, \"r\") as hf:\n",
    "            et_root = etree.fromstring(hf[\"ismrmrd_header\"][()])\n",
    "            #image = transforms.to_tensor(hf[\"cs_data\"][()])\n",
    "            orig_shape = (hf[\"kspace\"][0].shape[1], hf[\"kspace\"][0].shape[2])\n",
    "            print(f\"Original shape: {orig_shape}\")\n",
    "            print(f\"cs_data shape: {cs_data.shape}\")\n",
    "            # initialize zeros to hold images of shape (orig°shape[0], orig_shape[1], 2) for each slice of kspace\n",
    "            image = torch.zeros((cs_data.shape[0], orig_shape[0], orig_shape[1], 2))\n",
    "            print(f\"Initialized image shape: {image.shape}\")\n",
    "\n",
    "            #### ADDED: reshape cs_data(for every slice)\n",
    "            for slice in range(cs_data.shape[0]):\n",
    "                cs_data_slice = transforms.to_tensor(cs_data[slice])\n",
    "                image[slice]= (downscale_bart_output(cs_data_slice, orig_shape))\n",
    "\n",
    "            # extract target image width, height from ismrmrd header\n",
    "            enc = [\"encoding\", \"encodedSpace\", \"matrixSize\"]        ## MISTAKE HERE??: should crop to \"reconSpace\", not encodedSpace\n",
    "            crop_size = (\n",
    "                int(et_query(et_root, enc + [\"x\"])),\n",
    "                int(et_query(et_root, enc + [\"y\"])),\n",
    "            )\n",
    "\n",
    "            # check for FLAIR 203\n",
    "            if image.shape[-2] < crop_size[1]:\n",
    "                crop_size = (image.shape[-2], image.shape[-2])\n",
    "\n",
    "            # crop input image\n",
    "            image = transforms.complex_center_crop(image, crop_size)\n",
    "\n",
    "            # absolute value\n",
    "            image = fastmri.complex_abs(image)\n",
    "\n",
    "            reconstructions[fname.name] = image # Dictionary mapping input filenames to corresponding reconstructions\n",
    "\n",
    "            # plot\n",
    "            # plt.imshow(image[25], cmap='gray')\n",
    "            # print(f\"Image shape after processing: {image.shape}\")\n",
    "\n",
    "        break\n",
    "\n",
    "data_dir = \"/DATASERVER/MIC/GENERAL/STUDENTS/aslock2/Preprocessed_CS/multicoil_test/\"\n",
    "save_zero_filled(Path(data_dir), None)"
   ]
  },
  {
   "cell_type": "code",
   "execution_count": 13,
   "id": "aca4561d",
   "metadata": {},
   "outputs": [
    {
     "name": "stdout",
     "output_type": "stream",
     "text": [
      "Found 380 CS files in output path.\n",
      "Processing file: file_brain_AXT2_202_2020356.h5\n",
      "Keys in the file: ['reconstruction']\n",
      "'ismrmrd_header' not found in the file.\n",
      "Shape of 'reconstruction': (16, 640, 320)\n"
     ]
    },
    {
     "data": {
      "image/png": "[encoded data removed]",
      "text/plain": [
       "<Figure size 432x288 with 1 Axes>"
      ]
     },
     "metadata": {
      "needs_background": "light"
     },
     "output_type": "display_data"
    }
   ],
   "source": [
    "ouput_path = Path(\"/DATASERVER/MIC/GENERAL/STUDENTS/aslock2/Results/CS/\")\n",
    "# Inspect .h5 files in output path\n",
    "cs_files = list(ouput_path.glob(\"*.h5\"))\n",
    "print(f\"Found {len(cs_files)} CS files in output path.\")\n",
    "for cs_file in cs_files:\n",
    "    print(f\"Processing file: {cs_file.name}\")\n",
    "    with h5py.File(cs_file, \"r\") as hf:\n",
    "        # Check keys in the file\n",
    "        print(\"Keys in the file:\", list(hf.keys()))\n",
    "        # Check if 'ismrmrd_header' exists\n",
    "        if 'ismrmrd_header' in hf:\n",
    "            et_root = etree.fromstring(hf['ismrmrd_header'][()])\n",
    "            print(\"ISMRMRD header found.\")\n",
    "            # Extract and print some information from the header\n",
    "            encoding = et_query(et_root, [\"encoding\", \"encodedSpace\", \"matrixSize\"])\n",
    "            print(f\"Encoded space matrix size: {encoding}\")\n",
    "        else:\n",
    "            print(\"'ismrmrd_header' not found in the file.\")\n",
    " \n",
    "        # plot \"reconstruction\" if it exists\n",
    "        if 'reconstruction' in hf:\n",
    "            reconstruction = hf['reconstruction'][()]\n",
    "            print(\"Shape of 'reconstruction':\", reconstruction.shape)\n",
    "            plt.imshow(np.abs(reconstruction[0]), cmap='gray')\n",
    "            plt.title(f\"Reconstruction from {cs_file.name}\")\n",
    "            plt.show()\n",
    "        else:\n",
    "            print(\"'reconstruction' not found in the file.\")\n",
    "\n",
    "    break  # Remove this break to process all files\n"
   ]
  }
 ],
 "metadata": {
  "kernelspec": {
   "display_name": "DL_MRI_reconstruction_baselines_2",
   "language": "python",
   "name": "python3"
  },
  "language_info": {
   "codemirror_mode": {
    "name": "ipython",
    "version": 3
   },
   "file_extension": ".py",
   "mimetype": "text/x-python",
   "name": "python",
   "nbconvert_exporter": "python",
   "pygments_lexer": "ipython3",
   "version": "3.6.9"
  }
 },
 "nbformat": 4,
 "nbformat_minor": 5
}
