{
 "cells": [
  {
   "cell_type": "code",
   "execution_count": 1,
   "metadata": {},
   "outputs": [],
   "source": [
    "import numpy as np\n",
    "import glob\n",
    "import pickle\n"
   ]
  },
  {
   "cell_type": "code",
   "execution_count": 17,
   "metadata": {},
   "outputs": [],
   "source": [
    "path_to_save_mri_data = '/usr/local/micapollo01/MIC/DATA/STUDENTS/mvhave7/Results/Preprocessing/mri/'\n",
    "path_to_save_grappa_data = '/usr/local/micapollo01/MIC/DATA/STUDENTS/mvhave7/Results/Preprocessing/grappa/'\n",
    "\n",
    "\n",
    "file_paths_train = sorted(glob.glob(path_to_save_mri_data+\"training_data_GrappaNet_16_coils_batch_*.npy\"))[50]\n",
    "file_paths_train_GT = sorted(glob.glob(path_to_save_mri_data+\"training_data_GT_GrappaNet_16_colis_batch_*.npy\"))[50]\n",
    "file_paths_val = sorted(glob.glob(path_to_save_mri_data+\"validation_data_GrappaNet_16_coils_batch_*.npy\"))[50]\n",
    "file_paths_val_GT = sorted(glob.glob(path_to_save_mri_data+\"validation_data_GT_GrappaNet_16_colis_batch_*.npy\"))[50]\n",
    "file_paths_grappa_indx_train = sorted(glob.glob(path_to_save_grappa_data+\"grappa_train_indx_GrappaNet_16_coils_batch_*.npy\"))[50]\n",
    "file_paths_grappa_indx_val = sorted(glob.glob(path_to_save_grappa_data+\"grappa_test_indx_GrappaNet_16_colis_batch_*.npy\"))[50]\n",
    "file_paths_grappa_wt = sorted(glob.glob(path_to_save_grappa_data+\"grappa_wt_batch_*.pickle\"))[50]\n",
    "file_paths_grappa_p = sorted(glob.glob(path_to_save_grappa_data+\"grappa_p_batch_*.pickle\"))[50]\n"
   ]
  },
  {
   "cell_type": "code",
   "execution_count": 18,
   "metadata": {},
   "outputs": [],
   "source": [
    "x_train = np.load(file_paths_train)\n",
    "y_train = np.load(file_paths_train_GT)\n",
    "grappa_train_indx = np.load(file_paths_grappa_indx_train)\n",
    "with open(file_paths_grappa_wt, 'rb') as handle:\n",
    "    grappa_wt = pickle.load(handle)\n",
    "with open(file_paths_grappa_p, 'rb') as handle:\n",
    "    grappa_p = pickle.load(handle)\n",
    "x_test = np.load(file_paths_val)\n",
    "y_test = np.load(file_paths_val_GT)\n",
    "grappa_test_indx = np.load(file_paths_grappa_indx_val)\n",
    "with open(file_paths_grappa_wt, 'rb') as handle:\n",
    "    grappa_wt = pickle.load(handle)\n",
    "with open(file_paths_grappa_p, 'rb') as handle:\n",
    "    grappa_p = pickle.load(handle)\n"
   ]
  },
  {
   "cell_type": "code",
   "execution_count": 19,
   "metadata": {},
   "outputs": [
    {
     "name": "stdout",
     "output_type": "stream",
     "text": [
      "float32\n",
      "float32\n",
      "int64\n",
      "int64\n",
      "float32\n",
      "float32\n"
     ]
    }
   ],
   "source": [
    "print(x_train.dtype)\n",
    "print(y_train.dtype)\n",
    "print(grappa_train_indx.dtype)\n",
    "print(grappa_test_indx.dtype)\n",
    "print(x_test.dtype)\n",
    "print(y_test.dtype)\n"
   ]
  },
  {
   "cell_type": "code",
   "execution_count": 20,
   "metadata": {},
   "outputs": [
    {
     "name": "stdout",
     "output_type": "stream",
     "text": [
      "(138, 640, 320, 32)\n",
      "(138, 640, 320)\n",
      "(138,)\n",
      "(16,)\n",
      "(16, 640, 320, 32)\n",
      "(16, 640, 320)\n"
     ]
    }
   ],
   "source": [
    "print(x_train.shape)\n",
    "print(y_train.shape)\n",
    "print(grappa_train_indx.shape)\n",
    "print(grappa_test_indx.shape)\n",
    "print(x_test.shape)\n",
    "print(y_test.shape)\n"
   ]
  },
  {
   "cell_type": "code",
   "execution_count": 21,
   "metadata": {},
   "outputs": [
    {
     "name": "stdout",
     "output_type": "stream",
     "text": [
      "<class 'numpy.ndarray'>\n",
      "<class 'numpy.ndarray'>\n",
      "<class 'numpy.ndarray'>\n",
      "<class 'numpy.ndarray'>\n",
      "<class 'numpy.ndarray'>\n",
      "<class 'numpy.ndarray'>\n",
      "<class 'list'>\n",
      "<class 'list'>\n"
     ]
    }
   ],
   "source": [
    "print(type(x_train))\n",
    "print(type(y_train))\n",
    "print(type(grappa_train_indx))\n",
    "print(type(grappa_test_indx))\n",
    "print(type(x_test))\n",
    "print(type(y_test))\n",
    "print(type(grappa_wt))\n",
    "print(type(grappa_p))\n"
   ]
  },
  {
   "cell_type": "code",
   "execution_count": null,
   "metadata": {},
   "outputs": [],
   "source": []
  }
 ],
 "metadata": {
  "kernelspec": {
   "display_name": "DL_MRI_reconstruction",
   "language": "python",
   "name": "python3"
  },
  "language_info": {
   "codemirror_mode": {
    "name": "ipython",
    "version": 3
   },
   "file_extension": ".py",
   "mimetype": "text/x-python",
   "name": "python",
   "nbconvert_exporter": "python",
   "pygments_lexer": "ipython3",
   "version": "3.6.15"
  }
 },
 "nbformat": 4,
 "nbformat_minor": 2
}
