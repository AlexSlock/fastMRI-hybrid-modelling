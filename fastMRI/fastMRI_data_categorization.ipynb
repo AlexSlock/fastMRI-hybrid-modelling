{
 "cells": [
  {
   "cell_type": "code",
   "execution_count": 1,
   "metadata": {},
   "outputs": [],
   "source": [
    "%matplotlib inline\n",
    "\n",
    "import os\n",
    "import h5py\n",
    "import numpy as np\n",
    "from matplotlib import pyplot as plt\n"
   ]
  },
  {
   "cell_type": "code",
   "execution_count": 25,
   "metadata": {},
   "outputs": [],
   "source": [
    "download_path = '/DATASERVER/MIC/SHARED/NYU_FastMRI/Preprocessed/'\n",
    "train_path = os.path.join(download_path,'multicoil_train')\n",
    "validation_path = os.path.join(download_path,'multicoil_val')\n",
    "test_path = os.path.join(download_path,'multicoil_test')\n",
    "fully_sampled_test_path = os.path.join(download_path,'multicoil_test_full')"
   ]
  },
  {
   "cell_type": "markdown",
   "metadata": {},
   "source": [
    "Explore generalized properties of the data using all training files"
   ]
  },
  {
   "cell_type": "code",
   "execution_count": 26,
   "metadata": {},
   "outputs": [],
   "source": [
    "from pathlib import Path\n",
    "\n",
    "# Cluster the training data based on number of coils used\n",
    "# TAKES A LONG TIME TO RUN(113min): LOAD IF POSSIBLE\n",
    "clustered_data = {}\n",
    "files = Path(train_path).glob('**/*')\n",
    "\n",
    "for file in files:\n",
    "    hf_loop = h5py.File(file)\n",
    "    shape = hf_loop['kspace'][()].shape\n",
    "    num_coils = shape[1]\n",
    "    if num_coils not in clustered_data:\n",
    "       clustered_data[num_coils] = [file]\n",
    "    else:\n",
    "       clustered_data[num_coils].append(file)\n"
   ]
  },
  {
   "cell_type": "code",
   "execution_count": null,
   "metadata": {},
   "outputs": [],
   "source": [
    "# Save dictionary to .npy file\n",
    "np.save(\"/DATASERVER/MIC/GENERAL/STUDENTS/aslock2/Results/exploration/coil_clustered_fastmri_data.npy\", clustered_data)"
   ]
  },
  {
   "cell_type": "code",
   "execution_count": 27,
   "metadata": {},
   "outputs": [
    {
     "name": "stdout",
     "output_type": "stream",
     "text": [
      "()\n"
     ]
    }
   ],
   "source": [
    "\n",
    "# To load:\n",
    "clustered_data = np.load(\"/DATASERVER/MIC/GENERAL/STUDENTS/aslock2/Results/exploration/coil_clustered_fastmri_data.npy\", allow_pickle=True)\n",
    "clustered_data = clustered_data.item()\n",
    "print(np.shape(clustered_data))"
   ]
  },
  {
   "cell_type": "code",
   "execution_count": 30,
   "metadata": {},
   "outputs": [
    {
     "name": "stdout",
     "output_type": "stream",
     "text": [
      "Number of coils:4\n",
      "Number of scans:1212\n",
      "Number of coils:12\n",
      "Number of scans:244\n",
      "Number of coils:16\n",
      "Number of scans:1430\n",
      "Number of coils:20\n",
      "Number of scans:1170\n",
      "Number of coils:14\n",
      "Number of scans:263\n",
      "Number of coils:6\n",
      "Number of scans:61\n",
      "Number of coils:5\n",
      "Number of scans:22\n",
      "Number of coils:8\n",
      "Number of scans:10\n",
      "Number of coils:10\n",
      "Number of scans:3\n",
      "Number of coils:22\n",
      "Number of scans:1\n",
      "Number of coils:18\n",
      "Number of scans:26\n",
      "Number of coils:2\n",
      "Number of scans:7\n",
      "Number of coils:24\n",
      "Number of scans:7\n",
      "Number of coils:28\n",
      "Number of scans:2\n"
     ]
    }
   ],
   "source": [
    "for key, list in dict(clustered_data).items():\n",
    "    print('Number of coils:'+str(key))\n",
    "    print('Number of scans:'+str(len(list)))\n",
    "\n",
    "# We can see that the most common number of coils are (in descending order) 16, 4 and 20"
   ]
  },
  {
   "cell_type": "code",
   "execution_count": 31,
   "metadata": {},
   "outputs": [],
   "source": [
    "# Cluster the 16-coil training data based on slice dimensions, as the 16-coil data corresponds to the most scans\n",
    "clustered_data_2 = {}\n",
    "for file in clustered_data[16]:\n",
    "    hf_loop = h5py.File(file)\n",
    "    shape = hf_loop['kspace'][()].shape\n",
    "    slice_height = shape[2]\n",
    "    slice_width = shape[3]\n",
    "    key = (slice_height,slice_width)\n",
    "    if key not in clustered_data_2:\n",
    "        clustered_data_2[key] = [file]\n",
    "    else:\n",
    "        clustered_data_2[key].append(file)\n"
   ]
  },
  {
   "cell_type": "code",
   "execution_count": 32,
   "metadata": {},
   "outputs": [],
   "source": [
    "# Save dictionary to .npy file\n",
    "np.save(\"/DATASERVER/MIC/GENERAL/STUDENTS/aslock2/Results/exploration/16coil_slice_size_clustered_fastmri_data.npy\", clustered_data_2)"
   ]
  },
  {
   "cell_type": "code",
   "execution_count": 33,
   "metadata": {},
   "outputs": [],
   "source": [
    "# To load:\n",
    "clustered_data_2 = np.load(\"/DATASERVER/MIC/GENERAL/STUDENTS/aslock2/Results/exploration/16coil_slice_size_clustered_fastmri_data.npy\", allow_pickle=True)\n",
    "clustered_data_2 = clustered_data_2.item()"
   ]
  },
  {
   "cell_type": "code",
   "execution_count": 34,
   "metadata": {},
   "outputs": [
    {
     "name": "stdout",
     "output_type": "stream",
     "text": [
      "Slice dimensions:(640, 320)\n",
      "Number of scans:723\n",
      "Slice dimensions:(768, 396)\n",
      "Number of scans:629\n",
      "Slice dimensions:(640, 272)\n",
      "Number of scans:25\n",
      "Slice dimensions:(640, 264)\n",
      "Number of scans:27\n",
      "Slice dimensions:(640, 262)\n",
      "Number of scans:2\n",
      "Slice dimensions:(768, 324)\n",
      "Number of scans:4\n",
      "Slice dimensions:(512, 234)\n",
      "Number of scans:4\n",
      "Slice dimensions:(768, 342)\n",
      "Number of scans:2\n",
      "Slice dimensions:(640, 260)\n",
      "Number of scans:5\n",
      "Slice dimensions:(640, 312)\n",
      "Number of scans:1\n",
      "Slice dimensions:(512, 214)\n",
      "Number of scans:3\n",
      "Slice dimensions:(640, 280)\n",
      "Number of scans:1\n",
      "Slice dimensions:(512, 320)\n",
      "Number of scans:1\n",
      "Slice dimensions:(640, 274)\n",
      "Number of scans:1\n",
      "Slice dimensions:(512, 256)\n",
      "Number of scans:1\n",
      "Slice dimensions:(640, 332)\n",
      "Number of scans:1\n"
     ]
    }
   ],
   "source": [
    "for key, list in clustered_data_2.items():\n",
    "    print('Slice dimensions:'+str(key))\n",
    "    print('Number of scans:'+str(len(list)))\n"
   ]
  },
  {
   "cell_type": "code",
   "execution_count": 35,
   "metadata": {},
   "outputs": [],
   "source": [
    "count_AXFLAIR = 0\n",
    "count_AXT1 = 0\n",
    "count_AXT2 = 0\n",
    "count_others = 0\n",
    "\n",
    "for filename in clustered_data_2[(640,320)]:\n",
    "    filename = str(filename)\n",
    "    if 'AXFLAIR' in filename:\n",
    "        count_AXFLAIR += 1\n",
    "    elif 'AXT1' in filename:\n",
    "        count_AXT1 += 1\n",
    "    elif 'AXT2' in filename:\n",
    "        count_AXT2 += 1\n",
    "    else:\n",
    "        count_others += 1\n"
   ]
  },
  {
   "cell_type": "code",
   "execution_count": 36,
   "metadata": {},
   "outputs": [
    {
     "name": "stdout",
     "output_type": "stream",
     "text": [
      "AXFLAIR: 94\n",
      "AXT1: 406\n",
      "AXT2: 223\n",
      "Others: 0\n"
     ]
    }
   ],
   "source": [
    "print(f\"AXFLAIR: {count_AXFLAIR}\")\n",
    "print(f\"AXT1: {count_AXT1}\")\n",
    "print(f\"AXT2: {count_AXT2}\")\n",
    "print(f\"Others: {count_others}\")\n"
   ]
  },
  {
   "cell_type": "code",
   "execution_count": 37,
   "metadata": {},
   "outputs": [],
   "source": [
    "count_AXFLAIR = 0\n",
    "count_AXT1 = 0\n",
    "count_AXT2 = 0\n",
    "count_others = 0\n",
    "\n",
    "for filename in clustered_data_2[(640,320)][:70]:\n",
    "    filename = str(filename)\n",
    "    if 'AXFLAIR' in filename:\n",
    "        count_AXFLAIR += 1\n",
    "    elif 'AXT1' in filename:\n",
    "        count_AXT1 += 1\n",
    "    elif 'AXT2' in filename:\n",
    "        count_AXT2 += 1\n",
    "    else:\n",
    "        count_others += 1"
   ]
  },
  {
   "cell_type": "code",
   "execution_count": 38,
   "metadata": {},
   "outputs": [
    {
     "name": "stdout",
     "output_type": "stream",
     "text": [
      "AXFLAIR: 10\n",
      "AXT1: 44\n",
      "AXT2: 16\n",
      "Others: 0\n"
     ]
    }
   ],
   "source": [
    "print(f\"AXFLAIR: {count_AXFLAIR}\")\n",
    "print(f\"AXT1: {count_AXT1}\")\n",
    "print(f\"AXT2: {count_AXT2}\")\n",
    "print(f\"Others: {count_others}\")\n"
   ]
  },
  {
   "cell_type": "code",
   "execution_count": 39,
   "metadata": {},
   "outputs": [
    {
     "name": "stdout",
     "output_type": "stream",
     "text": [
      "/DATASERVER/MIC/SHARED/NYU_FastMRI/Preprocessed/multicoil_train/file_brain_AXT1POST_210_6001620.h5\n",
      "/DATASERVER/MIC/SHARED/NYU_FastMRI/Preprocessed/multicoil_train/file_brain_AXT1PRE_205_6000021.h5\n",
      "/DATASERVER/MIC/SHARED/NYU_FastMRI/Preprocessed/multicoil_train/file_brain_AXT2_202_2020162.h5\n",
      "/DATASERVER/MIC/SHARED/NYU_FastMRI/Preprocessed/multicoil_train/file_brain_AXT1POST_202_6000281.h5\n",
      "/DATASERVER/MIC/SHARED/NYU_FastMRI/Preprocessed/multicoil_train/file_brain_AXT1POST_200_6001969.h5\n",
      "/DATASERVER/MIC/SHARED/NYU_FastMRI/Preprocessed/multicoil_train/file_brain_AXT1POST_205_2050055.h5\n",
      "/DATASERVER/MIC/SHARED/NYU_FastMRI/Preprocessed/multicoil_train/file_brain_AXT2_202_2020467.h5\n",
      "/DATASERVER/MIC/SHARED/NYU_FastMRI/Preprocessed/multicoil_train/file_brain_AXT2_205_6000061.h5\n",
      "/DATASERVER/MIC/SHARED/NYU_FastMRI/Preprocessed/multicoil_train/file_brain_AXT2_202_2020578.h5\n",
      "/DATASERVER/MIC/SHARED/NYU_FastMRI/Preprocessed/multicoil_train/file_brain_AXT1POST_205_2050233.h5\n",
      "/DATASERVER/MIC/SHARED/NYU_FastMRI/Preprocessed/multicoil_train/file_brain_AXT1POST_202_6000588.h5\n",
      "/DATASERVER/MIC/SHARED/NYU_FastMRI/Preprocessed/multicoil_train/file_brain_AXT2_202_2020416.h5\n",
      "/DATASERVER/MIC/SHARED/NYU_FastMRI/Preprocessed/multicoil_train/file_brain_AXT1POST_205_6000145.h5\n",
      "/DATASERVER/MIC/SHARED/NYU_FastMRI/Preprocessed/multicoil_train/file_brain_AXT1POST_201_6002827.h5\n",
      "/DATASERVER/MIC/SHARED/NYU_FastMRI/Preprocessed/multicoil_train/file_brain_AXT1POST_200_6002256.h5\n",
      "/DATASERVER/MIC/SHARED/NYU_FastMRI/Preprocessed/multicoil_train/file_brain_AXT1_206_6000228.h5\n",
      "/DATASERVER/MIC/SHARED/NYU_FastMRI/Preprocessed/multicoil_train/file_brain_AXT1_202_2020064.h5\n",
      "/DATASERVER/MIC/SHARED/NYU_FastMRI/Preprocessed/multicoil_train/file_brain_AXT2_205_2050130.h5\n",
      "/DATASERVER/MIC/SHARED/NYU_FastMRI/Preprocessed/multicoil_train/file_brain_AXT1PRE_200_6002076.h5\n",
      "/DATASERVER/MIC/SHARED/NYU_FastMRI/Preprocessed/multicoil_train/file_brain_AXT1PRE_210_6001684.h5\n",
      "/DATASERVER/MIC/SHARED/NYU_FastMRI/Preprocessed/multicoil_train/file_brain_AXT1POST_210_6001693.h5\n",
      "/DATASERVER/MIC/SHARED/NYU_FastMRI/Preprocessed/multicoil_train/file_brain_AXT1POST_200_6002252.h5\n",
      "/DATASERVER/MIC/SHARED/NYU_FastMRI/Preprocessed/multicoil_train/file_brain_AXT1POST_205_6000102.h5\n",
      "/DATASERVER/MIC/SHARED/NYU_FastMRI/Preprocessed/multicoil_train/file_brain_AXFLAIR_209_6001346.h5\n",
      "/DATASERVER/MIC/SHARED/NYU_FastMRI/Preprocessed/multicoil_train/file_brain_AXT1POST_210_6001841.h5\n",
      "/DATASERVER/MIC/SHARED/NYU_FastMRI/Preprocessed/multicoil_train/file_brain_AXT1_202_2020584.h5\n",
      "/DATASERVER/MIC/SHARED/NYU_FastMRI/Preprocessed/multicoil_train/file_brain_AXT1POST_200_6002004.h5\n",
      "/DATASERVER/MIC/SHARED/NYU_FastMRI/Preprocessed/multicoil_train/file_brain_AXT1PRE_210_6001800.h5\n",
      "/DATASERVER/MIC/SHARED/NYU_FastMRI/Preprocessed/multicoil_train/file_brain_AXFLAIR_210_6001897.h5\n",
      "/DATASERVER/MIC/SHARED/NYU_FastMRI/Preprocessed/multicoil_train/file_brain_AXT1POST_210_6001592.h5\n",
      "/DATASERVER/MIC/SHARED/NYU_FastMRI/Preprocessed/multicoil_train/file_brain_AXT1POST_210_6001866.h5\n",
      "/DATASERVER/MIC/SHARED/NYU_FastMRI/Preprocessed/multicoil_train/file_brain_AXT1_202_2020017.h5\n",
      "/DATASERVER/MIC/SHARED/NYU_FastMRI/Preprocessed/multicoil_train/file_brain_AXT1POST_206_6000235.h5\n",
      "/DATASERVER/MIC/SHARED/NYU_FastMRI/Preprocessed/multicoil_train/file_brain_AXT2_206_2060065.h5\n",
      "/DATASERVER/MIC/SHARED/NYU_FastMRI/Preprocessed/multicoil_train/file_brain_AXFLAIR_201_6003012.h5\n",
      "/DATASERVER/MIC/SHARED/NYU_FastMRI/Preprocessed/multicoil_train/file_brain_AXT1_201_6002826.h5\n",
      "/DATASERVER/MIC/SHARED/NYU_FastMRI/Preprocessed/multicoil_train/file_brain_AXT2_205_2050224.h5\n",
      "/DATASERVER/MIC/SHARED/NYU_FastMRI/Preprocessed/multicoil_train/file_brain_AXT1POST_200_6002407.h5\n",
      "/DATASERVER/MIC/SHARED/NYU_FastMRI/Preprocessed/multicoil_train/file_brain_AXT2_205_2050162.h5\n",
      "/DATASERVER/MIC/SHARED/NYU_FastMRI/Preprocessed/multicoil_train/file_brain_AXT2_206_2060086.h5\n",
      "/DATASERVER/MIC/SHARED/NYU_FastMRI/Preprocessed/multicoil_train/file_brain_AXFLAIR_201_6002962.h5\n",
      "/DATASERVER/MIC/SHARED/NYU_FastMRI/Preprocessed/multicoil_train/file_brain_AXT1POST_205_2050082.h5\n",
      "/DATASERVER/MIC/SHARED/NYU_FastMRI/Preprocessed/multicoil_train/file_brain_AXT1_202_2020547.h5\n",
      "/DATASERVER/MIC/SHARED/NYU_FastMRI/Preprocessed/multicoil_train/file_brain_AXT1POST_201_6002673.h5\n",
      "/DATASERVER/MIC/SHARED/NYU_FastMRI/Preprocessed/multicoil_train/file_brain_AXT2_205_6000056.h5\n",
      "/DATASERVER/MIC/SHARED/NYU_FastMRI/Preprocessed/multicoil_train/file_brain_AXFLAIR_210_6001489.h5\n",
      "/DATASERVER/MIC/SHARED/NYU_FastMRI/Preprocessed/multicoil_train/file_brain_AXFLAIR_210_6001905.h5\n",
      "/DATASERVER/MIC/SHARED/NYU_FastMRI/Preprocessed/multicoil_train/file_brain_AXFLAIR_200_6002493.h5\n",
      "/DATASERVER/MIC/SHARED/NYU_FastMRI/Preprocessed/multicoil_train/file_brain_AXT2_206_6000225.h5\n",
      "/DATASERVER/MIC/SHARED/NYU_FastMRI/Preprocessed/multicoil_train/file_brain_AXT1_202_2020019.h5\n",
      "/DATASERVER/MIC/SHARED/NYU_FastMRI/Preprocessed/multicoil_train/file_brain_AXT1PRE_205_6000114.h5\n",
      "/DATASERVER/MIC/SHARED/NYU_FastMRI/Preprocessed/multicoil_train/file_brain_AXT1_201_6002796.h5\n",
      "/DATASERVER/MIC/SHARED/NYU_FastMRI/Preprocessed/multicoil_train/file_brain_AXT1PRE_200_6002399.h5\n",
      "/DATASERVER/MIC/SHARED/NYU_FastMRI/Preprocessed/multicoil_train/file_brain_AXT1PRE_200_6002072.h5\n",
      "/DATASERVER/MIC/SHARED/NYU_FastMRI/Preprocessed/multicoil_train/file_brain_AXT1POST_205_2050059.h5\n",
      "/DATASERVER/MIC/SHARED/NYU_FastMRI/Preprocessed/multicoil_train/file_brain_AXFLAIR_200_6002585.h5\n",
      "/DATASERVER/MIC/SHARED/NYU_FastMRI/Preprocessed/multicoil_train/file_brain_AXT1POST_205_6000062.h5\n",
      "/DATASERVER/MIC/SHARED/NYU_FastMRI/Preprocessed/multicoil_train/file_brain_AXFLAIR_210_6001552.h5\n",
      "/DATASERVER/MIC/SHARED/NYU_FastMRI/Preprocessed/multicoil_train/file_brain_AXT1_202_2020389.h5\n",
      "/DATASERVER/MIC/SHARED/NYU_FastMRI/Preprocessed/multicoil_train/file_brain_AXT1POST_205_2050063.h5\n",
      "/DATASERVER/MIC/SHARED/NYU_FastMRI/Preprocessed/multicoil_train/file_brain_AXT1POST_200_6002149.h5\n",
      "/DATASERVER/MIC/SHARED/NYU_FastMRI/Preprocessed/multicoil_train/file_brain_AXT1POST_205_6000068.h5\n",
      "/DATASERVER/MIC/SHARED/NYU_FastMRI/Preprocessed/multicoil_train/file_brain_AXT1_201_6002851.h5\n",
      "/DATASERVER/MIC/SHARED/NYU_FastMRI/Preprocessed/multicoil_train/file_brain_AXT1POST_205_6000059.h5\n",
      "/DATASERVER/MIC/SHARED/NYU_FastMRI/Preprocessed/multicoil_train/file_brain_AXT2_205_6000174.h5\n",
      "/DATASERVER/MIC/SHARED/NYU_FastMRI/Preprocessed/multicoil_train/file_brain_AXT2_206_2060081.h5\n",
      "/DATASERVER/MIC/SHARED/NYU_FastMRI/Preprocessed/multicoil_train/file_brain_AXT2_206_2060042.h5\n",
      "/DATASERVER/MIC/SHARED/NYU_FastMRI/Preprocessed/multicoil_train/file_brain_AXT1PRE_210_6001733.h5\n",
      "/DATASERVER/MIC/SHARED/NYU_FastMRI/Preprocessed/multicoil_train/file_brain_AXT2_202_2020419.h5\n",
      "/DATASERVER/MIC/SHARED/NYU_FastMRI/Preprocessed/multicoil_train/file_brain_AXFLAIR_201_6003018.h5\n"
     ]
    }
   ],
   "source": [
    "for filename in clustered_data_2[(640,320)][:70]:\n",
    "    print(str(filename))\n"
   ]
  },
  {
   "cell_type": "code",
   "execution_count": null,
   "metadata": {},
   "outputs": [],
   "source": []
  }
 ],
 "metadata": {
  "kernelspec": {
   "display_name": "DL_MRI_reconstruction",
   "language": "python",
   "name": "python3"
  },
  "language_info": {
   "codemirror_mode": {
    "name": "ipython",
    "version": 3
   },
   "file_extension": ".py",
   "mimetype": "text/x-python",
   "name": "python",
   "nbconvert_exporter": "python",
   "pygments_lexer": "ipython3",
   "version": "3.6.9"
  }
 },
 "nbformat": 4,
 "nbformat_minor": 2
}
