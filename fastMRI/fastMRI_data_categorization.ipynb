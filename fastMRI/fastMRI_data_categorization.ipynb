{
 "cells": [
  {
   "cell_type": "code",
   "execution_count": 1,
   "metadata": {},
   "outputs": [],
   "source": [
    "%matplotlib inline\n",
    "\n",
    "import os\n",
    "import h5py\n",
    "import numpy as np\n",
    "from matplotlib import pyplot as plt\n"
   ]
  },
  {
   "cell_type": "code",
   "execution_count": 2,
   "metadata": {},
   "outputs": [],
   "source": [
    "download_path = '/usr/local/micapollo01/MIC/DATA/SHARED/NYU_FastMRI'\n",
    "dicom_path = os.path.join(download_path,'fastMRI_brain_DICOM')\n",
    "train_path = os.path.join(download_path,'multicoil_train')\n",
    "validation_path = os.path.join(download_path,'multicoil_val')\n",
    "test_path = os.path.join(download_path,'multicoil_test')\n",
    "fully_sampled_test_path = os.path.join(download_path,'multicoil_test_full')"
   ]
  },
  {
   "cell_type": "markdown",
   "metadata": {},
   "source": [
    "Explore generalized properties of the data using all training files"
   ]
  },
  {
   "cell_type": "code",
   "execution_count": 7,
   "metadata": {},
   "outputs": [],
   "source": [
    "from pathlib import Path\n",
    "\n",
    "# Cluster the training data based on number of coils used\n",
    "clustered_data = {}\n",
    "files = Path(train_path).glob('**/*')\n",
    "for file in files:\n",
    "    hf_loop = h5py.File(file)\n",
    "    shape = hf_loop['kspace'][()].shape\n",
    "    num_coils = shape[1]\n",
    "    if num_coils not in clustered_data:\n",
    "       clustered_data[num_coils] = [file]\n",
    "    else:\n",
    "       clustered_data[num_coils].append(file)\n"
   ]
  },
  {
   "cell_type": "code",
   "execution_count": 8,
   "metadata": {},
   "outputs": [],
   "source": [
    "# Save dictionary to .npy file\n",
    "np.save(\"/usr/local/micapollo01/MIC/DATA/STUDENTS/mvhave7/Results/Preprocessing/exploration/coil_clustered_fastmri_data.npy\", clustered_data)\n",
    "\n",
    "# To load:\n",
    "clustered_data = np.load(\"/usr/local/micapollo01/MIC/DATA/STUDENTS/mvhave7/Results/Preprocessing/exploration/coil_clustered_fastmri_data.npy\", allow_pickle=True)\n",
    "clustered_data = clustered_data.item()"
   ]
  },
  {
   "cell_type": "code",
   "execution_count": 9,
   "metadata": {},
   "outputs": [
    {
     "name": "stdout",
     "output_type": "stream",
     "text": [
      "Number of coils:12\n",
      "Number of scans:245\n",
      "Number of coils:20\n",
      "Number of scans:1173\n",
      "Number of coils:4\n",
      "Number of scans:1214\n",
      "Number of coils:16\n",
      "Number of scans:1434\n",
      "Number of coils:14\n",
      "Number of scans:264\n",
      "Number of coils:5\n",
      "Number of scans:22\n",
      "Number of coils:6\n",
      "Number of scans:61\n",
      "Number of coils:24\n",
      "Number of scans:7\n",
      "Number of coils:18\n",
      "Number of scans:26\n",
      "Number of coils:2\n",
      "Number of scans:7\n",
      "Number of coils:8\n",
      "Number of scans:10\n",
      "Number of coils:10\n",
      "Number of scans:3\n",
      "Number of coils:28\n",
      "Number of scans:2\n",
      "Number of coils:22\n",
      "Number of scans:1\n"
     ]
    }
   ],
   "source": [
    "for key, list in dict(clustered_data).items():\n",
    "    print('Number of coils:'+str(key))\n",
    "    print('Number of scans:'+str(len(list)))\n",
    "\n",
    "# We can see that the most common number of coils are (in descending order) 16, 4 and 20"
   ]
  },
  {
   "cell_type": "code",
   "execution_count": 10,
   "metadata": {},
   "outputs": [],
   "source": [
    "# Cluster the 16-coil training data based on slice dimensions, as the 16-coil data corresponds to the most scans\n",
    "clustered_data_2 = {}\n",
    "for file in clustered_data[16]:\n",
    "    hf_loop = h5py.File(file)\n",
    "    shape = hf_loop['kspace'][()].shape\n",
    "    slice_height = shape[2]\n",
    "    slice_width = shape[3]\n",
    "    key = (slice_height,slice_width)\n",
    "    if key not in clustered_data_2:\n",
    "        clustered_data_2[key] = [file]\n",
    "    else:\n",
    "        clustered_data_2[key].append(file)\n"
   ]
  },
  {
   "cell_type": "code",
   "execution_count": 2,
   "metadata": {},
   "outputs": [],
   "source": [
    "# To load:\n",
    "clustered_data_2 = np.load(\"/usr/local/micapollo01/MIC/DATA/STUDENTS/mvhave7/Results/Preprocessing/exploration/16coil_slice_size_clustered_fastmri_data.npy\", allow_pickle=True)\n",
    "clustered_data_2 = clustered_data_2.item()"
   ]
  },
  {
   "cell_type": "code",
   "execution_count": 12,
   "metadata": {},
   "outputs": [
    {
     "name": "stdout",
     "output_type": "stream",
     "text": [
      "Slice dimensions:(640, 320)\n",
      "Number of scans:726\n",
      "Slice dimensions:(768, 396)\n",
      "Number of scans:630\n",
      "Slice dimensions:(640, 272)\n",
      "Number of scans:25\n",
      "Slice dimensions:(768, 324)\n",
      "Number of scans:4\n",
      "Slice dimensions:(640, 274)\n",
      "Number of scans:1\n",
      "Slice dimensions:(640, 264)\n",
      "Number of scans:27\n",
      "Slice dimensions:(640, 280)\n",
      "Number of scans:1\n",
      "Slice dimensions:(512, 320)\n",
      "Number of scans:1\n",
      "Slice dimensions:(640, 332)\n",
      "Number of scans:1\n",
      "Slice dimensions:(512, 234)\n",
      "Number of scans:4\n",
      "Slice dimensions:(640, 260)\n",
      "Number of scans:5\n",
      "Slice dimensions:(640, 262)\n",
      "Number of scans:2\n",
      "Slice dimensions:(512, 256)\n",
      "Number of scans:1\n",
      "Slice dimensions:(512, 214)\n",
      "Number of scans:3\n",
      "Slice dimensions:(768, 342)\n",
      "Number of scans:2\n",
      "Slice dimensions:(640, 312)\n",
      "Number of scans:1\n"
     ]
    }
   ],
   "source": [
    "for key, list in clustered_data_2.items():\n",
    "    print('Slice dimensions:'+str(key))\n",
    "    print('Number of scans:'+str(len(list)))\n"
   ]
  },
  {
   "cell_type": "code",
   "execution_count": 13,
   "metadata": {},
   "outputs": [],
   "source": [
    "# Save dictionary to .npy file\n",
    "np.save(\"/usr/local/micapollo01/MIC/DATA/STUDENTS/mvhave7/Results/Preprocessing/exploration/16coil_slice_size_clustered_fastmri_data.npy\", clustered_data_2)\n"
   ]
  },
  {
   "cell_type": "code",
   "execution_count": 13,
   "metadata": {},
   "outputs": [],
   "source": [
    "count_AXFLAIR = 0\n",
    "count_AXT1 = 0\n",
    "count_AXT2 = 0\n",
    "count_others = 0\n",
    "\n",
    "for filename in clustered_data_2[(640,320)]:\n",
    "    filename = str(filename)\n",
    "    if 'AXFLAIR' in filename:\n",
    "        count_AXFLAIR += 1\n",
    "    elif 'AXT1' in filename:\n",
    "        count_AXT1 += 1\n",
    "    elif 'AXT2' in filename:\n",
    "        count_AXT2 += 1\n",
    "    else:\n",
    "        count_others += 1\n"
   ]
  },
  {
   "cell_type": "code",
   "execution_count": 8,
   "metadata": {},
   "outputs": [
    {
     "name": "stdout",
     "output_type": "stream",
     "text": [
      "AXFLAIR: 95\n",
      "AXT1: 407\n",
      "AXT2: 224\n",
      "Others: 0\n"
     ]
    }
   ],
   "source": [
    "print(f\"AXFLAIR: {count_AXFLAIR}\")\n",
    "print(f\"AXT1: {count_AXT1}\")\n",
    "print(f\"AXT2: {count_AXT2}\")\n",
    "print(f\"Others: {count_others}\")\n"
   ]
  },
  {
   "cell_type": "code",
   "execution_count": 9,
   "metadata": {},
   "outputs": [],
   "source": [
    "count_AXFLAIR = 0\n",
    "count_AXT1 = 0\n",
    "count_AXT2 = 0\n",
    "count_others = 0\n",
    "\n",
    "for filename in clustered_data_2[(640,320)][:70]:\n",
    "    filename = str(filename)\n",
    "    if 'AXFLAIR' in filename:\n",
    "        count_AXFLAIR += 1\n",
    "    elif 'AXT1' in filename:\n",
    "        count_AXT1 += 1\n",
    "    elif 'AXT2' in filename:\n",
    "        count_AXT2 += 1\n",
    "    else:\n",
    "        count_others += 1"
   ]
  },
  {
   "cell_type": "code",
   "execution_count": 10,
   "metadata": {},
   "outputs": [
    {
     "name": "stdout",
     "output_type": "stream",
     "text": [
      "AXFLAIR: 7\n",
      "AXT1: 37\n",
      "AXT2: 26\n",
      "Others: 0\n"
     ]
    }
   ],
   "source": [
    "print(f\"AXFLAIR: {count_AXFLAIR}\")\n",
    "print(f\"AXT1: {count_AXT1}\")\n",
    "print(f\"AXT2: {count_AXT2}\")\n",
    "print(f\"Others: {count_others}\")\n"
   ]
  },
  {
   "cell_type": "code",
   "execution_count": 12,
   "metadata": {},
   "outputs": [
    {
     "name": "stdout",
     "output_type": "stream",
     "text": [
      "/usr/local/micapollo01/MIC/DATA/SHARED/NYU_FastMRI/multicoil_train/file_brain_AXT1_202_6000340.h5\n",
      "/usr/local/micapollo01/MIC/DATA/SHARED/NYU_FastMRI/multicoil_train/file_brain_AXFLAIR_200_6002493.h5\n",
      "/usr/local/micapollo01/MIC/DATA/SHARED/NYU_FastMRI/multicoil_train/file_brain_AXT2_202_2020075.h5\n",
      "/usr/local/micapollo01/MIC/DATA/SHARED/NYU_FastMRI/multicoil_train/file_brain_AXT2_202_2020327.h5\n",
      "/usr/local/micapollo01/MIC/DATA/SHARED/NYU_FastMRI/multicoil_train/file_brain_AXT2_206_2060005.h5\n",
      "/usr/local/micapollo01/MIC/DATA/SHARED/NYU_FastMRI/multicoil_train/file_brain_AXT1POST_210_6001724.h5\n",
      "/usr/local/micapollo01/MIC/DATA/SHARED/NYU_FastMRI/multicoil_train/file_brain_AXT1POST_210_6001704.h5\n",
      "/usr/local/micapollo01/MIC/DATA/SHARED/NYU_FastMRI/multicoil_train/file_brain_AXT1POST_202_6000351.h5\n",
      "/usr/local/micapollo01/MIC/DATA/SHARED/NYU_FastMRI/multicoil_train/file_brain_AXT2_202_2020583.h5\n",
      "/usr/local/micapollo01/MIC/DATA/SHARED/NYU_FastMRI/multicoil_train/file_brain_AXT1PRE_200_6002041.h5\n",
      "/usr/local/micapollo01/MIC/DATA/SHARED/NYU_FastMRI/multicoil_train/file_brain_AXT1POST_200_6002287.h5\n",
      "/usr/local/micapollo01/MIC/DATA/SHARED/NYU_FastMRI/multicoil_train/file_brain_AXT2_205_6000086.h5\n",
      "/usr/local/micapollo01/MIC/DATA/SHARED/NYU_FastMRI/multicoil_train/file_brain_AXT1PRE_210_6001656.h5\n",
      "/usr/local/micapollo01/MIC/DATA/SHARED/NYU_FastMRI/multicoil_train/file_brain_AXT1PRE_210_6001800.h5\n",
      "/usr/local/micapollo01/MIC/DATA/SHARED/NYU_FastMRI/multicoil_train/file_brain_AXT2_202_2020135.h5\n",
      "/usr/local/micapollo01/MIC/DATA/SHARED/NYU_FastMRI/multicoil_train/file_brain_AXT1POST_205_6000180.h5\n",
      "/usr/local/micapollo01/MIC/DATA/SHARED/NYU_FastMRI/multicoil_train/file_brain_AXFLAIR_201_6002878.h5\n",
      "/usr/local/micapollo01/MIC/DATA/SHARED/NYU_FastMRI/multicoil_train/file_brain_AXT1_201_6002851.h5\n",
      "/usr/local/micapollo01/MIC/DATA/SHARED/NYU_FastMRI/multicoil_train/file_brain_AXFLAIR_210_6001533.h5\n",
      "/usr/local/micapollo01/MIC/DATA/SHARED/NYU_FastMRI/multicoil_train/file_brain_AXT2_202_2020491.h5\n",
      "/usr/local/micapollo01/MIC/DATA/SHARED/NYU_FastMRI/multicoil_train/file_brain_AXT1POST_205_2050034.h5\n",
      "/usr/local/micapollo01/MIC/DATA/SHARED/NYU_FastMRI/multicoil_train/file_brain_AXT2_202_2020416.h5\n",
      "/usr/local/micapollo01/MIC/DATA/SHARED/NYU_FastMRI/multicoil_train/file_brain_AXT2_202_2020258.h5\n",
      "/usr/local/micapollo01/MIC/DATA/SHARED/NYU_FastMRI/multicoil_train/file_brain_AXT1POST_206_6000218.h5\n",
      "/usr/local/micapollo01/MIC/DATA/SHARED/NYU_FastMRI/multicoil_train/file_brain_AXT1POST_205_2050172.h5\n",
      "/usr/local/micapollo01/MIC/DATA/SHARED/NYU_FastMRI/multicoil_train/file_brain_AXFLAIR_200_6002541.h5\n",
      "/usr/local/micapollo01/MIC/DATA/SHARED/NYU_FastMRI/multicoil_train/file_brain_AXT2_202_2020191.h5\n",
      "/usr/local/micapollo01/MIC/DATA/SHARED/NYU_FastMRI/multicoil_train/file_brain_AXT1PRE_200_6002254.h5\n",
      "/usr/local/micapollo01/MIC/DATA/SHARED/NYU_FastMRI/multicoil_train/file_brain_AXT1POST_201_6002831.h5\n",
      "/usr/local/micapollo01/MIC/DATA/SHARED/NYU_FastMRI/multicoil_train/file_brain_AXT2_206_6000242.h5\n",
      "/usr/local/micapollo01/MIC/DATA/SHARED/NYU_FastMRI/multicoil_train/file_brain_AXT1_202_2020139.h5\n",
      "/usr/local/micapollo01/MIC/DATA/SHARED/NYU_FastMRI/multicoil_train/file_brain_AXT1POST_210_6001638.h5\n",
      "/usr/local/micapollo01/MIC/DATA/SHARED/NYU_FastMRI/multicoil_train/file_brain_AXT2_205_6000056.h5\n",
      "/usr/local/micapollo01/MIC/DATA/SHARED/NYU_FastMRI/multicoil_train/file_brain_AXT2_206_2060010.h5\n",
      "/usr/local/micapollo01/MIC/DATA/SHARED/NYU_FastMRI/multicoil_train/file_brain_AXFLAIR_201_6003009.h5\n",
      "/usr/local/micapollo01/MIC/DATA/SHARED/NYU_FastMRI/multicoil_train/file_brain_AXFLAIR_200_6002553.h5\n",
      "/usr/local/micapollo01/MIC/DATA/SHARED/NYU_FastMRI/multicoil_train/file_brain_AXT1POST_210_6001577.h5\n",
      "/usr/local/micapollo01/MIC/DATA/SHARED/NYU_FastMRI/multicoil_train/file_brain_AXT1POST_210_6001792.h5\n",
      "/usr/local/micapollo01/MIC/DATA/SHARED/NYU_FastMRI/multicoil_train/file_brain_AXT1_202_2020064.h5\n",
      "/usr/local/micapollo01/MIC/DATA/SHARED/NYU_FastMRI/multicoil_train/file_brain_AXT1_202_2020431.h5\n",
      "/usr/local/micapollo01/MIC/DATA/SHARED/NYU_FastMRI/multicoil_train/file_brain_AXT2_202_2020483.h5\n",
      "/usr/local/micapollo01/MIC/DATA/SHARED/NYU_FastMRI/multicoil_train/file_brain_AXT1POST_201_6002749.h5\n",
      "/usr/local/micapollo01/MIC/DATA/SHARED/NYU_FastMRI/multicoil_train/file_brain_AXT2_202_2020362.h5\n",
      "/usr/local/micapollo01/MIC/DATA/SHARED/NYU_FastMRI/multicoil_train/file_brain_AXT2_205_2050003.h5\n",
      "/usr/local/micapollo01/MIC/DATA/SHARED/NYU_FastMRI/multicoil_train/file_brain_AXT1PRE_200_6002304.h5\n",
      "/usr/local/micapollo01/MIC/DATA/SHARED/NYU_FastMRI/multicoil_train/file_brain_AXFLAIR_210_6001517.h5\n",
      "/usr/local/micapollo01/MIC/DATA/SHARED/NYU_FastMRI/multicoil_train/file_brain_AXT1POST_200_6002402.h5\n",
      "/usr/local/micapollo01/MIC/DATA/SHARED/NYU_FastMRI/multicoil_train/file_brain_AXT2_202_2020224.h5\n",
      "/usr/local/micapollo01/MIC/DATA/SHARED/NYU_FastMRI/multicoil_train/file_brain_AXT2_205_6000142.h5\n",
      "/usr/local/micapollo01/MIC/DATA/SHARED/NYU_FastMRI/multicoil_train/file_brain_AXT1POST_200_6002113.h5\n",
      "/usr/local/micapollo01/MIC/DATA/SHARED/NYU_FastMRI/multicoil_train/file_brain_AXT1POST_200_6002318.h5\n",
      "/usr/local/micapollo01/MIC/DATA/SHARED/NYU_FastMRI/multicoil_train/file_brain_AXT1POST_200_6002349.h5\n",
      "/usr/local/micapollo01/MIC/DATA/SHARED/NYU_FastMRI/multicoil_train/file_brain_AXT2_202_2020364.h5\n",
      "/usr/local/micapollo01/MIC/DATA/SHARED/NYU_FastMRI/multicoil_train/file_brain_AXT1POST_202_6000414.h5\n",
      "/usr/local/micapollo01/MIC/DATA/SHARED/NYU_FastMRI/multicoil_train/file_brain_AXT2_205_6000027.h5\n",
      "/usr/local/micapollo01/MIC/DATA/SHARED/NYU_FastMRI/multicoil_train/file_brain_AXT2_205_2050219.h5\n",
      "/usr/local/micapollo01/MIC/DATA/SHARED/NYU_FastMRI/multicoil_train/file_brain_AXT1PRE_210_6001761.h5\n",
      "/usr/local/micapollo01/MIC/DATA/SHARED/NYU_FastMRI/multicoil_train/file_brain_AXT2_202_2020182.h5\n",
      "/usr/local/micapollo01/MIC/DATA/SHARED/NYU_FastMRI/multicoil_train/file_brain_AXT2_202_2020419.h5\n",
      "/usr/local/micapollo01/MIC/DATA/SHARED/NYU_FastMRI/multicoil_train/file_brain_AXT1PRE_205_6000021.h5\n",
      "/usr/local/micapollo01/MIC/DATA/SHARED/NYU_FastMRI/multicoil_train/file_brain_AXT2_205_2050125.h5\n",
      "/usr/local/micapollo01/MIC/DATA/SHARED/NYU_FastMRI/multicoil_train/file_brain_AXT1POST_205_6000153.h5\n",
      "/usr/local/micapollo01/MIC/DATA/SHARED/NYU_FastMRI/multicoil_train/file_brain_AXT1POST_200_6002024.h5\n",
      "/usr/local/micapollo01/MIC/DATA/SHARED/NYU_FastMRI/multicoil_train/file_brain_AXT2_202_2020409.h5\n",
      "/usr/local/micapollo01/MIC/DATA/SHARED/NYU_FastMRI/multicoil_train/file_brain_AXT1POST_201_6002827.h5\n",
      "/usr/local/micapollo01/MIC/DATA/SHARED/NYU_FastMRI/multicoil_train/file_brain_AXT1POST_205_2050070.h5\n",
      "/usr/local/micapollo01/MIC/DATA/SHARED/NYU_FastMRI/multicoil_train/file_brain_AXT2_205_2050223.h5\n",
      "/usr/local/micapollo01/MIC/DATA/SHARED/NYU_FastMRI/multicoil_train/file_brain_AXT1PRE_206_6000223.h5\n",
      "/usr/local/micapollo01/MIC/DATA/SHARED/NYU_FastMRI/multicoil_train/file_brain_AXT1POST_205_2050156.h5\n",
      "/usr/local/micapollo01/MIC/DATA/SHARED/NYU_FastMRI/multicoil_train/file_brain_AXT1POST_210_6001657.h5\n"
     ]
    }
   ],
   "source": [
    "for filename in clustered_data_2[(640,320)][:70]:\n",
    "    print(str(filename))\n"
   ]
  },
  {
   "cell_type": "code",
   "execution_count": null,
   "metadata": {},
   "outputs": [],
   "source": []
  }
 ],
 "metadata": {
  "kernelspec": {
   "display_name": "DL_MRI_reconstruction",
   "language": "python",
   "name": "python3"
  },
  "language_info": {
   "codemirror_mode": {
    "name": "ipython",
    "version": 3
   },
   "file_extension": ".py",
   "mimetype": "text/x-python",
   "name": "python",
   "nbconvert_exporter": "python",
   "pygments_lexer": "ipython3",
   "version": "3.6.15"
  }
 },
 "nbformat": 4,
 "nbformat_minor": 2
}
