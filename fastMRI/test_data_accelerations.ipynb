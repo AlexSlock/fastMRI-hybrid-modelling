{
 "cells": [
  {
   "cell_type": "markdown",
   "metadata": {},
   "source": [
    "## For the full multicoil_test set"
   ]
  },
  {
   "cell_type": "code",
   "execution_count": 30,
   "metadata": {},
   "outputs": [
    {
     "name": "stdout",
     "output_type": "stream",
     "text": [
      "Total files processed: 558\n",
      "R = 4: 207 files\n",
      "R = 4 (approx): 74 files\n",
      "R = 8: 134 files\n",
      "R = 8 (approx): 143 files\n",
      "Unknown R values: 0 files\n",
      "Total as R = 4 or approx: 281 files\n",
      "Total as R = 8 or approx: 277 files\n"
     ]
    }
   ],
   "source": [
    "import os\n",
    "import h5py\n",
    "import pathlib\n",
    "import numpy as np\n",
    "\n",
    "path_to_test_mri_data = pathlib.Path('/DATASERVER/MIC/SHARED/NYU_FastMRI/Preprocessed/multicoil_test/')\n",
    "\n",
    "R_4 = []\n",
    "R_4_approx = []\n",
    "R_8 = []\n",
    "R_8_approx = []\n",
    "unknown = {}\n",
    "\n",
    "def calculate_R(filename):\n",
    "    mask_path = '/DATASERVER/MIC/SHARED/NYU_FastMRI/Preprocessed/multicoil_test/'\n",
    "    mask = h5py.File(os.path.join(mask_path,filename),'r')\n",
    "    nPE_mask = mask['mask'][()]\n",
    "    sampled_columns = np.sum(nPE_mask)\n",
    "    R = len(nPE_mask)/sampled_columns\n",
    "    return R\n",
    "\n",
    "i = 0\n",
    "for file in path_to_test_mri_data.iterdir():\n",
    "    # R = calculate_R(file.name)\n",
    "    with h5py.File(file, 'r') as f:\n",
    "        nPE_mask = f['mask'][()]\n",
    "    sampled_columns = np.sum(nPE_mask)\n",
    "    R = len(nPE_mask) / sampled_columns\n",
    "    R = float(R)\n",
    "    #print(f\"File: {file.name}, R: {R}\")\n",
    "    if R == 4:\n",
    "        R_4.append(file.name)\n",
    "    elif abs(R - 4) < 0.26:\n",
    "        R_4_approx.append(file.name)\n",
    "    elif R == 8:\n",
    "        R_8.append(file.name)\n",
    "    elif abs(R - 8) < 0.26:\n",
    "        R_8_approx.append(file.name)\n",
    "    else:\n",
    "        unknown[file.name] = R\n",
    "    i += 1\n",
    "\n",
    "print(f\"Total files processed: {i}\")\n",
    "print(f\"R = 4: {len(R_4)} files\")\n",
    "print(f\"R = 4 (approx): {len(R_4_approx)} files\")\n",
    "print(f\"R = 8: {len(R_8)} files\")\n",
    "print(f\"R = 8 (approx): {len(R_8_approx)} files\")\n",
    "print(f\"Unknown R values: {len(unknown)} files\")\n",
    "\n",
    "print(f\"Total as R = 4 or approx: {len(R_4) + len(R_4_approx)} files\")\n",
    "print(f\"Total as R = 8 or approx: {len(R_8) + len(R_8_approx)} files\")\n"
   ]
  },
  {
   "cell_type": "markdown",
   "metadata": {},
   "source": [
    "## For my test set!"
   ]
  },
  {
   "cell_type": "code",
   "execution_count": 31,
   "metadata": {},
   "outputs": [
    {
     "name": "stdout",
     "output_type": "stream",
     "text": [
      "Total files processed: 263\n",
      "R=4 files: 94\n",
      "R=4 (approx) files: 44\n",
      "R=8 files: 57\n",
      "R=8 (approx) files: 68\n",
      "Unknown R values: 0 files\n",
      "Total as R = 4 or approx: 138 files\n",
      "Total as R = 8 or approx: 125 files\n"
     ]
    }
   ],
   "source": [
    "path_to_test_mri_data = pathlib.Path('/DATASERVER/MIC/SHARED/NYU_FastMRI/Preprocessed/multicoil_test/')\n",
    "path_to_test_set = pathlib.Path('/DATASERVER/MIC/GENERAL/STUDENTS/aslock2/Results/CSUNet/reconstructions/')\n",
    "\n",
    "\n",
    "R_4 = []\n",
    "R_4_approx = []\n",
    "R_8 = []\n",
    "R_8_approx = []\n",
    "unknown = {}\n",
    "\n",
    "def calculate_R(filename):\n",
    "    mask_path = '/DATASERVER/MIC/SHARED/NYU_FastMRI/Preprocessed/multicoil_test/'\n",
    "    mask = h5py.File(os.path.join(mask_path,filename),'r')\n",
    "    nPE_mask = mask['mask'][()]\n",
    "    sampled_columns = np.sum(nPE_mask)\n",
    "    R = len(nPE_mask)/sampled_columns\n",
    "    return R\n",
    "\n",
    "i=0\n",
    "for file in path_to_test_set.iterdir():\n",
    "    \n",
    "    # if not brain in filename skip\n",
    "    if 'brain' not in file.name:\n",
    "        continue\n",
    "\n",
    "    # calculate R from mri data file\n",
    "    mri_file = path_to_test_mri_data / file.name\n",
    "    with h5py.File(mri_file, 'r') as f:\n",
    "        nPE_mask = f['mask'][()]\n",
    "    sampled_columns = np.sum(nPE_mask)\n",
    "    R = len(nPE_mask) / sampled_columns\n",
    "    R = float(R)\n",
    "    #print(f\"File: {file.name}, R: {R}\")\n",
    "    if R == 4:\n",
    "        R_4.append(file.name)\n",
    "    elif abs(R - 4) < 0.26:\n",
    "        R_4_approx.append(file.name)\n",
    "    elif R == 8:\n",
    "        R_8.append(file.name)\n",
    "    elif abs(R - 8) < 0.26:\n",
    "        R_8_approx.append(file.name)\n",
    "    else:\n",
    "        unknown[file.name] = R\n",
    "    i += 1\n",
    "\n",
    "print(f\"Total files processed: {i}\")\n",
    "print(f\"R=4 files: {len(R_4)}\")\n",
    "print(f\"R=4 (approx) files: {len(R_4_approx)}\")\n",
    "print(f\"R=8 files: {len(R_8)}\")\n",
    "print(f\"R=8 (approx) files: {len(R_8_approx)}\")\n",
    "print(f\"Unknown R values: {len(unknown)} files\")\n",
    "\n",
    "print(f\"Total as R = 4 or approx: {len(R_4) + len(R_4_approx)} files\")\n",
    "print(f\"Total as R = 8 or approx: {len(R_8) + len(R_8_approx)} files\")\n"
   ]
  },
  {
   "cell_type": "markdown",
   "metadata": {},
   "source": [
    "## Results"
   ]
  },
  {
   "cell_type": "code",
   "execution_count": 9,
   "metadata": {},
   "outputs": [
    {
     "data": {
      "text/plain": [
       "['file_brain_AXT2_202_2020356.h5',\n",
       " 'file_brain_AXT1POST_200_6002436.h5',\n",
       " 'file_brain_AXT2_208_2080499.h5',\n",
       " 'file_brain_AXT2_209_6001390.h5',\n",
       " 'file_brain_AXT1POST_201_6002764.h5',\n",
       " 'file_brain_AXT2_200_2000079.h5',\n",
       " 'file_brain_AXT2_200_6002398.h5',\n",
       " 'file_brain_AXT2_203_2030377.h5',\n",
       " 'file_brain_AXT2_210_6001798.h5',\n",
       " 'file_brain_AXFLAIR_203_6000948.h5',\n",
       " 'file_brain_AXT2_209_2090050.h5',\n",
       " 'file_brain_AXT2_201_2010383.h5',\n",
       " 'file_brain_AXT2_210_6001948.h5',\n",
       " 'file_brain_AXT2_202_2020373.h5',\n",
       " 'file_brain_AXT2_210_2100030.h5',\n",
       " 'file_brain_AXFLAIR_200_6002517.h5',\n",
       " 'file_brain_AXT2_209_6001426.h5',\n",
       " 'file_brain_AXT1POST_203_6000630.h5',\n",
       " 'file_brain_AXT2_200_6002651.h5',\n",
       " 'file_brain_AXT1POST_209_6001184.h5',\n",
       " 'file_brain_AXT2_201_2010028.h5',\n",
       " 'file_brain_AXT1_201_6002775.h5',\n",
       " 'file_brain_AXT2_208_2080149.h5',\n",
       " 'file_brain_AXT1PRE_200_6002297.h5',\n",
       " 'file_brain_AXFLAIR_200_6002625.h5',\n",
       " 'file_brain_AXT1_202_2020391.h5',\n",
       " 'file_brain_AXT2_207_2070082.h5',\n",
       " 'file_brain_AXT2_207_2070102.h5',\n",
       " 'file_brain_AXT2_206_2060032.h5',\n",
       " 'file_brain_AXT1PRE_210_6001689.h5',\n",
       " 'file_brain_AXT2_200_2000046.h5',\n",
       " 'file_brain_AXFLAIR_210_6001523.h5',\n",
       " 'file_brain_AXT2_207_2070509.h5',\n",
       " 'file_brain_AXT2_207_2070541.h5',\n",
       " 'file_brain_AXT1POST_201_6002958.h5',\n",
       " 'file_brain_AXT2_205_2050184.h5',\n",
       " 'file_brain_AXT2_208_2080015.h5',\n",
       " 'file_brain_AXT2_209_6001056.h5',\n",
       " 'file_brain_AXT1PRE_203_6000831.h5',\n",
       " 'file_brain_AXT2_204_2040093.h5',\n",
       " 'file_brain_AXFLAIR_201_6002884.h5',\n",
       " 'file_brain_AXT1_202_2020405.h5',\n",
       " 'file_brain_AXFLAIR_209_6001372.h5',\n",
       " 'file_brain_AXT1_202_2020553.h5',\n",
       " 'file_brain_AXT2_201_2010103.h5',\n",
       " 'file_brain_AXT2_203_2030071.h5',\n",
       " 'file_brain_AXT2_208_2080489.h5',\n",
       " 'file_brain_AXT2_200_2000534.h5',\n",
       " 'file_brain_AXT2_209_6001439.h5',\n",
       " 'file_brain_AXT2_205_6000123.h5',\n",
       " 'file_brain_AXT2_208_2080721.h5',\n",
       " 'file_brain_AXT2_203_2030037.h5',\n",
       " 'file_brain_AXT2_202_2020383.h5',\n",
       " 'file_brain_AXT2_205_2050198.h5',\n",
       " 'file_brain_AXT1POST_210_6001591.h5',\n",
       " 'file_brain_AXT2_201_2010096.h5',\n",
       " 'file_brain_AXFLAIR_200_6002531.h5',\n",
       " 'file_brain_AXT2_207_2070051.h5',\n",
       " 'file_brain_AXFLAIR_201_6002891.h5',\n",
       " 'file_brain_AXT2_201_2010233.h5',\n",
       " 'file_brain_AXT2_206_6000208.h5',\n",
       " 'file_brain_AXT1POST_202_6000343.h5',\n",
       " 'file_brain_AXT2_207_2070191.h5',\n",
       " 'file_brain_AXT1PRE_210_6001831.h5',\n",
       " 'file_brain_AXT1PRE_210_6001695.h5',\n",
       " 'file_brain_AXT1PRE_201_6002726.h5',\n",
       " 'file_brain_AXT2_207_2070567.h5',\n",
       " 'file_brain_AXT2_207_2070513.h5',\n",
       " 'file_brain_AXT2_200_6002602.h5',\n",
       " 'file_brain_AXT2_207_2070240.h5',\n",
       " 'file_brain_AXT2_202_2020588.h5',\n",
       " 'file_brain_AXT2_210_2100061.h5',\n",
       " 'file_brain_AXT2_205_6000024.h5',\n",
       " 'file_brain_AXT2_207_2070233.h5',\n",
       " 'file_brain_AXT1POST_201_6002671.h5',\n",
       " 'file_brain_AXFLAIR_210_6001502.h5',\n",
       " 'file_brain_AXT1PRE_203_6000666.h5',\n",
       " 'file_brain_AXT2_201_2010190.h5',\n",
       " 'file_brain_AXT1_202_2020254.h5',\n",
       " 'file_brain_AXT1PRE_203_6000819.h5',\n",
       " 'file_brain_AXT2_202_2020536.h5',\n",
       " 'file_brain_AXT2_202_2020115.h5',\n",
       " 'file_brain_AXT2_209_2090241.h5',\n",
       " 'file_brain_AXT2_208_2080428.h5',\n",
       " 'file_brain_AXT2_202_2020271.h5',\n",
       " 'file_brain_AXT2_206_2060023.h5',\n",
       " 'file_brain_AXT1POST_209_6001102.h5',\n",
       " 'file_brain_AXT2_200_2000234.h5',\n",
       " 'file_brain_AXT1_202_2020549.h5',\n",
       " 'file_brain_AXT1PRE_203_6000758.h5',\n",
       " 'file_brain_AXT1PRE_200_6002385.h5',\n",
       " 'file_brain_AXT1POST_209_6001142.h5',\n",
       " 'file_brain_AXT2_210_6001738.h5',\n",
       " 'file_brain_AXT2_205_2050152.h5']"
      ]
     },
     "execution_count": 9,
     "metadata": {},
     "output_type": "execute_result"
    }
   ],
   "source": [
    "R_4\n"
   ]
  },
  {
   "cell_type": "code",
   "execution_count": 10,
   "metadata": {},
   "outputs": [
    {
     "data": {
      "text/plain": [
       "['file_brain_AXT2_205_6000092.h5',\n",
       " 'file_brain_AXT2_202_2020475.h5',\n",
       " 'file_brain_AXT2_208_2080413.h5',\n",
       " 'file_brain_AXT1PRE_210_6001713.h5',\n",
       " 'file_brain_AXT2_205_2050205.h5',\n",
       " 'file_brain_AXT2_202_2020385.h5',\n",
       " 'file_brain_AXT2_206_6000239.h5',\n",
       " 'file_brain_AXT1POST_205_2050073.h5',\n",
       " 'file_brain_AXT2_202_2020253.h5',\n",
       " 'file_brain_AXT2_208_2080376.h5',\n",
       " 'file_brain_AXT1POST_210_6001895.h5',\n",
       " 'file_brain_AXT1PRE_210_6001861.h5',\n",
       " 'file_brain_AXT1POST_205_6000038.h5',\n",
       " 'file_brain_AXT2_208_2080515.h5',\n",
       " 'file_brain_AXT2_202_2020125.h5',\n",
       " 'file_brain_AXT2_205_2050105.h5',\n",
       " 'file_brain_AXT2_208_2080102.h5',\n",
       " 'file_brain_AXT2_208_2080517.h5',\n",
       " 'file_brain_AXT1PRE_209_6001110.h5',\n",
       " 'file_brain_AXT1_202_2020234.h5',\n",
       " 'file_brain_AXT1POST_203_6000722.h5',\n",
       " 'file_brain_AXT2_207_2070223.h5',\n",
       " 'file_brain_AXT2_207_2070006.h5',\n",
       " 'file_brain_AXT1POST_205_6000098.h5',\n",
       " 'file_brain_AXT2_202_2020539.h5',\n",
       " 'file_brain_AXT2_202_2020339.h5',\n",
       " 'file_brain_AXT1POST_203_6000800.h5',\n",
       " 'file_brain_AXT2_206_6000247.h5',\n",
       " 'file_brain_AXT1PRE_200_6002382.h5',\n",
       " 'file_brain_AXT1PRE_200_6002443.h5',\n",
       " 'file_brain_AXT1PRE_200_6002215.h5',\n",
       " 'file_brain_AXFLAIR_201_6003013.h5',\n",
       " 'file_brain_AXT2_206_2060031.h5',\n",
       " 'file_brain_AXT2_205_2050103.h5',\n",
       " 'file_brain_AXFLAIR_200_6002497.h5',\n",
       " 'file_brain_AXFLAIR_200_6002451.h5',\n",
       " 'file_brain_AXT2_202_2020571.h5',\n",
       " 'file_brain_AXT1_202_2020190.h5',\n",
       " 'file_brain_AXT2_207_2070448.h5',\n",
       " 'file_brain_AXT2_206_2060090.h5',\n",
       " 'file_brain_AXT2_208_2080495.h5',\n",
       " 'file_brain_AXT1PRE_203_6000681.h5',\n",
       " 'file_brain_AXFLAIR_202_6000578.h5',\n",
       " 'file_brain_AXFLAIR_202_6000415.h5',\n",
       " 'file_brain_AXT1POST_209_6001144.h5',\n",
       " 'file_brain_AXT1POST_201_6002853.h5',\n",
       " 'file_brain_AXT1POST_200_6002234.h5',\n",
       " 'file_brain_AXT1PRE_203_6000858.h5',\n",
       " 'file_brain_AXT1PRE_210_6001766.h5',\n",
       " 'file_brain_AXT1POST_205_2050253.h5',\n",
       " 'file_brain_AXT1PRE_203_6000882.h5',\n",
       " 'file_brain_AXT2_203_2030190.h5',\n",
       " 'file_brain_AXT2_206_6000210.h5',\n",
       " 'file_brain_AXT1POST_200_6002410.h5',\n",
       " 'file_brain_AXT2_207_2070369.h5',\n",
       " 'file_brain_AXFLAIR_209_6001383.h5',\n",
       " 'file_brain_AXT1POST_203_6000778.h5']"
      ]
     },
     "execution_count": 10,
     "metadata": {},
     "output_type": "execute_result"
    }
   ],
   "source": [
    "R_8\n"
   ]
  },
  {
   "cell_type": "code",
   "execution_count": 11,
   "metadata": {},
   "outputs": [
    {
     "data": {
      "text/plain": [
       "['file_brain_AXT2_200_6002220.h5',\n",
       " 'file_brain_AXT2_210_6001573.h5',\n",
       " 'file_brain_AXT2_203_2030129.h5',\n",
       " 'file_brain_AXT2_209_6001295.h5',\n",
       " 'file_brain_AXT1POST_207_2070053.h5',\n",
       " 'file_brain_AXT2_210_6001746.h5',\n",
       " 'file_brain_AXT2_210_2100134.h5',\n",
       " 'file_brain_AXT1POST_208_2080690.h5',\n",
       " 'file_brain_AXT2_209_2090260.h5',\n",
       " 'file_brain_AXT2_200_6002153.h5',\n",
       " 'file_brain_AXT1POST_207_2070433.h5',\n",
       " 'file_brain_AXT1POST_207_2070319.h5',\n",
       " 'file_brain_AXT1POST_207_2070370.h5',\n",
       " 'file_brain_AXT1POST_208_2080146.h5',\n",
       " 'file_brain_AXT2_210_6001626.h5',\n",
       " 'file_brain_AXT1POST_207_2070561.h5',\n",
       " 'file_brain_AXT2_201_2010597.h5',\n",
       " 'file_brain_AXT2_200_2000087.h5',\n",
       " 'file_brain_AXT2_200_6002025.h5',\n",
       " 'file_brain_AXT1POST_207_2070757.h5',\n",
       " 'file_brain_AXT2_209_2090343.h5',\n",
       " 'file_brain_AXT2_200_6002283.h5',\n",
       " 'file_brain_AXT2_209_6001073.h5',\n",
       " 'file_brain_AXT2_200_2000227.h5',\n",
       " 'file_brain_AXT1POST_208_2080436.h5',\n",
       " 'file_brain_AXT2_209_2090201.h5',\n",
       " 'file_brain_AXFLAIR_206_6000226.h5',\n",
       " 'file_brain_AXT2_210_2100179.h5',\n",
       " 'file_brain_AXT1POST_207_2070027.h5',\n",
       " 'file_brain_AXT2_203_2030159.h5',\n",
       " 'file_brain_AXT2_200_2000596.h5',\n",
       " 'file_brain_AXT1POST_207_2070334.h5',\n",
       " 'file_brain_AXT1POST_207_2070548.h5',\n",
       " 'file_brain_AXT2_210_6001560.h5',\n",
       " 'file_brain_AXT1POST_207_2070843.h5',\n",
       " 'file_brain_AXT2_210_2100405.h5',\n",
       " 'file_brain_AXT2_209_6001143.h5',\n",
       " 'file_brain_AXT2_209_6001065.h5',\n",
       " 'file_brain_AXT2_209_6000991.h5',\n",
       " 'file_brain_AXT2_203_2030057.h5',\n",
       " 'file_brain_AXT1POST_208_2080410.h5',\n",
       " 'file_brain_AXT2_209_6001375.h5',\n",
       " 'file_brain_AXT1POST_207_2070402.h5',\n",
       " 'file_brain_AXT2_209_2090245.h5']"
      ]
     },
     "execution_count": 11,
     "metadata": {},
     "output_type": "execute_result"
    }
   ],
   "source": [
    "R_4_approx\n"
   ]
  },
  {
   "cell_type": "code",
   "execution_count": 12,
   "metadata": {},
   "outputs": [
    {
     "data": {
      "text/plain": [
       "['file_brain_AXT2_209_6001200.h5',\n",
       " 'file_brain_AXT2_200_6001964.h5',\n",
       " 'file_brain_AXT2_209_6001083.h5',\n",
       " 'file_brain_AXT2_201_2010007.h5',\n",
       " 'file_brain_AXT2_210_6001590.h5',\n",
       " 'file_brain_AXT2_210_6001601.h5',\n",
       " 'file_brain_AXT2_209_6000975.h5',\n",
       " 'file_brain_AXT2_209_6000984.h5',\n",
       " 'file_brain_AXT2_210_6001776.h5',\n",
       " 'file_brain_AXT2_200_6002049.h5',\n",
       " 'file_brain_AXT2_200_2000110.h5',\n",
       " 'file_brain_AXT1POST_208_2080427.h5',\n",
       " 'file_brain_AXT2_210_6001852.h5',\n",
       " 'file_brain_AXT2_209_6000980.h5',\n",
       " 'file_brain_AXT2_200_6002409.h5',\n",
       " 'file_brain_AXT2_210_6001843.h5',\n",
       " 'file_brain_AXT2_209_6001116.h5',\n",
       " 'file_brain_AXT2_210_6001718.h5',\n",
       " 'file_brain_AXT2_200_2000186.h5',\n",
       " 'file_brain_AXT2_210_6001525.h5',\n",
       " 'file_brain_AXT2_200_6002643.h5',\n",
       " 'file_brain_AXT2_201_2010242.h5',\n",
       " 'file_brain_AXT2_209_2090006.h5',\n",
       " 'file_brain_AXT2_210_6001812.h5',\n",
       " 'file_brain_AXT2_200_2000304.h5',\n",
       " 'file_brain_AXT2_200_6002250.h5',\n",
       " 'file_brain_AXT2_200_6002514.h5',\n",
       " 'file_brain_AXT2_201_2010346.h5',\n",
       " 'file_brain_AXT2_210_6001942.h5',\n",
       " 'file_brain_AXT2_210_2100108.h5',\n",
       " 'file_brain_AXT2_200_6002400.h5',\n",
       " 'file_brain_AXT2_200_6002333.h5',\n",
       " 'file_brain_AXT2_209_2090309.h5',\n",
       " 'file_brain_AXT2_210_2100284.h5',\n",
       " 'file_brain_AXT1POST_208_2080407.h5',\n",
       " 'file_brain_AXT2_200_2000158.h5',\n",
       " 'file_brain_AXT2_201_2010169.h5',\n",
       " 'file_brain_AXT2_200_2000124.h5',\n",
       " 'file_brain_AXT1POST_207_2070618.h5',\n",
       " 'file_brain_AXT1POST_207_2070057.h5',\n",
       " 'file_brain_AXT2_209_6001070.h5',\n",
       " 'file_brain_AXT1POST_207_2070125.h5',\n",
       " 'file_brain_AXT1POST_208_2080589.h5',\n",
       " 'file_brain_AXT2_209_2090015.h5',\n",
       " 'file_brain_AXT2_200_2000368.h5',\n",
       " 'file_brain_AXT2_201_2010395.h5',\n",
       " 'file_brain_AXT2_209_2090150.h5']"
      ]
     },
     "execution_count": 12,
     "metadata": {},
     "output_type": "execute_result"
    }
   ],
   "source": [
    "R_8_approx\n"
   ]
  },
  {
   "cell_type": "code",
   "execution_count": 13,
   "metadata": {},
   "outputs": [
    {
     "data": {
      "text/plain": [
       "{'file_brain_AXT2_208_2080123.h5': 8.205128205128204,\n",
       " 'file_brain_AXT1POST_210_6001811.h5': 8.205128205128204,\n",
       " 'file_brain_AXT1_202_2020012.h5': 7.804878048780488,\n",
       " 'file_brain_AXT1POST_202_6000293.h5': 7.804878048780488,\n",
       " 'file_brain_AXT1PRE_209_6001063.h5': 8.205128205128204,\n",
       " 'file_brain_AXT2_202_2020586.h5': 7.849056603773585,\n",
       " 'file_brain_AXT2_206_6000244.h5': 8.205128205128204,\n",
       " 'file_brain_AXT1POST_207_2070616.h5': 7.853658536585366,\n",
       " 'file_brain_AXT2_202_2020533.h5': 8.205128205128204,\n",
       " 'file_brain_AXFLAIR_210_6001507.h5': 8.205128205128204,\n",
       " 'file_brain_AXT2_207_2070407.h5': 8.205128205128204,\n",
       " 'file_brain_AXT2_203_2030055.h5': 8.166666666666666,\n",
       " 'file_brain_AXT2_200_6002171.h5': 8.25,\n",
       " 'file_brain_AXT1_202_2020202.h5': 8.205128205128204,\n",
       " 'file_brain_AXFLAIR_202_6000552.h5': 7.764705882352941,\n",
       " 'file_brain_AXT1PRE_203_6000697.h5': 8.205128205128204,\n",
       " 'file_brain_AXT1POST_208_2080248.h5': 8.256410256410257,\n",
       " 'file_brain_AXT2_203_2030075.h5': 8.166666666666666,\n",
       " 'file_brain_AXFLAIR_203_6000903.h5': 7.888888888888889,\n",
       " 'file_brain_AXT1POST_207_2070647.h5': 7.853658536585366,\n",
       " 'file_brain_AXT1POST_208_2080056.h5': 8.256410256410257}"
      ]
     },
     "execution_count": 13,
     "metadata": {},
     "output_type": "execute_result"
    }
   ],
   "source": [
    "unknown\n"
   ]
  },
  {
   "cell_type": "code",
   "execution_count": 14,
   "metadata": {},
   "outputs": [
    {
     "data": {
      "text/plain": [
       "94"
      ]
     },
     "execution_count": 14,
     "metadata": {},
     "output_type": "execute_result"
    }
   ],
   "source": [
    "len(R_4)"
   ]
  },
  {
   "cell_type": "code",
   "execution_count": 15,
   "metadata": {},
   "outputs": [
    {
     "data": {
      "text/plain": [
       "57"
      ]
     },
     "execution_count": 15,
     "metadata": {},
     "output_type": "execute_result"
    }
   ],
   "source": [
    "len(R_8)"
   ]
  },
  {
   "cell_type": "code",
   "execution_count": 16,
   "metadata": {},
   "outputs": [
    {
     "data": {
      "text/plain": [
       "44"
      ]
     },
     "execution_count": 16,
     "metadata": {},
     "output_type": "execute_result"
    }
   ],
   "source": [
    "len(R_4_approx)"
   ]
  },
  {
   "cell_type": "code",
   "execution_count": 17,
   "metadata": {},
   "outputs": [
    {
     "data": {
      "text/plain": [
       "47"
      ]
     },
     "execution_count": 17,
     "metadata": {},
     "output_type": "execute_result"
    }
   ],
   "source": [
    "len(R_8_approx)"
   ]
  },
  {
   "cell_type": "code",
   "execution_count": 18,
   "metadata": {},
   "outputs": [
    {
     "data": {
      "text/plain": [
       "21"
      ]
     },
     "execution_count": 18,
     "metadata": {},
     "output_type": "execute_result"
    }
   ],
   "source": [
    "len(unknown)"
   ]
  },
  {
   "cell_type": "code",
   "execution_count": 33,
   "metadata": {},
   "outputs": [],
   "source": [
    "path_to_save_results = '/usr/local/micapollo01/MIC/DATA/STUDENTS/mvhave7/Results/Preprocessing/exploration/'\n",
    "np.save(path_to_save_results+'test_scans_R_4.npy', np.array(R_4))\n",
    "np.save(path_to_save_results+'test_scans_R_4_approx.npy', np.array(R_4_approx))\n",
    "np.save(path_to_save_results+'test_scans_R_8.npy', np.array(R_8))\n",
    "np.save(path_to_save_results+'test_scans_R_8_approx.npy', np.array(R_8_approx))\n"
   ]
  }
 ],
 "metadata": {
  "kernelspec": {
   "display_name": "DL_MRI_reconstruction_baselines_2",
   "language": "python",
   "name": "python3"
  },
  "language_info": {
   "codemirror_mode": {
    "name": "ipython",
    "version": 3
   },
   "file_extension": ".py",
   "mimetype": "text/x-python",
   "name": "python",
   "nbconvert_exporter": "python",
   "pygments_lexer": "ipython3",
   "version": "3.6.9"
  }
 },
 "nbformat": 4,
 "nbformat_minor": 2
}
