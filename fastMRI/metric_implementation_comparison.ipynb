{
 "cells": [
  {
   "cell_type": "code",
   "execution_count": 3,
   "metadata": {},
   "outputs": [],
   "source": [
    "import os\n",
    "import h5py\n",
    "import numpy as np\n",
    "import matplotlib.pyplot as plt\n",
    "from skimage.metrics import structural_similarity\n",
    "from typing import Optional\n",
    "import tensorflow as tf\n",
    "\n",
    "reconstruction_path = '/usr/local/micapollo01/MIC/DATA/STUDENTS/mvhave7/Results/Reconstructions/BaselineUNet/Epoch6/reconstructions/'\n",
    "GT_path = '/usr/local/micapollo01/MIC/DATA/SHARED/NYU_FastMRI/multicoil_test_full/'\n",
    "file = 'file_brain_AXFLAIR_200_6002441.h5'\n",
    "\n",
    "GT_path = os.path.join(GT_path,file)\n",
    "reconstruction_path = os.path.join(reconstruction_path,file)\n",
    "\n",
    "GT = h5py.File(GT_path, 'r')\n",
    "reconstruction = h5py.File(reconstruction_path, 'r')\n"
   ]
  },
  {
   "cell_type": "code",
   "execution_count": 4,
   "metadata": {},
   "outputs": [],
   "source": [
    "GT = GT['reconstruction_rss']\n",
    "reconstruction = reconstruction['reconstruction']\n"
   ]
  },
  {
   "cell_type": "code",
   "execution_count": 5,
   "metadata": {},
   "outputs": [],
   "source": [
    "GT = np.array(GT)\n",
    "reconstruction = np.array(reconstruction)\n"
   ]
  },
  {
   "cell_type": "code",
   "execution_count": 20,
   "metadata": {},
   "outputs": [],
   "source": [
    "def ssim(\n",
    "    gt: np.ndarray, pred: np.ndarray, maxval: Optional[float] = None\n",
    ") -> np.ndarray:\n",
    "    \"\"\"Compute Structural Similarity Index Metric (SSIM)\"\"\"\n",
    "    if not gt.ndim == 3:\n",
    "        raise ValueError(\"Unexpected number of dimensions in ground truth.\")\n",
    "    if not gt.ndim == pred.ndim:\n",
    "        raise ValueError(\"Ground truth dimensions does not match pred.\")\n",
    "\n",
    "    maxval = gt.max() if maxval is None else maxval\n",
    "\n",
    "    ssim = np.array([0])\n",
    "    for slice_num in range(gt.shape[0]):\n",
    "        #ssim = ssim + structural_similarity(\n",
    "        #    gt[slice_num], pred[slice_num], data_range=maxval\n",
    "        #)\n",
    "        ssim = ssim + structural_similarity(\n",
    "            gt[slice_num], pred[slice_num], data_range=maxval,\n",
    "            gaussian_weights=True,\n",
    "            sigma=0.1,\n",
    "            win_size=3\n",
    "        )\n",
    "\n",
    "    return ssim / gt.shape[0]\n"
   ]
  },
  {
   "cell_type": "code",
   "execution_count": 18,
   "metadata": {},
   "outputs": [],
   "source": [
    "def ssim_tf(gt, pred, maxval=None):\n",
    "    maxval = gt.max() if maxval is None else maxval\n",
    "    gt_tf = tf.convert_to_tensor(gt)\n",
    "    pred_tf = tf.convert_to_tensor(pred)\n",
    "    ssim = tf.reduce_mean(tf.image.ssim(img1=gt_tf,img2=pred_tf,max_val=maxval,filter_size=3,filter_sigma=0.1))\n",
    "    #ssim = tf.reduce_mean(tf.image.ssim(img1=gt_tf,img2=pred_tf,max_val=maxval))\n",
    "    return ssim\n"
   ]
  },
  {
   "cell_type": "code",
   "execution_count": 21,
   "metadata": {},
   "outputs": [
    {
     "data": {
      "text/plain": [
       "array([0.75772222])"
      ]
     },
     "execution_count": 21,
     "metadata": {},
     "output_type": "execute_result"
    }
   ],
   "source": [
    "ssim(GT, reconstruction)\n"
   ]
  },
  {
   "cell_type": "code",
   "execution_count": 22,
   "metadata": {},
   "outputs": [
    {
     "data": {
      "text/plain": [
       "<tf.Tensor: shape=(), dtype=float32, numpy=0.76378495>"
      ]
     },
     "execution_count": 22,
     "metadata": {},
     "output_type": "execute_result"
    }
   ],
   "source": [
    "ssim_tf(GT, reconstruction)\n"
   ]
  }
 ],
 "metadata": {
  "kernelspec": {
   "display_name": "DL_MRI_reconstruction_baselines_2",
   "language": "python",
   "name": "python3"
  },
  "language_info": {
   "codemirror_mode": {
    "name": "ipython",
    "version": 3
   },
   "file_extension": ".py",
   "mimetype": "text/x-python",
   "name": "python",
   "nbconvert_exporter": "python",
   "pygments_lexer": "ipython3",
   "version": "3.6.15"
  }
 },
 "nbformat": 4,
 "nbformat_minor": 2
}
